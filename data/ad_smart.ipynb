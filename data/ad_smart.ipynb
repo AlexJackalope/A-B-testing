{
 "cells": [
  {
   "cell_type": "code",
   "execution_count": null,
   "metadata": {},
   "outputs": [],
   "source": [
    "def print_columns(df):\n",
    "    for c in df.columns:\n",
    "        uniques = df[c].unique()\n",
    "        if len(uniques) < 10:\n",
    "            print(c, uniques)\n",
    "        else:\n",
    "            print(c, 'count:', len(uniques))"
   ]
  },
  {
   "cell_type": "markdown",
   "metadata": {},
   "source": [
    "## Ad-smart"
   ]
  },
  {
   "cell_type": "markdown",
   "metadata": {},
   "source": [
    "Нулевая гипотеза: Нет существенной разницы между показателями успешности рекламы в обеих группах\n",
    "\n",
    "Компания ожидает, что новая рекламная стратегия увеличит успешность рекламы с 45% до 50% (+5pp / +11%) <br>\n",
    "BIO questionnaire\n",
    "\n",
    "Необходимый препроцесс:\n",
    "* удалить неотвеченные\n",
    "* посмотреть на просто средние кол-ва успехов"
   ]
  },
  {
   "cell_type": "markdown",
   "metadata": {},
   "source": [
    "Под вопросом:\n",
    "* EDA (Exploratory Data Analysis) [какой-то отдельный EDA-ноутбук](https://www.kaggle.com/code/faridrizqis/a-b-testing-eda)"
   ]
  },
  {
   "cell_type": "code",
   "execution_count": null,
   "metadata": {},
   "outputs": [
    {
     "data": {
      "text/html": [
       "<div>\n",
       "<style scoped>\n",
       "    .dataframe tbody tr th:only-of-type {\n",
       "        vertical-align: middle;\n",
       "    }\n",
       "\n",
       "    .dataframe tbody tr th {\n",
       "        vertical-align: top;\n",
       "    }\n",
       "\n",
       "    .dataframe thead th {\n",
       "        text-align: right;\n",
       "    }\n",
       "</style>\n",
       "<table border=\"1\" class=\"dataframe\">\n",
       "  <thead>\n",
       "    <tr style=\"text-align: right;\">\n",
       "      <th></th>\n",
       "      <th>auction_id</th>\n",
       "      <th>experiment</th>\n",
       "      <th>date</th>\n",
       "      <th>hour</th>\n",
       "      <th>device_make</th>\n",
       "      <th>platform_os</th>\n",
       "      <th>browser</th>\n",
       "      <th>yes</th>\n",
       "      <th>no</th>\n",
       "    </tr>\n",
       "  </thead>\n",
       "  <tbody>\n",
       "    <tr>\n",
       "      <th>0</th>\n",
       "      <td>0008ef63-77a7-448b-bd1e-075f42c55e39</td>\n",
       "      <td>exposed</td>\n",
       "      <td>2020-07-10</td>\n",
       "      <td>8</td>\n",
       "      <td>Generic Smartphone</td>\n",
       "      <td>6</td>\n",
       "      <td>Chrome Mobile</td>\n",
       "      <td>0</td>\n",
       "      <td>0</td>\n",
       "    </tr>\n",
       "    <tr>\n",
       "      <th>1</th>\n",
       "      <td>000eabc5-17ce-4137-8efe-44734d914446</td>\n",
       "      <td>exposed</td>\n",
       "      <td>2020-07-07</td>\n",
       "      <td>10</td>\n",
       "      <td>Generic Smartphone</td>\n",
       "      <td>6</td>\n",
       "      <td>Chrome Mobile</td>\n",
       "      <td>0</td>\n",
       "      <td>0</td>\n",
       "    </tr>\n",
       "    <tr>\n",
       "      <th>2</th>\n",
       "      <td>0016d14a-ae18-4a02-a204-6ba53b52f2ed</td>\n",
       "      <td>exposed</td>\n",
       "      <td>2020-07-05</td>\n",
       "      <td>2</td>\n",
       "      <td>E5823</td>\n",
       "      <td>6</td>\n",
       "      <td>Chrome Mobile WebView</td>\n",
       "      <td>0</td>\n",
       "      <td>1</td>\n",
       "    </tr>\n",
       "    <tr>\n",
       "      <th>3</th>\n",
       "      <td>00187412-2932-4542-a8ef-3633901c98d9</td>\n",
       "      <td>control</td>\n",
       "      <td>2020-07-03</td>\n",
       "      <td>15</td>\n",
       "      <td>Samsung SM-A705FN</td>\n",
       "      <td>6</td>\n",
       "      <td>Facebook</td>\n",
       "      <td>0</td>\n",
       "      <td>0</td>\n",
       "    </tr>\n",
       "    <tr>\n",
       "      <th>4</th>\n",
       "      <td>001a7785-d3fe-4e11-a344-c8735acacc2c</td>\n",
       "      <td>control</td>\n",
       "      <td>2020-07-03</td>\n",
       "      <td>15</td>\n",
       "      <td>Generic Smartphone</td>\n",
       "      <td>6</td>\n",
       "      <td>Chrome Mobile</td>\n",
       "      <td>0</td>\n",
       "      <td>0</td>\n",
       "    </tr>\n",
       "    <tr>\n",
       "      <th>...</th>\n",
       "      <td>...</td>\n",
       "      <td>...</td>\n",
       "      <td>...</td>\n",
       "      <td>...</td>\n",
       "      <td>...</td>\n",
       "      <td>...</td>\n",
       "      <td>...</td>\n",
       "      <td>...</td>\n",
       "      <td>...</td>\n",
       "    </tr>\n",
       "    <tr>\n",
       "      <th>8072</th>\n",
       "      <td>ffea24ec-cec1-43fb-b1d1-8f93828c2be2</td>\n",
       "      <td>exposed</td>\n",
       "      <td>2020-07-05</td>\n",
       "      <td>7</td>\n",
       "      <td>Generic Smartphone</td>\n",
       "      <td>6</td>\n",
       "      <td>Chrome Mobile</td>\n",
       "      <td>0</td>\n",
       "      <td>0</td>\n",
       "    </tr>\n",
       "    <tr>\n",
       "      <th>8073</th>\n",
       "      <td>ffea3210-2c3e-426f-a77d-0aa72e73b20f</td>\n",
       "      <td>control</td>\n",
       "      <td>2020-07-03</td>\n",
       "      <td>15</td>\n",
       "      <td>Generic Smartphone</td>\n",
       "      <td>6</td>\n",
       "      <td>Chrome Mobile</td>\n",
       "      <td>0</td>\n",
       "      <td>0</td>\n",
       "    </tr>\n",
       "    <tr>\n",
       "      <th>8074</th>\n",
       "      <td>ffeaa0f1-1d72-4ba9-afb4-314b3b00a7c7</td>\n",
       "      <td>control</td>\n",
       "      <td>2020-07-04</td>\n",
       "      <td>9</td>\n",
       "      <td>Generic Smartphone</td>\n",
       "      <td>6</td>\n",
       "      <td>Chrome Mobile</td>\n",
       "      <td>0</td>\n",
       "      <td>0</td>\n",
       "    </tr>\n",
       "    <tr>\n",
       "      <th>8075</th>\n",
       "      <td>ffeeed62-3f7c-4a6e-8ba7-95d303d40969</td>\n",
       "      <td>exposed</td>\n",
       "      <td>2020-07-05</td>\n",
       "      <td>15</td>\n",
       "      <td>Samsung SM-A515F</td>\n",
       "      <td>6</td>\n",
       "      <td>Samsung Internet</td>\n",
       "      <td>0</td>\n",
       "      <td>0</td>\n",
       "    </tr>\n",
       "    <tr>\n",
       "      <th>8076</th>\n",
       "      <td>fffbb9ff-568a-41a5-a0c3-6866592f80d8</td>\n",
       "      <td>control</td>\n",
       "      <td>2020-07-10</td>\n",
       "      <td>14</td>\n",
       "      <td>Samsung SM-G960F</td>\n",
       "      <td>6</td>\n",
       "      <td>Facebook</td>\n",
       "      <td>0</td>\n",
       "      <td>0</td>\n",
       "    </tr>\n",
       "  </tbody>\n",
       "</table>\n",
       "<p>8077 rows × 9 columns</p>\n",
       "</div>"
      ],
      "text/plain": [
       "                                auction_id experiment        date  hour  \\\n",
       "0     0008ef63-77a7-448b-bd1e-075f42c55e39    exposed  2020-07-10     8   \n",
       "1     000eabc5-17ce-4137-8efe-44734d914446    exposed  2020-07-07    10   \n",
       "2     0016d14a-ae18-4a02-a204-6ba53b52f2ed    exposed  2020-07-05     2   \n",
       "3     00187412-2932-4542-a8ef-3633901c98d9    control  2020-07-03    15   \n",
       "4     001a7785-d3fe-4e11-a344-c8735acacc2c    control  2020-07-03    15   \n",
       "...                                    ...        ...         ...   ...   \n",
       "8072  ffea24ec-cec1-43fb-b1d1-8f93828c2be2    exposed  2020-07-05     7   \n",
       "8073  ffea3210-2c3e-426f-a77d-0aa72e73b20f    control  2020-07-03    15   \n",
       "8074  ffeaa0f1-1d72-4ba9-afb4-314b3b00a7c7    control  2020-07-04     9   \n",
       "8075  ffeeed62-3f7c-4a6e-8ba7-95d303d40969    exposed  2020-07-05    15   \n",
       "8076  fffbb9ff-568a-41a5-a0c3-6866592f80d8    control  2020-07-10    14   \n",
       "\n",
       "             device_make  platform_os                browser  yes  no  \n",
       "0     Generic Smartphone            6          Chrome Mobile    0   0  \n",
       "1     Generic Smartphone            6          Chrome Mobile    0   0  \n",
       "2                  E5823            6  Chrome Mobile WebView    0   1  \n",
       "3      Samsung SM-A705FN            6               Facebook    0   0  \n",
       "4     Generic Smartphone            6          Chrome Mobile    0   0  \n",
       "...                  ...          ...                    ...  ...  ..  \n",
       "8072  Generic Smartphone            6          Chrome Mobile    0   0  \n",
       "8073  Generic Smartphone            6          Chrome Mobile    0   0  \n",
       "8074  Generic Smartphone            6          Chrome Mobile    0   0  \n",
       "8075    Samsung SM-A515F            6       Samsung Internet    0   0  \n",
       "8076    Samsung SM-G960F            6               Facebook    0   0  \n",
       "\n",
       "[8077 rows x 9 columns]"
      ]
     },
     "metadata": {},
     "output_type": "display_data"
    }
   ],
   "source": [
    "# https://www.kaggle.com/datasets/osuolaleemmanuel/ad-ab-testing\n",
    "data = pd.read_csv(\"./ad_smart.csv\")\n",
    "data"
   ]
  },
  {
   "cell_type": "code",
   "execution_count": null,
   "metadata": {},
   "outputs": [
    {
     "data": {
      "text/plain": [
       "(657, 586)"
      ]
     },
     "metadata": {},
     "output_type": "display_data"
    }
   ],
   "source": [
    "clicked = data[(data.yes != 0) | (data.no != 0)]\n",
    "len(clicked[clicked.experiment == 'exposed']), len(clicked[clicked.experiment == 'control'])"
   ]
  },
  {
   "cell_type": "code",
   "execution_count": null,
   "metadata": {},
   "outputs": [
    {
     "data": {
      "text/html": [
       "<div>\n",
       "<style scoped>\n",
       "    .dataframe tbody tr th:only-of-type {\n",
       "        vertical-align: middle;\n",
       "    }\n",
       "\n",
       "    .dataframe tbody tr th {\n",
       "        vertical-align: top;\n",
       "    }\n",
       "\n",
       "    .dataframe thead th {\n",
       "        text-align: right;\n",
       "    }\n",
       "</style>\n",
       "<table border=\"1\" class=\"dataframe\">\n",
       "  <thead>\n",
       "    <tr style=\"text-align: right;\">\n",
       "      <th></th>\n",
       "      <th>count</th>\n",
       "      <th>median</th>\n",
       "      <th>max</th>\n",
       "      <th>mean</th>\n",
       "      <th>var</th>\n",
       "      <th>std</th>\n",
       "      <th>cv</th>\n",
       "    </tr>\n",
       "    <tr>\n",
       "      <th>experiment</th>\n",
       "      <th></th>\n",
       "      <th></th>\n",
       "      <th></th>\n",
       "      <th></th>\n",
       "      <th></th>\n",
       "      <th></th>\n",
       "      <th></th>\n",
       "    </tr>\n",
       "  </thead>\n",
       "  <tbody>\n",
       "    <tr>\n",
       "      <th>control</th>\n",
       "      <td>586</td>\n",
       "      <td>0.0</td>\n",
       "      <td>1</td>\n",
       "      <td>0.450512</td>\n",
       "      <td>0.247974</td>\n",
       "      <td>0.497970</td>\n",
       "      <td>110.534245</td>\n",
       "    </tr>\n",
       "    <tr>\n",
       "      <th>exposed</th>\n",
       "      <td>657</td>\n",
       "      <td>0.0</td>\n",
       "      <td>1</td>\n",
       "      <td>0.468798</td>\n",
       "      <td>0.249406</td>\n",
       "      <td>0.499406</td>\n",
       "      <td>106.529066</td>\n",
       "    </tr>\n",
       "  </tbody>\n",
       "</table>\n",
       "</div>"
      ],
      "text/plain": [
       "            count  median  max      mean       var       std          cv\n",
       "experiment                                                              \n",
       "control       586     0.0    1  0.450512  0.247974  0.497970  110.534245\n",
       "exposed       657     0.0    1  0.468798  0.249406  0.499406  106.529066"
      ]
     },
     "metadata": {},
     "output_type": "display_data"
    }
   ],
   "source": [
    "def cv(x):\n",
    "    return np.std(x, ddof=1) / np.mean(x) * 100 \n",
    "\n",
    "clicked.groupby(\"experiment\").yes.agg([\"count\", \"median\", \"max\", \"mean\", \"var\", \"std\", cv])"
   ]
  },
  {
   "cell_type": "code",
   "execution_count": null,
   "metadata": {},
   "outputs": [
    {
     "name": "stdout",
     "output_type": "stream",
     "text": [
      "auction_id count: 8077\n",
      "experiment ['exposed' 'control']\n",
      "date ['2020-07-10' '2020-07-07' '2020-07-05' '2020-07-03' '2020-07-09'\n",
      " '2020-07-04' '2020-07-06' '2020-07-08']\n",
      "hour count: 24\n",
      "device_make count: 269\n",
      "platform_os [6 5 7]\n",
      "browser count: 15\n",
      "yes [0 1]\n",
      "no [0 1]\n"
     ]
    }
   ],
   "source": [
    "print_columns(data)"
   ]
  },
  {
   "cell_type": "markdown",
   "metadata": {},
   "source": [
    "### MDE"
   ]
  },
  {
   "cell_type": "code",
   "execution_count": null,
   "metadata": {},
   "outputs": [],
   "source": [
    "power=0.8\n",
    "alpha=0.05\n",
    "MDE = 0.05\n",
    "baseline_rate = round(clicked[clicked.experiment == 'control'].yes.mean(), 2)\n",
    "effect_size = sms.proportion_effectsize(baseline_rate, baseline_rate + MDE)"
   ]
  },
  {
   "cell_type": "code",
   "execution_count": null,
   "metadata": {},
   "outputs": [
    {
     "data": {
      "text/plain": [
       "(0.45, -0.10016742116155997)"
      ]
     },
     "metadata": {},
     "output_type": "display_data"
    }
   ],
   "source": [
    "baseline_rate, effect_size"
   ]
  },
  {
   "cell_type": "markdown",
   "metadata": {},
   "source": [
    "[Proportion effect size](https://www.statsmodels.org/stable/generated/statsmodels.stats.proportion.proportion_effectsize.html)\n",
    "\n",
    "$2 * (arcsin(\\sqrt{prop1}) - arcsin(\\sqrt{prop2}))$\n",
    "\n",
    "Fits [power](https://www.statmethods.net/stats/power.html)"
   ]
  },
  {
   "cell_type": "code",
   "execution_count": null,
   "metadata": {},
   "outputs": [
    {
     "data": {
      "text/plain": [
       "1565.0"
      ]
     },
     "metadata": {},
     "output_type": "display_data"
    }
   ],
   "source": [
    "import numpy as np\n",
    "\n",
    "n = np.ceil(sms.NormalIndPower().solve_power(effect_size, power=power, alpha=alpha, ratio=1))\n",
    "n"
   ]
  },
  {
   "cell_type": "code",
   "execution_count": null,
   "metadata": {},
   "outputs": [],
   "source": [
    "from statsmodels.stats.proportion import proportions_ztest, proportion_confint"
   ]
  },
  {
   "cell_type": "code",
   "execution_count": null,
   "metadata": {},
   "outputs": [
    {
     "data": {
      "text/plain": [
       "(-0.645680181221037, 0.5184864982198968)"
      ]
     },
     "metadata": {},
     "output_type": "display_data"
    }
   ],
   "source": [
    "ad_succes_count = [clicked[clicked.experiment == 'control'].yes.sum(), clicked[clicked.experiment == 'exposed'].yes.sum()]\n",
    "obs_count = [len(clicked[clicked.experiment == 'control']), len(clicked[clicked.experiment == 'exposed'])]\n",
    "z_stat, pval = proportions_ztest(ad_succes_count, nobs=obs_count)\n",
    "(l_ci_con, l_ci_exp), (u_ci_con, u_ci_exp) = proportion_confint(ad_succes_count, nobs=obs_count, alpha=0.05)\n",
    "z_stat, pval"
   ]
  },
  {
   "cell_type": "code",
   "execution_count": null,
   "metadata": {},
   "outputs": [
    {
     "data": {
      "text/plain": [
       "((0.41022804009945923, 0.430639344615768),\n",
       " (0.49079585068552367, 0.5069557847601832))"
      ]
     },
     "metadata": {},
     "output_type": "display_data"
    }
   ],
   "source": [
    "(l_ci_con, l_ci_exp), (u_ci_con, u_ci_exp)"
   ]
  },
  {
   "cell_type": "markdown",
   "metadata": {},
   "source": [
    "Статистическое заключение¶\n",
    "Полученное p-значение для 'ad_success' (0,5185) значительно превышает установленный порог (95%, α=0,05), поэтому мы не можем отвергнуть нулевую гипотезу (Hₒ: p = pₒ), которая гласит, что между двумя группами нет существенной разницы.\n",
    "После удаления из набора данных наблюдений с отсутствием ответов (оба столбца \"да\" и \"нет\" == 0) осталось 1243 наблюдения (-6834 наблюдений / -84,61 %). Такая значительная потеря данных приводит к недостатку наблюдений для обнаружения значимых различий."
   ]
  },
  {
   "cell_type": "markdown",
   "metadata": {},
   "source": [
    "### P-values graph"
   ]
  },
  {
   "cell_type": "code",
   "execution_count": null,
   "metadata": {},
   "outputs": [],
   "source": [
    "min_c = min(obs_count[0], obs_count[1])\n",
    "a_size = 0\n",
    "sizes = []\n",
    "pvals = []\n",
    "for i in range(min_c):\n",
    "    a_size = min(a_size + 1, obs_count[0])\n",
    "    b_size = min(a_size, obs_count[1])\n",
    "    a_sample = clicked[clicked.experiment == 'control'][:a_size]\n",
    "    b_sample = clicked[clicked.experiment == 'exposed'][:b_size]\n",
    "    sizes.append(a_size)\n",
    "    ad_succes_count = [a_sample.yes.sum(), b_sample.yes.sum()]\n",
    "    pvals.append(proportions_ztest(ad_succes_count, nobs=[a_size, a_size])[1])"
   ]
  },
  {
   "cell_type": "code",
   "execution_count": null,
   "metadata": {},
   "outputs": [],
   "source": [
    "import matplotlib.pyplot as plt"
   ]
  },
  {
   "cell_type": "code",
   "execution_count": null,
   "metadata": {},
   "outputs": [
    {
     "data": {
      "image/png": "[encoded data removed]",
      "text/plain": [
       "<Figure size 640x480 with 1 Axes>"
      ]
     },
     "metadata": {},
     "output_type": "display_data"
    }
   ],
   "source": [
    "plt.plot(sizes, pvals)\n",
    "plt.axhline(y=0.05, color='r')\n",
    "plt.show()"
   ]
  }
 ],
 "metadata": {
  "language_info": {
   "name": "python"
  }
 },
 "nbformat": 4,
 "nbformat_minor": 2
}
