{
 "cells": [
  {
   "cell_type": "code",
   "execution_count": 1,
   "metadata": {},
   "outputs": [
    {
     "name": "stderr",
     "output_type": "stream",
     "text": [
      "C:\\Users\\Alexandra\\AppData\\Local\\Temp\\ipykernel_13276\\4080736814.py:1: DeprecationWarning: \n",
      "Pyarrow will become a required dependency of pandas in the next major release of pandas (pandas 3.0),\n",
      "(to allow more performant data types, such as the Arrow string type, and better interoperability with other libraries)\n",
      "but was not found to be installed on your system.\n",
      "If this would cause problems for you,\n",
      "please provide us feedback at https://github.com/pandas-dev/pandas/issues/54466\n",
      "        \n",
      "  import pandas as pd\n"
     ]
    }
   ],
   "source": [
    "import pandas as pd\n",
    "import numpy as np"
   ]
  },
  {
   "cell_type": "markdown",
   "metadata": {},
   "source": [
    "### Бутстрап"
   ]
  },
  {
   "cell_type": "markdown",
   "metadata": {},
   "source": [
    "Задача: магазин хочет склонить покупателей к скачиванию мобильного приложения. В качестве эксперимента форму для получения ссылки заменили на кнопку, ведущую в AppStore. На серверах с ID 2 и 3 осталась контрольная версия с формой, на сервере с ID 1 — версия с кнопкой. Проверить, есть ли значимые изменения в средней доле переходов к скачиванию (`VisitPageFlag`)"
   ]
  },
  {
   "cell_type": "code",
   "execution_count": 9,
   "metadata": {},
   "outputs": [
    {
     "data": {
      "text/html": [
       "<div>\n",
       "<style scoped>\n",
       "    .dataframe tbody tr th:only-of-type {\n",
       "        vertical-align: middle;\n",
       "    }\n",
       "\n",
       "    .dataframe tbody tr th {\n",
       "        vertical-align: top;\n",
       "    }\n",
       "\n",
       "    .dataframe thead th {\n",
       "        text-align: right;\n",
       "    }\n",
       "</style>\n",
       "<table border=\"1\" class=\"dataframe\">\n",
       "  <thead>\n",
       "    <tr style=\"text-align: right;\">\n",
       "      <th></th>\n",
       "      <th>RecordID</th>\n",
       "      <th>IP Address</th>\n",
       "      <th>LoggedInFlag</th>\n",
       "      <th>ServerID</th>\n",
       "      <th>VisitPageFlag</th>\n",
       "    </tr>\n",
       "  </thead>\n",
       "  <tbody>\n",
       "    <tr>\n",
       "      <th>0</th>\n",
       "      <td>1</td>\n",
       "      <td>39.13.114.2</td>\n",
       "      <td>1</td>\n",
       "      <td>2</td>\n",
       "      <td>0</td>\n",
       "    </tr>\n",
       "    <tr>\n",
       "      <th>1</th>\n",
       "      <td>2</td>\n",
       "      <td>13.3.25.8</td>\n",
       "      <td>1</td>\n",
       "      <td>1</td>\n",
       "      <td>0</td>\n",
       "    </tr>\n",
       "    <tr>\n",
       "      <th>2</th>\n",
       "      <td>3</td>\n",
       "      <td>247.8.211.8</td>\n",
       "      <td>1</td>\n",
       "      <td>1</td>\n",
       "      <td>0</td>\n",
       "    </tr>\n",
       "    <tr>\n",
       "      <th>3</th>\n",
       "      <td>4</td>\n",
       "      <td>124.8.220.3</td>\n",
       "      <td>0</td>\n",
       "      <td>3</td>\n",
       "      <td>0</td>\n",
       "    </tr>\n",
       "    <tr>\n",
       "      <th>4</th>\n",
       "      <td>5</td>\n",
       "      <td>60.10.192.7</td>\n",
       "      <td>0</td>\n",
       "      <td>2</td>\n",
       "      <td>0</td>\n",
       "    </tr>\n",
       "    <tr>\n",
       "      <th>...</th>\n",
       "      <td>...</td>\n",
       "      <td>...</td>\n",
       "      <td>...</td>\n",
       "      <td>...</td>\n",
       "      <td>...</td>\n",
       "    </tr>\n",
       "    <tr>\n",
       "      <th>184583</th>\n",
       "      <td>184584</td>\n",
       "      <td>114.8.104.1</td>\n",
       "      <td>0</td>\n",
       "      <td>1</td>\n",
       "      <td>0</td>\n",
       "    </tr>\n",
       "    <tr>\n",
       "      <th>184584</th>\n",
       "      <td>184585</td>\n",
       "      <td>207.2.110.5</td>\n",
       "      <td>0</td>\n",
       "      <td>2</td>\n",
       "      <td>1</td>\n",
       "    </tr>\n",
       "    <tr>\n",
       "      <th>184585</th>\n",
       "      <td>184586</td>\n",
       "      <td>170.13.31.9</td>\n",
       "      <td>0</td>\n",
       "      <td>2</td>\n",
       "      <td>0</td>\n",
       "    </tr>\n",
       "    <tr>\n",
       "      <th>184586</th>\n",
       "      <td>184587</td>\n",
       "      <td>195.14.92.3</td>\n",
       "      <td>0</td>\n",
       "      <td>3</td>\n",
       "      <td>0</td>\n",
       "    </tr>\n",
       "    <tr>\n",
       "      <th>184587</th>\n",
       "      <td>184588</td>\n",
       "      <td>172.12.115.8</td>\n",
       "      <td>0</td>\n",
       "      <td>2</td>\n",
       "      <td>1</td>\n",
       "    </tr>\n",
       "  </tbody>\n",
       "</table>\n",
       "<p>184588 rows × 5 columns</p>\n",
       "</div>"
      ],
      "text/plain": [
       "        RecordID    IP Address  LoggedInFlag  ServerID  VisitPageFlag\n",
       "0              1   39.13.114.2             1         2              0\n",
       "1              2     13.3.25.8             1         1              0\n",
       "2              3   247.8.211.8             1         1              0\n",
       "3              4   124.8.220.3             0         3              0\n",
       "4              5   60.10.192.7             0         2              0\n",
       "...          ...           ...           ...       ...            ...\n",
       "184583    184584   114.8.104.1             0         1              0\n",
       "184584    184585   207.2.110.5             0         2              1\n",
       "184585    184586   170.13.31.9             0         2              0\n",
       "184586    184587   195.14.92.3             0         3              0\n",
       "184587    184588  172.12.115.8             0         2              1\n",
       "\n",
       "[184588 rows x 5 columns]"
      ]
     },
     "execution_count": 9,
     "metadata": {},
     "output_type": "execute_result"
    }
   ],
   "source": [
    "grocery_data = pd.read_csv(\"../data/grocery_website.csv\")\n",
    "grocery_data.drop(columns=['LoggedInFlag'])\n",
    "grocery_data"
   ]
  },
  {
   "cell_type": "markdown",
   "metadata": {},
   "source": [
    "Некоторые пользователи (идентифицируем их по IP-адресу) заходили на сайт несколько раз, удалите дубликаты пользователей и для каждого заполните `VisitPageFlag=1`, если хотя бы раз для него встречалось значение 1"
   ]
  },
  {
   "cell_type": "code",
   "execution_count": 10,
   "metadata": {},
   "outputs": [
    {
     "data": {
      "text/html": [
       "<div>\n",
       "<style scoped>\n",
       "    .dataframe tbody tr th:only-of-type {\n",
       "        vertical-align: middle;\n",
       "    }\n",
       "\n",
       "    .dataframe tbody tr th {\n",
       "        vertical-align: top;\n",
       "    }\n",
       "\n",
       "    .dataframe thead th {\n",
       "        text-align: right;\n",
       "    }\n",
       "</style>\n",
       "<table border=\"1\" class=\"dataframe\">\n",
       "  <thead>\n",
       "    <tr style=\"text-align: right;\">\n",
       "      <th></th>\n",
       "      <th>IP Address</th>\n",
       "      <th>ServerID</th>\n",
       "      <th>VisitPageFlag</th>\n",
       "    </tr>\n",
       "  </thead>\n",
       "  <tbody>\n",
       "    <tr>\n",
       "      <th>0</th>\n",
       "      <td>0.0.108.2</td>\n",
       "      <td>1</td>\n",
       "      <td>0</td>\n",
       "    </tr>\n",
       "    <tr>\n",
       "      <th>1</th>\n",
       "      <td>0.0.109.6</td>\n",
       "      <td>1</td>\n",
       "      <td>0</td>\n",
       "    </tr>\n",
       "    <tr>\n",
       "      <th>2</th>\n",
       "      <td>0.0.111.8</td>\n",
       "      <td>3</td>\n",
       "      <td>0</td>\n",
       "    </tr>\n",
       "    <tr>\n",
       "      <th>3</th>\n",
       "      <td>0.0.160.9</td>\n",
       "      <td>2</td>\n",
       "      <td>0</td>\n",
       "    </tr>\n",
       "    <tr>\n",
       "      <th>4</th>\n",
       "      <td>0.0.163.1</td>\n",
       "      <td>2</td>\n",
       "      <td>0</td>\n",
       "    </tr>\n",
       "    <tr>\n",
       "      <th>...</th>\n",
       "      <td>...</td>\n",
       "      <td>...</td>\n",
       "      <td>...</td>\n",
       "    </tr>\n",
       "    <tr>\n",
       "      <th>99511</th>\n",
       "      <td>99.9.53.7</td>\n",
       "      <td>2</td>\n",
       "      <td>0</td>\n",
       "    </tr>\n",
       "    <tr>\n",
       "      <th>99512</th>\n",
       "      <td>99.9.65.2</td>\n",
       "      <td>2</td>\n",
       "      <td>0</td>\n",
       "    </tr>\n",
       "    <tr>\n",
       "      <th>99513</th>\n",
       "      <td>99.9.79.6</td>\n",
       "      <td>2</td>\n",
       "      <td>0</td>\n",
       "    </tr>\n",
       "    <tr>\n",
       "      <th>99514</th>\n",
       "      <td>99.9.86.3</td>\n",
       "      <td>1</td>\n",
       "      <td>1</td>\n",
       "    </tr>\n",
       "    <tr>\n",
       "      <th>99515</th>\n",
       "      <td>99.9.86.9</td>\n",
       "      <td>1</td>\n",
       "      <td>0</td>\n",
       "    </tr>\n",
       "  </tbody>\n",
       "</table>\n",
       "<p>99516 rows × 3 columns</p>\n",
       "</div>"
      ],
      "text/plain": [
       "      IP Address  ServerID  VisitPageFlag\n",
       "0      0.0.108.2         1              0\n",
       "1      0.0.109.6         1              0\n",
       "2      0.0.111.8         3              0\n",
       "3      0.0.160.9         2              0\n",
       "4      0.0.163.1         2              0\n",
       "...          ...       ...            ...\n",
       "99511  99.9.53.7         2              0\n",
       "99512  99.9.65.2         2              0\n",
       "99513  99.9.79.6         2              0\n",
       "99514  99.9.86.3         1              1\n",
       "99515  99.9.86.9         1              0\n",
       "\n",
       "[99516 rows x 3 columns]"
      ]
     },
     "execution_count": 10,
     "metadata": {},
     "output_type": "execute_result"
    }
   ],
   "source": [
    "### ╰( ͡° ͜ʖ ͡° )つ──☆*:・ﾟ\n",
    "grocery_data = grocery_data.groupby([\"IP Address\", \"ServerID\"])[\"VisitPageFlag\"].max().reset_index()\n",
    "grocery_data"
   ]
  },
  {
   "cell_type": "markdown",
   "metadata": {},
   "source": [
    "Метрика: отношение количества посещений сайта с `VisitPageFlag=1` к общему количеству посещений.<br>\n",
    "Для обеих групп сгенерируйте бутстрапированное распределение разностей значения метрик для групп A и B. Не забудьте скорректировать значения и внимательно следите за тем, в какую сторону корректируете."
   ]
  },
  {
   "cell_type": "code",
   "execution_count": 109,
   "metadata": {},
   "outputs": [
    {
     "name": "stderr",
     "output_type": "stream",
     "text": [
      "100%|██████████| 3000/3000 [04:38<00:00, 10.79it/s]\n"
     ]
    }
   ],
   "source": [
    "iterations = 3000\n",
    "A = grocery_data[grocery_data.ServerID > 1]\n",
    "B = grocery_data[grocery_data.ServerID == 1]\n",
    "\n",
    "### ╰( ͡° ͜ʖ ͡° )つ──☆*:・ﾟ\n",
    "from tqdm import tqdm\n",
    "\n",
    "a_entries = len(A)\n",
    "b_entries = len(B)\n",
    "boot_data = []\n",
    "for i in tqdm(range(iterations)):\n",
    "    a_sample = A.sample(frac = 1, replace = True).VisitPageFlag\n",
    "    b_sample = B.sample(frac = 1, replace = True).VisitPageFlag\n",
    "    boot_data.append(b_sample.sum() / b_entries - a_sample.sum() / a_entries)\n",
    "\n",
    "orig_theta = B.VisitPageFlag.sum() / b_entries - A.VisitPageFlag.sum() / a_entries\n",
    "boot_theta = np.mean(boot_data)\n",
    "delta_val = orig_theta - boot_theta\n",
    "boot_corrected = [i + delta_val for i in boot_data]"
   ]
  },
  {
   "cell_type": "markdown",
   "metadata": {},
   "source": [
    "Найдите границы доверительного интервала и проверьте, значима ли разница значений метрик для A и B (находится ли 0 за пределами интервала)"
   ]
  },
  {
   "cell_type": "code",
   "execution_count": 110,
   "metadata": {},
   "outputs": [
    {
     "data": {
      "text/plain": [
       "(0.019320276519543916, 0.027116081964636277)"
      ]
     },
     "execution_count": 110,
     "metadata": {},
     "output_type": "execute_result"
    }
   ],
   "source": [
    "alpha = 0.05\n",
    "\n",
    "### ╰( ͡° ͜ʖ ͡° )つ──☆*:・ﾟ\n",
    "result_series = pd.Series(boot_corrected)\n",
    "left_ci = np.quantile(result_series, alpha / 2)\n",
    "right_ci = np.quantile(result_series, 1 - alpha / 2)\n",
    "left_ci, right_ci"
   ]
  },
  {
   "cell_type": "markdown",
   "metadata": {},
   "source": [
    "Вычислите среднее значение скорректированной разности, нам понадобится его запомнить:"
   ]
  },
  {
   "cell_type": "code",
   "execution_count": 111,
   "metadata": {},
   "outputs": [
    {
     "data": {
      "text/plain": [
       "0.02328062704837657"
      ]
     },
     "execution_count": 111,
     "metadata": {},
     "output_type": "execute_result"
    }
   ],
   "source": [
    "### ╰( ͡° ͜ʖ ͡° )つ──☆*:・ﾟ\n",
    "result_series.mean()"
   ]
  },
  {
   "cell_type": "markdown",
   "metadata": {},
   "source": [
    "### Бакетизация\n",
    "\n",
    "Бутстрапирование на большом объёме данных может происходить очень долго.<br>\n",
    "* Присвойте каждой записи один из `buckets_count` индексов\n",
    "* Сгруппируйте в бакеты записи с одинаковыми индексами и группами эксперимента (A/B)\n",
    "* Для каждого бакета посчитайте сумму `VisitPageFlag` и количество записей"
   ]
  },
  {
   "cell_type": "code",
   "execution_count": 42,
   "metadata": {},
   "outputs": [],
   "source": [
    "buckets_count = 5000\n",
    "\n",
    "### ╰( ͡° ͜ʖ ͡° )つ──☆*:・ﾟ\n",
    "bucket = np.random.randint(0, buckets_count, size=len(grocery_data))\n",
    "grocery_data['bucket'] = pd.Series(bucket)\n",
    "bucketed_A = grocery_data[grocery_data.ServerID > 1]\n",
    "bucketed_B = grocery_data[grocery_data.ServerID == 1] "
   ]
  },
  {
   "cell_type": "code",
   "execution_count": 99,
   "metadata": {},
   "outputs": [],
   "source": [
    "def get_bucket_values(bucketed):\n",
    "    buckets_sum = pd.Series(bucketed.groupby('bucket').VisitPageFlag.sum()).rename('sum')\n",
    "    buckets_count = pd.Series(bucketed.groupby('bucket').VisitPageFlag.count()).rename('count')\n",
    "    buckets = pd.concat([buckets_sum, buckets_count], axis=1)\n",
    "    return buckets[buckets['count'] > 0]\n",
    "\n",
    "buckets_A = get_bucket_values(bucketed_A)\n",
    "buckets_B = get_bucket_values(bucketed_B)"
   ]
  },
  {
   "cell_type": "markdown",
   "metadata": {},
   "source": [
    "Теперь на полученных выборках повторите процедуру бутстрапа."
   ]
  },
  {
   "cell_type": "code",
   "execution_count": 112,
   "metadata": {},
   "outputs": [
    {
     "name": "stderr",
     "output_type": "stream",
     "text": [
      "100%|██████████| 3000/3000 [00:30<00:00, 97.92it/s] \n"
     ]
    }
   ],
   "source": [
    "iterations = 3000\n",
    "\n",
    "### ╰( ͡° ͜ʖ ͡° )つ──☆*:・ﾟ\n",
    "bucket_boot_data = []\n",
    "for i in tqdm(range(iterations)):\n",
    "    a_sample = buckets_A.sample(frac = 1, replace = True)\n",
    "    b_sample = buckets_B.sample(frac = 1, replace = True)\n",
    "    bucket_boot_data.append(b_sample['sum'].sum() / b_sample['count'].sum() - a_sample['sum'].sum() / a_sample['count'].sum())"
   ]
  },
  {
   "cell_type": "markdown",
   "metadata": {},
   "source": [
    "Скорректируйте значения, возьмите среднее и сравните с результатом до бакетизации.<br>"
   ]
  },
  {
   "cell_type": "code",
   "execution_count": 118,
   "metadata": {},
   "outputs": [
    {
     "data": {
      "text/plain": [
       "0.023280627048376565"
      ]
     },
     "execution_count": 118,
     "metadata": {},
     "output_type": "execute_result"
    }
   ],
   "source": [
    "### ╰( ͡° ͜ʖ ͡° )つ──☆*:・ﾟ\n",
    "boot_theta = np.mean(bucket_boot_data)\n",
    "delta_val = orig_theta - boot_theta\n",
    "bucket_boot_corrected = [i + delta_val for i in bucket_boot_data]\n",
    "np.mean(bucket_boot_corrected)"
   ]
  },
  {
   "cell_type": "markdown",
   "metadata": {},
   "source": [
    "Какой можно сделать вывод? Подтверждена или опровергнута $H_0$?"
   ]
  },
  {
   "cell_type": "markdown",
   "metadata": {},
   "source": [
    "### ╰( ͡° ͜ʖ ͡° )つ──☆*:・ﾟ"
   ]
  }
 ],
 "metadata": {
  "kernelspec": {
   "display_name": ".venv",
   "language": "python",
   "name": "python3"
  },
  "language_info": {
   "codemirror_mode": {
    "name": "ipython",
    "version": 3
   },
   "file_extension": ".py",
   "mimetype": "text/x-python",
   "name": "python",
   "nbconvert_exporter": "python",
   "pygments_lexer": "ipython3",
   "version": "3.9.7"
  }
 },
 "nbformat": 4,
 "nbformat_minor": 2
}
