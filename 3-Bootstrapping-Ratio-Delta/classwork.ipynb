{
 "cells": [
  {
   "cell_type": "markdown",
   "metadata": {},
   "source": [
    "Bootstrapping"
   ]
  },
  {
   "cell_type": "code",
   "execution_count": 2,
   "metadata": {},
   "outputs": [
    {
     "name": "stderr",
     "output_type": "stream",
     "text": [
      "C:\\Users\\Alexandra\\AppData\\Local\\Temp\\ipykernel_13548\\1492400551.py:1: DeprecationWarning: \n",
      "Pyarrow will become a required dependency of pandas in the next major release of pandas (pandas 3.0),\n",
      "(to allow more performant data types, such as the Arrow string type, and better interoperability with other libraries)\n",
      "but was not found to be installed on your system.\n",
      "If this would cause problems for you,\n",
      "please provide us feedback at https://github.com/pandas-dev/pandas/issues/54466\n",
      "        \n",
      "  import pandas as pd\n"
     ]
    }
   ],
   "source": [
    "import numpy as np\n",
    "import pandas as pd\n",
    "from scipy.stats import norm\n",
    "import matplotlib.pyplot as plt"
   ]
  },
  {
   "cell_type": "code",
   "execution_count": 3,
   "metadata": {},
   "outputs": [
    {
     "data": {
      "text/html": [
       "<div>\n",
       "<style scoped>\n",
       "    .dataframe tbody tr th:only-of-type {\n",
       "        vertical-align: middle;\n",
       "    }\n",
       "\n",
       "    .dataframe tbody tr th {\n",
       "        vertical-align: top;\n",
       "    }\n",
       "\n",
       "    .dataframe thead th {\n",
       "        text-align: right;\n",
       "    }\n",
       "</style>\n",
       "<table border=\"1\" class=\"dataframe\">\n",
       "  <thead>\n",
       "    <tr style=\"text-align: right;\">\n",
       "      <th></th>\n",
       "      <th>userid</th>\n",
       "      <th>version</th>\n",
       "      <th>sum_gamerounds</th>\n",
       "      <th>retention_1</th>\n",
       "      <th>retention_7</th>\n",
       "    </tr>\n",
       "  </thead>\n",
       "  <tbody>\n",
       "    <tr>\n",
       "      <th>0</th>\n",
       "      <td>116</td>\n",
       "      <td>gate_30</td>\n",
       "      <td>3</td>\n",
       "      <td>False</td>\n",
       "      <td>False</td>\n",
       "    </tr>\n",
       "    <tr>\n",
       "      <th>1</th>\n",
       "      <td>337</td>\n",
       "      <td>gate_30</td>\n",
       "      <td>38</td>\n",
       "      <td>True</td>\n",
       "      <td>False</td>\n",
       "    </tr>\n",
       "    <tr>\n",
       "      <th>2</th>\n",
       "      <td>377</td>\n",
       "      <td>gate_40</td>\n",
       "      <td>165</td>\n",
       "      <td>True</td>\n",
       "      <td>False</td>\n",
       "    </tr>\n",
       "    <tr>\n",
       "      <th>3</th>\n",
       "      <td>483</td>\n",
       "      <td>gate_40</td>\n",
       "      <td>1</td>\n",
       "      <td>False</td>\n",
       "      <td>False</td>\n",
       "    </tr>\n",
       "    <tr>\n",
       "      <th>4</th>\n",
       "      <td>488</td>\n",
       "      <td>gate_40</td>\n",
       "      <td>179</td>\n",
       "      <td>True</td>\n",
       "      <td>True</td>\n",
       "    </tr>\n",
       "    <tr>\n",
       "      <th>...</th>\n",
       "      <td>...</td>\n",
       "      <td>...</td>\n",
       "      <td>...</td>\n",
       "      <td>...</td>\n",
       "      <td>...</td>\n",
       "    </tr>\n",
       "    <tr>\n",
       "      <th>90184</th>\n",
       "      <td>9999441</td>\n",
       "      <td>gate_40</td>\n",
       "      <td>97</td>\n",
       "      <td>True</td>\n",
       "      <td>False</td>\n",
       "    </tr>\n",
       "    <tr>\n",
       "      <th>90185</th>\n",
       "      <td>9999479</td>\n",
       "      <td>gate_40</td>\n",
       "      <td>30</td>\n",
       "      <td>False</td>\n",
       "      <td>False</td>\n",
       "    </tr>\n",
       "    <tr>\n",
       "      <th>90186</th>\n",
       "      <td>9999710</td>\n",
       "      <td>gate_30</td>\n",
       "      <td>28</td>\n",
       "      <td>True</td>\n",
       "      <td>False</td>\n",
       "    </tr>\n",
       "    <tr>\n",
       "      <th>90187</th>\n",
       "      <td>9999768</td>\n",
       "      <td>gate_40</td>\n",
       "      <td>51</td>\n",
       "      <td>True</td>\n",
       "      <td>False</td>\n",
       "    </tr>\n",
       "    <tr>\n",
       "      <th>90188</th>\n",
       "      <td>9999861</td>\n",
       "      <td>gate_40</td>\n",
       "      <td>16</td>\n",
       "      <td>False</td>\n",
       "      <td>False</td>\n",
       "    </tr>\n",
       "  </tbody>\n",
       "</table>\n",
       "<p>90189 rows × 5 columns</p>\n",
       "</div>"
      ],
      "text/plain": [
       "        userid  version  sum_gamerounds  retention_1  retention_7\n",
       "0          116  gate_30               3        False        False\n",
       "1          337  gate_30              38         True        False\n",
       "2          377  gate_40             165         True        False\n",
       "3          483  gate_40               1        False        False\n",
       "4          488  gate_40             179         True         True\n",
       "...        ...      ...             ...          ...          ...\n",
       "90184  9999441  gate_40              97         True        False\n",
       "90185  9999479  gate_40              30        False        False\n",
       "90186  9999710  gate_30              28         True        False\n",
       "90187  9999768  gate_40              51         True        False\n",
       "90188  9999861  gate_40              16        False        False\n",
       "\n",
       "[90189 rows x 5 columns]"
      ]
     },
     "execution_count": 3,
     "metadata": {},
     "output_type": "execute_result"
    }
   ],
   "source": [
    "data = pd.read_csv(\"../data/cookie_cats.csv\")\n",
    "data"
   ]
  },
  {
   "cell_type": "code",
   "execution_count": 4,
   "metadata": {},
   "outputs": [],
   "source": [
    "gate_30 = data[data.version == 'gate_30']\n",
    "gate_40 = data[data.version == 'gate_40']"
   ]
  },
  {
   "cell_type": "markdown",
   "metadata": {},
   "source": [
    "По существующей выборке берём подвыборки, вычияляем для каждой искомое значение и берём среднее по выборкам"
   ]
  },
  {
   "cell_type": "code",
   "execution_count": 30,
   "metadata": {},
   "outputs": [],
   "source": [
    "def bootstrap_median(dataframe, column, iters, name):\n",
    "    boot_data = []\n",
    "    for i in range(iters):\n",
    "        boot_mean = dataframe.sample(frac = 1, replace = True)[column].mean()\n",
    "        boot_data.append(boot_mean)\n",
    "    return pd.DataFrame(boot_data, columns=[name])\n",
    "\n",
    "iterations = 2000\n",
    "boot_30 = bootstrap_median(gate_30, 'retention_7', iterations, 'gate_30')\n",
    "boot_40 = bootstrap_median(gate_40, 'retention_7', iterations, 'gate_40')\n",
    "boot = boot_30.merge(boot_40, left_index=True, right_index=True)\n",
    "boot['diff'] = boot['gate_30'] - boot['gate_40']"
   ]
  },
  {
   "cell_type": "code",
   "execution_count": 35,
   "metadata": {},
   "outputs": [
    {
     "name": "stdout",
     "output_type": "stream",
     "text": [
      "Gate 30. Original mean: 0.19020134228187918\n",
      "Gate 30. Bootstrap mean: 0.19021829977628635\n",
      "Gate 40. Original mean: 0.18200004396667327\n",
      "Gate 30. Bootstrap mean: 0.18196743168678142\n"
     ]
    }
   ],
   "source": [
    "print('Gate 30. Original mean:', gate_30['retention_7'].mean())\n",
    "print('Gate 30. Bootstrap mean:', boot['gate_30'].mean())\n",
    "print('Gate 40. Original mean:', gate_40['retention_7'].mean())\n",
    "print('Gate 30. Bootstrap mean:', boot['gate_40'].mean())"
   ]
  },
  {
   "cell_type": "code",
   "execution_count": 32,
   "metadata": {},
   "outputs": [
    {
     "data": {
      "text/plain": [
       "<Axes: ylabel='Density'>"
      ]
     },
     "execution_count": 32,
     "metadata": {},
     "output_type": "execute_result"
    },
    {
     "data": {
      "image/png": "[encoded data removed]",
      "text/plain": [
       "<Figure size 1000x400 with 2 Axes>"
      ]
     },
     "metadata": {},
     "output_type": "display_data"
    }
   ],
   "source": [
    "fig, (ax1, ax2) = plt.subplots(1,2, figsize=(10,4))\n",
    "boot[['gate_30', 'gate_40']].plot(kind='density', ax=ax1)\n",
    "boot['diff'].plot(kind='density', ax=ax2)"
   ]
  },
  {
   "cell_type": "code",
   "execution_count": 63,
   "metadata": {},
   "outputs": [
    {
     "data": {
      "text/html": [
       "<div>\n",
       "<style scoped>\n",
       "    .dataframe tbody tr th:only-of-type {\n",
       "        vertical-align: middle;\n",
       "    }\n",
       "\n",
       "    .dataframe tbody tr th {\n",
       "        vertical-align: top;\n",
       "    }\n",
       "\n",
       "    .dataframe thead th {\n",
       "        text-align: right;\n",
       "    }\n",
       "</style>\n",
       "<table border=\"1\" class=\"dataframe\">\n",
       "  <thead>\n",
       "    <tr style=\"text-align: right;\">\n",
       "      <th></th>\n",
       "      <th>10</th>\n",
       "      <th>100</th>\n",
       "      <th>1000</th>\n",
       "      <th>10000</th>\n",
       "      <th>40000</th>\n",
       "    </tr>\n",
       "  </thead>\n",
       "  <tbody>\n",
       "    <tr>\n",
       "      <th>retention_7_boot_mean</th>\n",
       "      <td>0.30075</td>\n",
       "      <td>0.180535</td>\n",
       "      <td>0.199855</td>\n",
       "      <td>0.192</td>\n",
       "      <td>0.190096</td>\n",
       "    </tr>\n",
       "    <tr>\n",
       "      <th>retention_7_mean</th>\n",
       "      <td>0.30000</td>\n",
       "      <td>0.180000</td>\n",
       "      <td>0.200000</td>\n",
       "      <td>0.192</td>\n",
       "      <td>0.190150</td>\n",
       "    </tr>\n",
       "    <tr>\n",
       "      <th>sum_gameround_boot_median</th>\n",
       "      <td>46.07300</td>\n",
       "      <td>15.268500</td>\n",
       "      <td>14.913000</td>\n",
       "      <td>16.773</td>\n",
       "      <td>16.985500</td>\n",
       "    </tr>\n",
       "    <tr>\n",
       "      <th>sum_gameround_median</th>\n",
       "      <td>38.50000</td>\n",
       "      <td>14.000000</td>\n",
       "      <td>15.000000</td>\n",
       "      <td>17.000</td>\n",
       "      <td>17.000000</td>\n",
       "    </tr>\n",
       "  </tbody>\n",
       "</table>\n",
       "</div>"
      ],
      "text/plain": [
       "                              10         100        1000    10000      40000\n",
       "retention_7_boot_mean       0.30075   0.180535   0.199855   0.192   0.190096\n",
       "retention_7_mean            0.30000   0.180000   0.200000   0.192   0.190150\n",
       "sum_gameround_boot_median  46.07300  15.268500  14.913000  16.773  16.985500\n",
       "sum_gameround_median       38.50000  14.000000  15.000000  17.000  17.000000"
      ]
     },
     "execution_count": 63,
     "metadata": {},
     "output_type": "execute_result"
    }
   ],
   "source": [
    "sizes = [10, 100, 1000, 10000, 40000]\n",
    "boot = []\n",
    "\n",
    "for size in sizes:\n",
    "    subframe = gate_30[:size]\n",
    "    retention_mean = []\n",
    "    gamerounds_median = []\n",
    "    for i in range(iterations):\n",
    "        sample = subframe.sample(frac = 1, replace = True)\n",
    "        retention_mean.append(sample['retention_7'].mean())\n",
    "        gamerounds_median.append(sample['sum_gamerounds'].median())\n",
    "    boot.append([np.mean(retention_mean),\n",
    "                 subframe['retention_7'].mean(),\n",
    "                 np.mean(gamerounds_median),\n",
    "                 subframe['sum_gamerounds'].median()])\n",
    "\n",
    "pd.DataFrame(np.array(boot).T, columns=sizes, index=['retention_7_boot_mean', 'retention_7_mean', 'sum_gameround_boot_median', 'sum_gameround_median'])"
   ]
  },
  {
   "cell_type": "markdown",
   "metadata": {},
   "source": [
    "Коррекция смещения (bias correction)"
   ]
  },
  {
   "cell_type": "code",
   "execution_count": 64,
   "metadata": {},
   "outputs": [],
   "source": [
    "def bootstrap_median(dataframe, column, iters, name):\n",
    "    boot_data = []\n",
    "    for i in range(iters):\n",
    "        boot_mean = dataframe.sample(frac = 1, replace = True)[column].median()\n",
    "        boot_data.append(boot_mean)\n",
    "    return pd.DataFrame(boot_data, columns=[name])\n",
    "\n",
    "iterations = 2000\n",
    "boot_30_median = bootstrap_median(gate_30, 'sum_gamerounds', iterations, 'gate_30')\n",
    "boot_40_median = bootstrap_median(gate_40, 'sum_gamerounds', iterations, 'gate_40')\n",
    "boot = boot_30_median.merge(boot_40_median, left_index=True, right_index=True)\n",
    "boot['diff'] = boot['gate_30'] - boot['gate_40']"
   ]
  },
  {
   "cell_type": "code",
   "execution_count": 90,
   "metadata": {},
   "outputs": [],
   "source": [
    "orig_theta = np.median(gate_30['sum_gamerounds'])\n",
    "boot_theta = np.mean(boot_30_median)\n",
    "delta_val = boot_theta - orig_theta"
   ]
  },
  {
   "cell_type": "code",
   "execution_count": 91,
   "metadata": {},
   "outputs": [],
   "source": [
    "#куда?\n",
    "boot_corrected = [i - delta_val for i in boot_30_median['gate_30']] "
   ]
  },
  {
   "cell_type": "code",
   "execution_count": 92,
   "metadata": {},
   "outputs": [
    {
     "data": {
      "text/plain": [
       "(16.95825, 17.000000000000004, 17.0)"
      ]
     },
     "execution_count": 92,
     "metadata": {},
     "output_type": "execute_result"
    }
   ],
   "source": [
    "boot_30_median['gate_30'].mean(), np.mean(boot_corrected), gate_30['sum_gamerounds'].median()"
   ]
  },
  {
   "cell_type": "code",
   "execution_count": 93,
   "metadata": {},
   "outputs": [
    {
     "data": {
      "text/plain": [
       "<Axes: ylabel='Density'>"
      ]
     },
     "execution_count": 93,
     "metadata": {},
     "output_type": "execute_result"
    },
    {
     "data": {
      "image/png": "[encoded data removed]",
      "text/plain": [
       "<Figure size 640x480 with 1 Axes>"
      ]
     },
     "metadata": {},
     "output_type": "display_data"
    }
   ],
   "source": [
    "pd.DataFrame(boot_corrected, columns=['corrected']).merge(boot_30_median, left_index=True, right_index=True).plot(kind='density')"
   ]
  },
  {
   "cell_type": "markdown",
   "metadata": {},
   "source": [
    "Проверка гипотезы"
   ]
  },
  {
   "cell_type": "code",
   "execution_count": 109,
   "metadata": {},
   "outputs": [],
   "source": [
    "boot_data = []\n",
    "\n",
    "for _ in range(iterations):\n",
    "    boot_30 = gate_30.sample(frac = 1, replace = True)['retention_7'].mean()\n",
    "    boot_40 = gate_40.sample(frac = 1, replace = True)['retention_7'].mean()\n",
    "    boot_data.append(boot_30 - boot_40)\n",
    "    # надо вариант с вычислением t на каждой итерации?\n",
    "\n",
    "orig_theta = gate_30['retention_7'].mean() - gate_40['retention_7'].mean()\n",
    "boot_theta = np.mean(boot_data)\n",
    "delta_val = orig_theta - boot_theta\n",
    "boot_corrected = [i + delta_val for i in boot_data]"
   ]
  },
  {
   "cell_type": "code",
   "execution_count": 110,
   "metadata": {},
   "outputs": [
    {
     "data": {
      "text/plain": [
       "(0.008201298315205911, 0.008201298315205913)"
      ]
     },
     "execution_count": 110,
     "metadata": {},
     "output_type": "execute_result"
    }
   ],
   "source": [
    "np.mean(boot_corrected), orig_theta"
   ]
  },
  {
   "cell_type": "code",
   "execution_count": 111,
   "metadata": {},
   "outputs": [
    {
     "data": {
      "text/html": [
       "<div>\n",
       "<style scoped>\n",
       "    .dataframe tbody tr th:only-of-type {\n",
       "        vertical-align: middle;\n",
       "    }\n",
       "\n",
       "    .dataframe tbody tr th {\n",
       "        vertical-align: top;\n",
       "    }\n",
       "\n",
       "    .dataframe thead th {\n",
       "        text-align: right;\n",
       "    }\n",
       "</style>\n",
       "<table border=\"1\" class=\"dataframe\">\n",
       "  <thead>\n",
       "    <tr style=\"text-align: right;\">\n",
       "      <th></th>\n",
       "      <th>0</th>\n",
       "    </tr>\n",
       "  </thead>\n",
       "  <tbody>\n",
       "    <tr>\n",
       "      <th>0.025</th>\n",
       "      <td>0.002979</td>\n",
       "    </tr>\n",
       "    <tr>\n",
       "      <th>0.975</th>\n",
       "      <td>0.013306</td>\n",
       "    </tr>\n",
       "  </tbody>\n",
       "</table>\n",
       "</div>"
      ],
      "text/plain": [
       "              0\n",
       "0.025  0.002979\n",
       "0.975  0.013306"
      ]
     },
     "execution_count": 111,
     "metadata": {},
     "output_type": "execute_result"
    }
   ],
   "source": [
    "alpha = 0.05\n",
    "\n",
    "left_ci = alpha / 2\n",
    "right_ci = 1 - alpha / 2\n",
    "pd.DataFrame(boot_corrected).quantile([left_ci, right_ci])"
   ]
  },
  {
   "cell_type": "code",
   "execution_count": 112,
   "metadata": {},
   "outputs": [
    {
     "data": {
      "text/plain": [
       "0.0016103490372420053"
      ]
     },
     "execution_count": 112,
     "metadata": {},
     "output_type": "execute_result"
    }
   ],
   "source": [
    "mean = np.mean(boot_corrected)\n",
    "std = np.std(boot_corrected)\n",
    "p_1 = norm.cdf(x=0, loc=mean, scale=std)\n",
    "p_2 = norm.cdf(x=0, loc=-mean, scale=std)\n",
    "p_value = min(p_1, p_2) * 2\n",
    "p_value"
   ]
  },
  {
   "cell_type": "code",
   "execution_count": 115,
   "metadata": {},
   "outputs": [
    {
     "data": {
      "text/plain": [
       "<matplotlib.lines.Line2D at 0x1e1ae41c790>"
      ]
     },
     "execution_count": 115,
     "metadata": {},
     "output_type": "execute_result"
    },
    {
     "data": {
      "image/png": "[encoded data removed]",
      "text/plain": [
       "<Figure size 640x480 with 1 Axes>"
      ]
     },
     "metadata": {},
     "output_type": "display_data"
    }
   ],
   "source": [
    "sr = pd.Series(boot_corrected)\n",
    "sr.plot(kind='density')\n",
    "plt.axvline(x=0, color='black', linestyle='--')\n",
    "plt.axvline(x=p_value, color='blue', linestyle='--')\n",
    "plt.axvline(x=sr.quantile(left_ci), color='green', linestyle='--')\n",
    "plt.axvline(x=sr.quantile(right_ci), color='green', linestyle='--')"
   ]
  },
  {
   "cell_type": "code",
   "execution_count": null,
   "metadata": {},
   "outputs": [],
   "source": []
  }
 ],
 "metadata": {
  "kernelspec": {
   "display_name": ".venv",
   "language": "python",
   "name": "python3"
  },
  "language_info": {
   "codemirror_mode": {
    "name": "ipython",
    "version": 3
   },
   "file_extension": ".py",
   "mimetype": "text/x-python",
   "name": "python",
   "nbconvert_exporter": "python",
   "pygments_lexer": "ipython3",
   "version": "3.9.7"
  }
 },
 "nbformat": 4,
 "nbformat_minor": 2
}
