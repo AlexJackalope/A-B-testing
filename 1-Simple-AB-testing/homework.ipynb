{
 "cells": [
  {
   "cell_type": "code",
   "execution_count": null,
   "metadata": {},
   "outputs": [],
   "source": [
    "import pandas as pd\n",
    "import numpy as np\n",
    "import seaborn as sns"
   ]
  },
  {
   "cell_type": "markdown",
   "metadata": {},
   "source": [
    "### Биномиальное распределение"
   ]
  },
  {
   "cell_type": "markdown",
   "metadata": {},
   "source": [
    "Посмотрим на тот же эксперимент, но проанализируем метрику `retention_n` — показатель, продолжал ли пользователь играть в игру на n-й день после скачивания."
   ]
  },
  {
   "cell_type": "code",
   "execution_count": 2,
   "metadata": {},
   "outputs": [
    {
     "data": {
      "text/html": [
       "<div>\n",
       "<style scoped>\n",
       "    .dataframe tbody tr th:only-of-type {\n",
       "        vertical-align: middle;\n",
       "    }\n",
       "\n",
       "    .dataframe tbody tr th {\n",
       "        vertical-align: top;\n",
       "    }\n",
       "\n",
       "    .dataframe thead th {\n",
       "        text-align: right;\n",
       "    }\n",
       "</style>\n",
       "<table border=\"1\" class=\"dataframe\">\n",
       "  <thead>\n",
       "    <tr style=\"text-align: right;\">\n",
       "      <th></th>\n",
       "      <th>version</th>\n",
       "      <th>retention_1</th>\n",
       "      <th>retention_7</th>\n",
       "    </tr>\n",
       "  </thead>\n",
       "  <tbody>\n",
       "    <tr>\n",
       "      <th>0</th>\n",
       "      <td>gate_30</td>\n",
       "      <td>False</td>\n",
       "      <td>False</td>\n",
       "    </tr>\n",
       "    <tr>\n",
       "      <th>1</th>\n",
       "      <td>gate_30</td>\n",
       "      <td>True</td>\n",
       "      <td>False</td>\n",
       "    </tr>\n",
       "    <tr>\n",
       "      <th>2</th>\n",
       "      <td>gate_40</td>\n",
       "      <td>True</td>\n",
       "      <td>False</td>\n",
       "    </tr>\n",
       "    <tr>\n",
       "      <th>3</th>\n",
       "      <td>gate_40</td>\n",
       "      <td>False</td>\n",
       "      <td>False</td>\n",
       "    </tr>\n",
       "    <tr>\n",
       "      <th>4</th>\n",
       "      <td>gate_40</td>\n",
       "      <td>True</td>\n",
       "      <td>True</td>\n",
       "    </tr>\n",
       "    <tr>\n",
       "      <th>...</th>\n",
       "      <td>...</td>\n",
       "      <td>...</td>\n",
       "      <td>...</td>\n",
       "    </tr>\n",
       "    <tr>\n",
       "      <th>90184</th>\n",
       "      <td>gate_40</td>\n",
       "      <td>True</td>\n",
       "      <td>False</td>\n",
       "    </tr>\n",
       "    <tr>\n",
       "      <th>90185</th>\n",
       "      <td>gate_40</td>\n",
       "      <td>False</td>\n",
       "      <td>False</td>\n",
       "    </tr>\n",
       "    <tr>\n",
       "      <th>90186</th>\n",
       "      <td>gate_30</td>\n",
       "      <td>True</td>\n",
       "      <td>False</td>\n",
       "    </tr>\n",
       "    <tr>\n",
       "      <th>90187</th>\n",
       "      <td>gate_40</td>\n",
       "      <td>True</td>\n",
       "      <td>False</td>\n",
       "    </tr>\n",
       "    <tr>\n",
       "      <th>90188</th>\n",
       "      <td>gate_40</td>\n",
       "      <td>False</td>\n",
       "      <td>False</td>\n",
       "    </tr>\n",
       "  </tbody>\n",
       "</table>\n",
       "<p>90189 rows × 3 columns</p>\n",
       "</div>"
      ],
      "text/plain": [
       "       version  retention_1  retention_7\n",
       "0      gate_30        False        False\n",
       "1      gate_30         True        False\n",
       "2      gate_40         True        False\n",
       "3      gate_40        False        False\n",
       "4      gate_40         True         True\n",
       "...        ...          ...          ...\n",
       "90184  gate_40         True        False\n",
       "90185  gate_40        False        False\n",
       "90186  gate_30         True        False\n",
       "90187  gate_40         True        False\n",
       "90188  gate_40        False        False\n",
       "\n",
       "[90189 rows x 3 columns]"
      ]
     },
     "execution_count": 2,
     "metadata": {},
     "output_type": "execute_result"
    }
   ],
   "source": [
    "data = pd.read_csv(\"../data/cookie_cats.csv\")\n",
    "data = data.drop(columns=['userid', 'sum_gamerounds'])\n",
    "data"
   ]
  },
  {
   "cell_type": "markdown",
   "metadata": {},
   "source": [
    "Для данных с распределением Бернулли используется z-критерий пропорций. Выполняется ли критерий для `retention_1`?"
   ]
  },
  {
   "cell_type": "code",
   "execution_count": null,
   "metadata": {},
   "outputs": [],
   "source": [
    "from statsmodels.stats.proportion import proportions_ztest\n",
    "\n",
    "alpha = 0.05\n",
    "### ╰( ͡° ͜ʖ ͡° )つ──☆*:・ﾟ"
   ]
  },
  {
   "cell_type": "markdown",
   "metadata": {},
   "source": [
    "На самом деле для анализа изменений на 30-40 уровнях ждать один день недостаточно. Повторите процедуру с метрикой `retention_7`. Изменился ли результат?"
   ]
  },
  {
   "cell_type": "code",
   "execution_count": null,
   "metadata": {},
   "outputs": [],
   "source": [
    "alpha = 0.05\n",
    "### ╰( ͡° ͜ʖ ͡° )つ──☆*:・ﾟ"
   ]
  },
  {
   "cell_type": "markdown",
   "metadata": {},
   "source": [
    "Сделайте вывод о значимости изменения retention и результате эксперимента:"
   ]
  },
  {
   "cell_type": "markdown",
   "metadata": {},
   "source": [
    "### ╰( ͡° ͜ʖ ͡° )つ──☆*:・ﾟ"
   ]
  },
  {
   "cell_type": "markdown",
   "metadata": {},
   "source": [
    "### Другие распределения"
   ]
  },
  {
   "cell_type": "code",
   "execution_count": 31,
   "metadata": {},
   "outputs": [],
   "source": [
    "from scipy import stats\n",
    "\n",
    "A = np.concatenate((stats.norm(loc=2, scale=2).rvs(size=900), stats.norm(loc=12, scale=2).rvs(size=900)))\n",
    "B = np.concatenate((stats.norm(loc=1, scale=3).rvs(size=600),\n",
    "                    stats.norm(loc=7, scale=1).rvs(size=600),\n",
    "                    stats.norm(loc=13, scale=1).rvs(size=600)))"
   ]
  },
  {
   "cell_type": "markdown",
   "metadata": {},
   "source": [
    "Посмотрите на графики плотностей этих синтетических распределений."
   ]
  },
  {
   "cell_type": "code",
   "execution_count": null,
   "metadata": {},
   "outputs": [],
   "source": [
    "### ╰( ͡° ͜ʖ ͡° )つ──☆*:・ﾟ"
   ]
  },
  {
   "cell_type": "markdown",
   "metadata": {},
   "source": [
    "Если данные не удовлетворяют условиям, необходимым для применения параметрических стат.критериев, можно использовать непараметрический тест Манна-Уитни. Найдите с его помощью p-value для данных A и B:"
   ]
  },
  {
   "cell_type": "code",
   "execution_count": null,
   "metadata": {},
   "outputs": [],
   "source": [
    "from scipy.stats import mannwhitneyu\n",
    "\n",
    "alpha = 0.05\n",
    "### ╰( ͡° ͜ʖ ͡° )つ──☆*:・ﾟ"
   ]
  },
  {
   "cell_type": "markdown",
   "metadata": {},
   "source": [
    "### Продолжительность наблюдений, мощность\n",
    "\n",
    "Возьмём один из экспериментов [датасета платформы ASOS.com](https://osf.io/64jsb/)"
   ]
  },
  {
   "cell_type": "code",
   "execution_count": 5,
   "metadata": {},
   "outputs": [
    {
     "data": {
      "text/html": [
       "<div>\n",
       "<style scoped>\n",
       "    .dataframe tbody tr th:only-of-type {\n",
       "        vertical-align: middle;\n",
       "    }\n",
       "\n",
       "    .dataframe tbody tr th {\n",
       "        vertical-align: top;\n",
       "    }\n",
       "\n",
       "    .dataframe thead th {\n",
       "        text-align: right;\n",
       "    }\n",
       "</style>\n",
       "<table border=\"1\" class=\"dataframe\">\n",
       "  <thead>\n",
       "    <tr style=\"text-align: right;\">\n",
       "      <th></th>\n",
       "      <th>experiment_id</th>\n",
       "      <th>variant_id</th>\n",
       "      <th>metric_id</th>\n",
       "      <th>time_since_start</th>\n",
       "      <th>count_c</th>\n",
       "      <th>count_t</th>\n",
       "      <th>mean_c</th>\n",
       "      <th>mean_t</th>\n",
       "      <th>variance_c</th>\n",
       "      <th>variance_t</th>\n",
       "    </tr>\n",
       "  </thead>\n",
       "  <tbody>\n",
       "    <tr>\n",
       "      <th>0</th>\n",
       "      <td>036afc</td>\n",
       "      <td>2</td>\n",
       "      <td>1</td>\n",
       "      <td>1.5</td>\n",
       "      <td>188065.0</td>\n",
       "      <td>186686.0</td>\n",
       "      <td>0.107808</td>\n",
       "      <td>0.107828</td>\n",
       "      <td>0.096186</td>\n",
       "      <td>0.096201</td>\n",
       "    </tr>\n",
       "    <tr>\n",
       "      <th>1</th>\n",
       "      <td>036afc</td>\n",
       "      <td>2</td>\n",
       "      <td>1</td>\n",
       "      <td>2.0</td>\n",
       "      <td>245041.0</td>\n",
       "      <td>243694.0</td>\n",
       "      <td>0.131790</td>\n",
       "      <td>0.131435</td>\n",
       "      <td>0.114422</td>\n",
       "      <td>0.114160</td>\n",
       "    </tr>\n",
       "    <tr>\n",
       "      <th>2</th>\n",
       "      <td>036afc</td>\n",
       "      <td>2</td>\n",
       "      <td>1</td>\n",
       "      <td>2.5</td>\n",
       "      <td>277237.0</td>\n",
       "      <td>275949.0</td>\n",
       "      <td>0.143065</td>\n",
       "      <td>0.142711</td>\n",
       "      <td>0.122598</td>\n",
       "      <td>0.122345</td>\n",
       "    </tr>\n",
       "    <tr>\n",
       "      <th>3</th>\n",
       "      <td>036afc</td>\n",
       "      <td>2</td>\n",
       "      <td>1</td>\n",
       "      <td>3.0</td>\n",
       "      <td>315689.0</td>\n",
       "      <td>314676.0</td>\n",
       "      <td>0.161789</td>\n",
       "      <td>0.160997</td>\n",
       "      <td>0.135613</td>\n",
       "      <td>0.135077</td>\n",
       "    </tr>\n",
       "    <tr>\n",
       "      <th>4</th>\n",
       "      <td>036afc</td>\n",
       "      <td>2</td>\n",
       "      <td>1</td>\n",
       "      <td>3.5</td>\n",
       "      <td>338631.0</td>\n",
       "      <td>337715.0</td>\n",
       "      <td>0.172474</td>\n",
       "      <td>0.171067</td>\n",
       "      <td>0.142727</td>\n",
       "      <td>0.141803</td>\n",
       "    </tr>\n",
       "    <tr>\n",
       "      <th>...</th>\n",
       "      <td>...</td>\n",
       "      <td>...</td>\n",
       "      <td>...</td>\n",
       "      <td>...</td>\n",
       "      <td>...</td>\n",
       "      <td>...</td>\n",
       "      <td>...</td>\n",
       "      <td>...</td>\n",
       "      <td>...</td>\n",
       "      <td>...</td>\n",
       "    </tr>\n",
       "    <tr>\n",
       "      <th>523</th>\n",
       "      <td>036afc</td>\n",
       "      <td>2</td>\n",
       "      <td>4</td>\n",
       "      <td>74.5</td>\n",
       "      <td>1040896.0</td>\n",
       "      <td>1040212.0</td>\n",
       "      <td>146.911169</td>\n",
       "      <td>146.750234</td>\n",
       "      <td>76511.749251</td>\n",
       "      <td>76509.544866</td>\n",
       "    </tr>\n",
       "    <tr>\n",
       "      <th>524</th>\n",
       "      <td>036afc</td>\n",
       "      <td>2</td>\n",
       "      <td>4</td>\n",
       "      <td>75.0</td>\n",
       "      <td>1044740.0</td>\n",
       "      <td>1044065.0</td>\n",
       "      <td>147.328828</td>\n",
       "      <td>147.119653</td>\n",
       "      <td>77121.192206</td>\n",
       "      <td>77071.197961</td>\n",
       "    </tr>\n",
       "    <tr>\n",
       "      <th>525</th>\n",
       "      <td>036afc</td>\n",
       "      <td>2</td>\n",
       "      <td>4</td>\n",
       "      <td>75.5</td>\n",
       "      <td>1046104.0</td>\n",
       "      <td>1045507.0</td>\n",
       "      <td>147.477715</td>\n",
       "      <td>147.234885</td>\n",
       "      <td>77220.485837</td>\n",
       "      <td>77173.139114</td>\n",
       "    </tr>\n",
       "    <tr>\n",
       "      <th>526</th>\n",
       "      <td>036afc</td>\n",
       "      <td>2</td>\n",
       "      <td>4</td>\n",
       "      <td>76.0</td>\n",
       "      <td>1049510.0</td>\n",
       "      <td>1048990.0</td>\n",
       "      <td>147.944232</td>\n",
       "      <td>147.690193</td>\n",
       "      <td>77707.794363</td>\n",
       "      <td>77711.375918</td>\n",
       "    </tr>\n",
       "    <tr>\n",
       "      <th>527</th>\n",
       "      <td>036afc</td>\n",
       "      <td>2</td>\n",
       "      <td>4</td>\n",
       "      <td>76.5</td>\n",
       "      <td>1050994.0</td>\n",
       "      <td>1050508.0</td>\n",
       "      <td>148.194364</td>\n",
       "      <td>147.904168</td>\n",
       "      <td>78105.387371</td>\n",
       "      <td>77913.811421</td>\n",
       "    </tr>\n",
       "  </tbody>\n",
       "</table>\n",
       "<p>528 rows × 10 columns</p>\n",
       "</div>"
      ],
      "text/plain": [
       "    experiment_id  variant_id  metric_id  time_since_start    count_c  \\\n",
       "0          036afc           2          1               1.5   188065.0   \n",
       "1          036afc           2          1               2.0   245041.0   \n",
       "2          036afc           2          1               2.5   277237.0   \n",
       "3          036afc           2          1               3.0   315689.0   \n",
       "4          036afc           2          1               3.5   338631.0   \n",
       "..            ...         ...        ...               ...        ...   \n",
       "523        036afc           2          4              74.5  1040896.0   \n",
       "524        036afc           2          4              75.0  1044740.0   \n",
       "525        036afc           2          4              75.5  1046104.0   \n",
       "526        036afc           2          4              76.0  1049510.0   \n",
       "527        036afc           2          4              76.5  1050994.0   \n",
       "\n",
       "       count_t      mean_c      mean_t    variance_c    variance_t  \n",
       "0     186686.0    0.107808    0.107828      0.096186      0.096201  \n",
       "1     243694.0    0.131790    0.131435      0.114422      0.114160  \n",
       "2     275949.0    0.143065    0.142711      0.122598      0.122345  \n",
       "3     314676.0    0.161789    0.160997      0.135613      0.135077  \n",
       "4     337715.0    0.172474    0.171067      0.142727      0.141803  \n",
       "..         ...         ...         ...           ...           ...  \n",
       "523  1040212.0  146.911169  146.750234  76511.749251  76509.544866  \n",
       "524  1044065.0  147.328828  147.119653  77121.192206  77071.197961  \n",
       "525  1045507.0  147.477715  147.234885  77220.485837  77173.139114  \n",
       "526  1048990.0  147.944232  147.690193  77707.794363  77711.375918  \n",
       "527  1050508.0  148.194364  147.904168  78105.387371  77913.811421  \n",
       "\n",
       "[528 rows x 10 columns]"
      ]
     },
     "execution_count": 5,
     "metadata": {},
     "output_type": "execute_result"
    }
   ],
   "source": [
    "data = pd.read_csv(\"../data/asos_digital_experiments_dataset.csv\")\n",
    "data = data[data.experiment_id == '036afc']\n",
    "data"
   ]
  },
  {
   "cell_type": "markdown",
   "metadata": {},
   "source": [
    "Для t-теста с двусторонней альтернативой добавьте три колонки:\n",
    "* Уровень мощности при фиксированном уровне значимости и размере эффекта (`effect_size`)\n",
    "* Настоящий эффект эксперимента (разность метрики строго в порядке `тест - контроль`, поэтому эффект имеет направление и знак)\n",
    "* Уровень мощности при фиксированном уровне значимости и реальном эффекте"
   ]
  },
  {
   "cell_type": "code",
   "execution_count": null,
   "metadata": {},
   "outputs": [],
   "source": [
    "from statsmodels.stats import power\n",
    "\n",
    "alpha = 0.05\n",
    "effect_size = 0.005\n",
    "### ╰( ͡° ͜ʖ ͡° )つ──☆*:・ﾟ"
   ]
  },
  {
   "cell_type": "markdown",
   "metadata": {},
   "source": [
    "Для случая фиксированного остройте график зависимости уровня мощности от количества экспериментов (можете взять count_c), чтобы посмотреть на зависимость мощности от размера выборки."
   ]
  },
  {
   "cell_type": "code",
   "execution_count": null,
   "metadata": {},
   "outputs": [],
   "source": [
    "### ╰( ͡° ͜ʖ ͡° )つ──☆*:・ﾟ"
   ]
  }
 ],
 "metadata": {
  "kernelspec": {
   "display_name": ".venv",
   "language": "python",
   "name": "python3"
  },
  "language_info": {
   "codemirror_mode": {
    "name": "ipython",
    "version": 3
   },
   "file_extension": ".py",
   "mimetype": "text/x-python",
   "name": "python",
   "nbconvert_exporter": "python",
   "pygments_lexer": "ipython3",
   "version": "3.9.7"
  }
 },
 "nbformat": 4,
 "nbformat_minor": 2
}
