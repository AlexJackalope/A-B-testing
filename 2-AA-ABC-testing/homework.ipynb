{
 "cells": [
  {
   "cell_type": "code",
   "execution_count": 2,
   "metadata": {},
   "outputs": [
    {
     "name": "stderr",
     "output_type": "stream",
     "text": [
      "C:\\Users\\Alexandra\\AppData\\Local\\Temp\\ipykernel_3256\\4080736814.py:1: DeprecationWarning: \n",
      "Pyarrow will become a required dependency of pandas in the next major release of pandas (pandas 3.0),\n",
      "(to allow more performant data types, such as the Arrow string type, and better interoperability with other libraries)\n",
      "but was not found to be installed on your system.\n",
      "If this would cause problems for you,\n",
      "please provide us feedback at https://github.com/pandas-dev/pandas/issues/54466\n",
      "        \n",
      "  import pandas as pd\n"
     ]
    }
   ],
   "source": [
    "import pandas as pd\n",
    "import numpy as np"
   ]
  },
  {
   "cell_type": "markdown",
   "metadata": {},
   "source": [
    "Для параллельного контроля при эксперименте может использоваться A/A/B-тест:"
   ]
  },
  {
   "cell_type": "code",
   "execution_count": 27,
   "metadata": {},
   "outputs": [
    {
     "data": {
      "text/html": [
       "<div>\n",
       "<style scoped>\n",
       "    .dataframe tbody tr th:only-of-type {\n",
       "        vertical-align: middle;\n",
       "    }\n",
       "\n",
       "    .dataframe tbody tr th {\n",
       "        vertical-align: top;\n",
       "    }\n",
       "\n",
       "    .dataframe thead th {\n",
       "        text-align: right;\n",
       "    }\n",
       "</style>\n",
       "<table border=\"1\" class=\"dataframe\">\n",
       "  <thead>\n",
       "    <tr style=\"text-align: right;\">\n",
       "      <th></th>\n",
       "      <th>EventName</th>\n",
       "      <th>DeviceIDHash</th>\n",
       "      <th>EventTimestamp</th>\n",
       "      <th>TestGroup</th>\n",
       "    </tr>\n",
       "  </thead>\n",
       "  <tbody>\n",
       "    <tr>\n",
       "      <th>0</th>\n",
       "      <td>MainScreenAppear</td>\n",
       "      <td>4575588528974610257</td>\n",
       "      <td>1564029816</td>\n",
       "      <td>control_1</td>\n",
       "    </tr>\n",
       "    <tr>\n",
       "      <th>1</th>\n",
       "      <td>MainScreenAppear</td>\n",
       "      <td>7416695313311560658</td>\n",
       "      <td>1564053102</td>\n",
       "      <td>control_1</td>\n",
       "    </tr>\n",
       "    <tr>\n",
       "      <th>2</th>\n",
       "      <td>PaymentScreenSuccessful</td>\n",
       "      <td>3518123091307005509</td>\n",
       "      <td>1564054127</td>\n",
       "      <td>test</td>\n",
       "    </tr>\n",
       "    <tr>\n",
       "      <th>3</th>\n",
       "      <td>CartScreenAppear</td>\n",
       "      <td>3518123091307005509</td>\n",
       "      <td>1564054127</td>\n",
       "      <td>test</td>\n",
       "    </tr>\n",
       "    <tr>\n",
       "      <th>4</th>\n",
       "      <td>PaymentScreenSuccessful</td>\n",
       "      <td>6217807653094995999</td>\n",
       "      <td>1564055322</td>\n",
       "      <td>test</td>\n",
       "    </tr>\n",
       "    <tr>\n",
       "      <th>...</th>\n",
       "      <td>...</td>\n",
       "      <td>...</td>\n",
       "      <td>...</td>\n",
       "      <td>...</td>\n",
       "    </tr>\n",
       "    <tr>\n",
       "      <th>244121</th>\n",
       "      <td>MainScreenAppear</td>\n",
       "      <td>4599628364049201812</td>\n",
       "      <td>1565212345</td>\n",
       "      <td>control_2</td>\n",
       "    </tr>\n",
       "    <tr>\n",
       "      <th>244122</th>\n",
       "      <td>MainScreenAppear</td>\n",
       "      <td>5849806612437486590</td>\n",
       "      <td>1565212439</td>\n",
       "      <td>control_1</td>\n",
       "    </tr>\n",
       "    <tr>\n",
       "      <th>244123</th>\n",
       "      <td>MainScreenAppear</td>\n",
       "      <td>5746969938801999050</td>\n",
       "      <td>1565212483</td>\n",
       "      <td>control_1</td>\n",
       "    </tr>\n",
       "    <tr>\n",
       "      <th>244124</th>\n",
       "      <td>MainScreenAppear</td>\n",
       "      <td>5746969938801999050</td>\n",
       "      <td>1565212498</td>\n",
       "      <td>control_1</td>\n",
       "    </tr>\n",
       "    <tr>\n",
       "      <th>244125</th>\n",
       "      <td>OffersScreenAppear</td>\n",
       "      <td>5746969938801999050</td>\n",
       "      <td>1565212517</td>\n",
       "      <td>control_1</td>\n",
       "    </tr>\n",
       "  </tbody>\n",
       "</table>\n",
       "<p>243713 rows × 4 columns</p>\n",
       "</div>"
      ],
      "text/plain": [
       "                      EventName         DeviceIDHash  EventTimestamp  \\\n",
       "0              MainScreenAppear  4575588528974610257      1564029816   \n",
       "1              MainScreenAppear  7416695313311560658      1564053102   \n",
       "2       PaymentScreenSuccessful  3518123091307005509      1564054127   \n",
       "3              CartScreenAppear  3518123091307005509      1564054127   \n",
       "4       PaymentScreenSuccessful  6217807653094995999      1564055322   \n",
       "...                         ...                  ...             ...   \n",
       "244121         MainScreenAppear  4599628364049201812      1565212345   \n",
       "244122         MainScreenAppear  5849806612437486590      1565212439   \n",
       "244123         MainScreenAppear  5746969938801999050      1565212483   \n",
       "244124         MainScreenAppear  5746969938801999050      1565212498   \n",
       "244125       OffersScreenAppear  5746969938801999050      1565212517   \n",
       "\n",
       "        TestGroup  \n",
       "0       control_1  \n",
       "1       control_1  \n",
       "2            test  \n",
       "3            test  \n",
       "4            test  \n",
       "...           ...  \n",
       "244121  control_2  \n",
       "244122  control_1  \n",
       "244123  control_1  \n",
       "244124  control_1  \n",
       "244125  control_1  \n",
       "\n",
       "[243713 rows x 4 columns]"
      ]
     },
     "execution_count": 27,
     "metadata": {},
     "output_type": "execute_result"
    }
   ],
   "source": [
    "logs_data = pd.read_csv(\"../data/logs_exp_us.csv\", sep='\\t')\n",
    "logs_data = logs_data.drop_duplicates()\n",
    "logs_data['ExpId'] = logs_data['ExpId'].replace({246: 'control_1', 247: 'control_2', 248: 'test'})\n",
    "logs_data = logs_data.rename(columns={'ExpId': 'TestGroup'})\n",
    "logs_data"
   ]
  },
  {
   "cell_type": "code",
   "execution_count": 29,
   "metadata": {},
   "outputs": [
    {
     "data": {
      "text/plain": [
       "TestGroup\n",
       "test         41175\n",
       "control_2    39677\n",
       "control_1    38249\n",
       "Name: count, dtype: int64"
      ]
     },
     "execution_count": 29,
     "metadata": {},
     "output_type": "execute_result"
    }
   ],
   "source": [
    "logs_data[logs_data.EventName == 'MainScreenAppear'].TestGroup.value_counts()"
   ]
  },
  {
   "cell_type": "markdown",
   "metadata": {},
   "source": [
    "Будем использовать z-тест пропорций: за количество успехов считаем количество событий `PaymentScreenSuccessful`, количество всех экспериментов — события `MainScreenAppear`.\n",
    "\n",
    "Для начала проверьте нулевую гипотезу для двух контрольных групп"
   ]
  },
  {
   "cell_type": "code",
   "execution_count": 23,
   "metadata": {},
   "outputs": [
    {
     "data": {
      "text/plain": [
       "(2.1148551469454695e-73, True)"
      ]
     },
     "execution_count": 23,
     "metadata": {},
     "output_type": "execute_result"
    }
   ],
   "source": [
    "from statsmodels.stats.proportion import proportions_ztest\n",
    "\n",
    "alpha = 0.05\n",
    "\n",
    "### ╰( ͡° ͜ʖ ͡° )つ──☆*:・ﾟ\n",
    "control_1 = logs_data[logs_data.TestGroup == 'control_1']\n",
    "control_2 = logs_data[logs_data.TestGroup == 'control_2']\n",
    "\n",
    "count_1 = control_1[control_1.EventName == 'PaymentScreenSuccessful'].shape[0]\n",
    "count_2 = control_2[control_2.EventName == 'PaymentScreenSuccessful'].shape[0]\n",
    "nobs_1 = control_1[control_1.EventName == 'MainScreenAppear'].shape[0]\n",
    "nobs_2 = control_2[control_2.EventName == 'MainScreenAppear'].shape[0]\n",
    "stat, pval_controls = proportions_ztest(count=np.array([count_1, count_2]),\n",
    "                                        nobs=np.array([nobs_1, nobs_2]))\n",
    "pval_controls, pval_controls < alpha"
   ]
  },
  {
   "cell_type": "markdown",
   "metadata": {},
   "source": [
    "Теперь объедините две контрольных группы в одну и проверьте гипотезу для обычного A/B-теста"
   ]
  },
  {
   "cell_type": "code",
   "execution_count": 24,
   "metadata": {},
   "outputs": [
    {
     "data": {
      "text/plain": [
       "(5.397051376310148e-07, True)"
      ]
     },
     "execution_count": 24,
     "metadata": {},
     "output_type": "execute_result"
    }
   ],
   "source": [
    "### ╰( ͡° ͜ʖ ͡° )つ──☆*:・ﾟ\n",
    "test = logs_data[logs_data.TestGroup == 'test']\n",
    "\n",
    "control_count = count_1 + count_2\n",
    "control_nobs = nobs_1 + nobs_2\n",
    "test_count = test[test.EventName == 'PaymentScreenSuccessful'].shape[0]\n",
    "test_nobs = test[test.EventName == 'MainScreenAppear'].shape[0]\n",
    "stat, pval = proportions_ztest(count=np.array([control_count, test_count]),\n",
    "                               nobs=np.array([control_nobs, test_nobs]))\n",
    "pval, pval < alpha"
   ]
  },
  {
   "cell_type": "markdown",
   "metadata": {},
   "source": [
    "И, наконец, используйте подход A/B/C-тестов с поправкой Бонферрони"
   ]
  },
  {
   "cell_type": "code",
   "execution_count": 25,
   "metadata": {},
   "outputs": [
    {
     "data": {
      "text/plain": [
       "(1.0451245019488738e-06, 1.0713756684652275e-41)"
      ]
     },
     "execution_count": 25,
     "metadata": {},
     "output_type": "execute_result"
    }
   ],
   "source": [
    "### ╰( ͡° ͜ʖ ͡° )つ──☆*:・ﾟ\n",
    "stat, pval_c1_test = proportions_ztest(count=np.array([count_1, test_count]),\n",
    "                                       nobs=np.array([nobs_1, test_nobs]))\n",
    "stat, pval_c2_test = proportions_ztest(count=np.array([count_2, test_count]),\n",
    "                                       nobs=np.array([nobs_2, test_nobs]))\n",
    "\n",
    "pval_c1_test, pval_c2_test"
   ]
  },
  {
   "cell_type": "code",
   "execution_count": 26,
   "metadata": {},
   "outputs": [
    {
     "data": {
      "text/plain": [
       "(True, True, True)"
      ]
     },
     "execution_count": 26,
     "metadata": {},
     "output_type": "execute_result"
    }
   ],
   "source": [
    "bonferroni_alpha = alpha / 3\n",
    "pval_controls < bonferroni_alpha, pval_c1_test < bonferroni_alpha, pval_c2_test < bonferroni_alpha"
   ]
  },
  {
   "cell_type": "code",
   "execution_count": null,
   "metadata": {},
   "outputs": [],
   "source": []
  }
 ],
 "metadata": {
  "kernelspec": {
   "display_name": ".venv",
   "language": "python",
   "name": "python3"
  },
  "language_info": {
   "codemirror_mode": {
    "name": "ipython",
    "version": 3
   },
   "file_extension": ".py",
   "mimetype": "text/x-python",
   "name": "python",
   "nbconvert_exporter": "python",
   "pygments_lexer": "ipython3",
   "version": "3.9.7"
  }
 },
 "nbformat": 4,
 "nbformat_minor": 2
}
