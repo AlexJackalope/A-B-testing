{
 "cells": [
  {
   "cell_type": "code",
   "execution_count": null,
   "metadata": {},
   "outputs": [],
   "source": [
    "import pandas as pd\n",
    "import numpy as np\n",
    "import itertools as it"
   ]
  },
  {
   "cell_type": "markdown",
   "metadata": {},
   "source": [
    "Мы знаем, как рассчитать необходимый объём выборок. Теперь нужно правильно выбрать пользователей для эксперимента."
   ]
  },
  {
   "cell_type": "markdown",
   "metadata": {},
   "source": [
    "## A/A-тесты\n",
    "* A/A-тест помогает удостовериться в том, что разделение выборок происходит корректно\n",
    "* Позволяет определить уровень значимости для A/B-теста\n",
    "* В целом проверяет надёжность работы системы тестов"
   ]
  },
  {
   "cell_type": "markdown",
   "metadata": {},
   "source": [
    "Нулевая и альтернативная гипотезы берутся такие же как для A/B теста. Возьмём контрольную группу из датасета cookie cats с прошлой лекции на роль исторических данных."
   ]
  },
  {
   "cell_type": "code",
   "execution_count": 3,
   "metadata": {},
   "outputs": [
    {
     "data": {
      "text/html": [
       "<div>\n",
       "<style scoped>\n",
       "    .dataframe tbody tr th:only-of-type {\n",
       "        vertical-align: middle;\n",
       "    }\n",
       "\n",
       "    .dataframe tbody tr th {\n",
       "        vertical-align: top;\n",
       "    }\n",
       "\n",
       "    .dataframe thead th {\n",
       "        text-align: right;\n",
       "    }\n",
       "</style>\n",
       "<table border=\"1\" class=\"dataframe\">\n",
       "  <thead>\n",
       "    <tr style=\"text-align: right;\">\n",
       "      <th></th>\n",
       "      <th>userid</th>\n",
       "      <th>sum_gamerounds</th>\n",
       "      <th>retention_1</th>\n",
       "      <th>retention_7</th>\n",
       "    </tr>\n",
       "  </thead>\n",
       "  <tbody>\n",
       "    <tr>\n",
       "      <th>0</th>\n",
       "      <td>116</td>\n",
       "      <td>3</td>\n",
       "      <td>False</td>\n",
       "      <td>False</td>\n",
       "    </tr>\n",
       "    <tr>\n",
       "      <th>1</th>\n",
       "      <td>337</td>\n",
       "      <td>38</td>\n",
       "      <td>True</td>\n",
       "      <td>False</td>\n",
       "    </tr>\n",
       "    <tr>\n",
       "      <th>2</th>\n",
       "      <td>1066</td>\n",
       "      <td>0</td>\n",
       "      <td>False</td>\n",
       "      <td>False</td>\n",
       "    </tr>\n",
       "    <tr>\n",
       "      <th>3</th>\n",
       "      <td>2101</td>\n",
       "      <td>0</td>\n",
       "      <td>False</td>\n",
       "      <td>False</td>\n",
       "    </tr>\n",
       "    <tr>\n",
       "      <th>4</th>\n",
       "      <td>2179</td>\n",
       "      <td>39</td>\n",
       "      <td>True</td>\n",
       "      <td>False</td>\n",
       "    </tr>\n",
       "    <tr>\n",
       "      <th>...</th>\n",
       "      <td>...</td>\n",
       "      <td>...</td>\n",
       "      <td>...</td>\n",
       "      <td>...</td>\n",
       "    </tr>\n",
       "    <tr>\n",
       "      <th>44695</th>\n",
       "      <td>9998576</td>\n",
       "      <td>14</td>\n",
       "      <td>True</td>\n",
       "      <td>False</td>\n",
       "    </tr>\n",
       "    <tr>\n",
       "      <th>44696</th>\n",
       "      <td>9998623</td>\n",
       "      <td>7</td>\n",
       "      <td>False</td>\n",
       "      <td>False</td>\n",
       "    </tr>\n",
       "    <tr>\n",
       "      <th>44697</th>\n",
       "      <td>9999178</td>\n",
       "      <td>21</td>\n",
       "      <td>True</td>\n",
       "      <td>False</td>\n",
       "    </tr>\n",
       "    <tr>\n",
       "      <th>44698</th>\n",
       "      <td>9999349</td>\n",
       "      <td>10</td>\n",
       "      <td>False</td>\n",
       "      <td>False</td>\n",
       "    </tr>\n",
       "    <tr>\n",
       "      <th>44699</th>\n",
       "      <td>9999710</td>\n",
       "      <td>28</td>\n",
       "      <td>True</td>\n",
       "      <td>False</td>\n",
       "    </tr>\n",
       "  </tbody>\n",
       "</table>\n",
       "<p>44699 rows × 4 columns</p>\n",
       "</div>"
      ],
      "text/plain": [
       "        userid  sum_gamerounds  retention_1  retention_7\n",
       "0          116               3        False        False\n",
       "1          337              38         True        False\n",
       "2         1066               0        False        False\n",
       "3         2101               0        False        False\n",
       "4         2179              39         True        False\n",
       "...        ...             ...          ...          ...\n",
       "44695  9998576              14         True        False\n",
       "44696  9998623               7        False        False\n",
       "44697  9999178              21         True        False\n",
       "44698  9999349              10        False        False\n",
       "44699  9999710              28         True        False\n",
       "\n",
       "[44699 rows x 4 columns]"
      ]
     },
     "execution_count": 3,
     "metadata": {},
     "output_type": "execute_result"
    }
   ],
   "source": [
    "data = pd.read_csv(\"../data/cookie_cats.csv\")\n",
    "data = data[data['version'] == 'gate_30'].drop(columns=['version']).reset_index(drop=True)\n",
    "data = data[data.sum_gamerounds < data.sum_gamerounds.max()]\n",
    "data"
   ]
  },
  {
   "cell_type": "markdown",
   "metadata": {},
   "source": [
    "Задача: разбить пользователей на две группы для A/B-тестирования.\n",
    "\n",
    "Разобьём пользователей на группы, как сделали бы, готовя проведение A/B-тестирования"
   ]
  },
  {
   "cell_type": "code",
   "execution_count": 4,
   "metadata": {},
   "outputs": [
    {
     "data": {
      "text/plain": [
       "(24584, 20115)"
      ]
     },
     "execution_count": 4,
     "metadata": {},
     "output_type": "execute_result"
    }
   ],
   "source": [
    "a1 = data.sample(frac = 0.55)\n",
    "a2 = data.drop(a1.index)\n",
    "\n",
    "len(a1), len(a2)"
   ]
  },
  {
   "cell_type": "markdown",
   "metadata": {},
   "source": [
    "Если у нас есть представления о том, какое разбиение хотелось получить, и неизвестно, какое получено в реальности, можно выполнить проверку на SRM — Sample Rate Mismatch, отклонение фактического разбиения от ожидаемого. Здесь приведён [$\\chi^2$-критерий](https://ru.wikipedia.org/wiki/%D0%9A%D1%80%D0%B8%D1%82%D0%B5%D1%80%D0%B8%D0%B9_%D1%85%D0%B8-%D0%BA%D0%B2%D0%B0%D0%B4%D1%80%D0%B0%D1%82). Если p-value *достаточно близко к 1*, разбиение не соответствует ожидаемому и нужно его переделать, чтобы правильно провести эксперимент."
   ]
  },
  {
   "cell_type": "code",
   "execution_count": 5,
   "metadata": {},
   "outputs": [
    {
     "data": {
      "text/plain": [
       "Power_divergenceResult(statistic=0.02314345615220917, pvalue=0.8790846123238008)"
      ]
     },
     "execution_count": 5,
     "metadata": {},
     "output_type": "execute_result"
    }
   ],
   "source": [
    "from scipy.stats import chisquare\n",
    "\n",
    "chi = chisquare([len(a1), len(a2)], f_exp = [24600, 20099])\n",
    "chi"
   ]
  },
  {
   "cell_type": "code",
   "execution_count": 6,
   "metadata": {},
   "outputs": [
    {
     "name": "stdout",
     "output_type": "stream",
     "text": [
      "Разбиение достаточно близко к желаемому\n"
     ]
    }
   ],
   "source": [
    "print(\"Разбиение достаточно близко к желаемому\") if chi.pvalue < 0.95 else print(\"Разбиение сильно отдичается от желаемого\")"
   ]
  },
  {
   "cell_type": "markdown",
   "metadata": {},
   "source": [
    "На практике необходимо продолжительноее наблюдение за выборками, чтобы убедиться, что выбранный для A/B-теста критерий не показывает устойчивой статзначимости различия метрик (разовое опровержение $H_0$ ещё не показательно). Обычно это занимает около месяца. Так как у нас нет данных о продолжительном наблюдении, проведём бутстрапирование: делаем множество разбиений и для каждого проводим t-test."
   ]
  },
  {
   "cell_type": "code",
   "execution_count": 7,
   "metadata": {},
   "outputs": [
    {
     "name": "stderr",
     "output_type": "stream",
     "text": [
      "100%|██████████| 10000/10000 [04:54<00:00, 33.92it/s]\n"
     ]
    }
   ],
   "source": [
    "from scipy.stats import ttest_ind\n",
    "from tqdm import tqdm\n",
    "\n",
    "p_values = []\n",
    "\n",
    "for a in tqdm(range(10000)):\n",
    "    a1 = data.sample(frac = 0.55)\n",
    "    a2 = data.drop(a1.index)\n",
    "    test = ttest_ind(a1['sum_gamerounds'], a2['sum_gamerounds'], equal_var=False)\n",
    "    p_values.append(test.pvalue)"
   ]
  },
  {
   "cell_type": "code",
   "execution_count": 8,
   "metadata": {},
   "outputs": [
    {
     "data": {
      "text/plain": [
       "Text(0.5, 0, 'P-value')"
      ]
     },
     "execution_count": 8,
     "metadata": {},
     "output_type": "execute_result"
    },
    {
     "data": {
      "image/png": "[encoded data removed]",
      "text/plain": [
       "<Figure size 640x480 with 1 Axes>"
      ]
     },
     "metadata": {},
     "output_type": "display_data"
    }
   ],
   "source": [
    "import pandas as pd\n",
    "import matplotlib.pyplot as plt\n",
    "import seaborn as sns\n",
    "\n",
    "sns.histplot(data=pd.DataFrame(p_values, columns=['P-value']), bins=20)\n",
    "plt.xlabel(\"P-value\")"
   ]
  },
  {
   "cell_type": "markdown",
   "metadata": {},
   "source": [
    "Для заключения об успехе A/A теста полученное распределение полученных p-значений должно быть равномерным. Для проверки равномерности используем критерий Колмогорова-Смирнова"
   ]
  },
  {
   "cell_type": "code",
   "execution_count": 9,
   "metadata": {},
   "outputs": [
    {
     "data": {
      "text/plain": [
       "KstestResult(statistic=0.005273644054865634, pvalue=0.9423055883954099, statistic_location=0.13587364405486563, statistic_sign=-1)"
      ]
     },
     "execution_count": 9,
     "metadata": {},
     "output_type": "execute_result"
    }
   ],
   "source": [
    "from scipy.stats import kstest\n",
    "\n",
    "ks = kstest(p_values,\"uniform\")\n",
    "ks"
   ]
  },
  {
   "cell_type": "code",
   "execution_count": 10,
   "metadata": {},
   "outputs": [
    {
     "name": "stdout",
     "output_type": "stream",
     "text": [
      "Распределение равномерно\n"
     ]
    }
   ],
   "source": [
    "print(\"Распределение равномерно\") if ks.pvalue > 0.05 else print(\"Распределение не равномерно\")"
   ]
  },
  {
   "cell_type": "markdown",
   "metadata": {},
   "source": [
    "Также две выборки должны быть **гомогенны** (однородны), то есть, должны принадлежать одному распределению. Выберем разбиение, для которого по t-тесту средние равны."
   ]
  },
  {
   "cell_type": "code",
   "execution_count": 11,
   "metadata": {},
   "outputs": [
    {
     "name": "stderr",
     "output_type": "stream",
     "text": [
      "  0%|          | 0/1000 [00:00<?, ?it/s]\n"
     ]
    }
   ],
   "source": [
    "for i in tqdm(range(1000)):\n",
    "    a1 = data.sample(frac = 0.55)\n",
    "    a2 = data.drop(a1.index)\n",
    "    test = ttest_ind(a1['sum_gamerounds'], a2['sum_gamerounds'], equal_var=False)\n",
    "    if (test.pvalue >= 0.05):\n",
    "        break"
   ]
  },
  {
   "cell_type": "code",
   "execution_count": 12,
   "metadata": {},
   "outputs": [
    {
     "data": {
      "text/plain": [
       "TtestResult(statistic=0.3944223890390581, pvalue=0.6932711555077413, df=43383.29539171074)"
      ]
     },
     "execution_count": 12,
     "metadata": {},
     "output_type": "execute_result"
    }
   ],
   "source": [
    "test"
   ]
  },
  {
   "cell_type": "markdown",
   "metadata": {},
   "source": [
    "Нашли разбиение, для которого A/A-тест подтвердил нулевую гипотезу, можно использовать для A/B."
   ]
  },
  {
   "cell_type": "markdown",
   "metadata": {},
   "source": [
    "## A/B/C-тесты"
   ]
  },
  {
   "cell_type": "markdown",
   "metadata": {},
   "source": [
    "В некоторых ситуациях может понадобиться одновременно протестировать несколько гипотез."
   ]
  },
  {
   "cell_type": "markdown",
   "metadata": {},
   "source": [
    "Эксперимент: магазин одежды отправлял клиентам почтовую рассылку с рекламой женской одежды, мужской одежды или не отправлял рассылку вообще. Будем оценивать суммы, потраченные этими пользователями на сайте за год."
   ]
  },
  {
   "cell_type": "code",
   "execution_count": 13,
   "metadata": {},
   "outputs": [
    {
     "data": {
      "text/html": [
       "<div>\n",
       "<style scoped>\n",
       "    .dataframe tbody tr th:only-of-type {\n",
       "        vertical-align: middle;\n",
       "    }\n",
       "\n",
       "    .dataframe tbody tr th {\n",
       "        vertical-align: top;\n",
       "    }\n",
       "\n",
       "    .dataframe thead th {\n",
       "        text-align: right;\n",
       "    }\n",
       "</style>\n",
       "<table border=\"1\" class=\"dataframe\">\n",
       "  <thead>\n",
       "    <tr style=\"text-align: right;\">\n",
       "      <th></th>\n",
       "      <th>recency</th>\n",
       "      <th>history_segment</th>\n",
       "      <th>history</th>\n",
       "      <th>mens</th>\n",
       "      <th>womens</th>\n",
       "      <th>zip_code</th>\n",
       "      <th>newbie</th>\n",
       "      <th>channel</th>\n",
       "      <th>segment</th>\n",
       "    </tr>\n",
       "  </thead>\n",
       "  <tbody>\n",
       "    <tr>\n",
       "      <th>0</th>\n",
       "      <td>10</td>\n",
       "      <td>2) $100 - $200</td>\n",
       "      <td>142.44</td>\n",
       "      <td>1</td>\n",
       "      <td>0</td>\n",
       "      <td>Surburban</td>\n",
       "      <td>0</td>\n",
       "      <td>Phone</td>\n",
       "      <td>Womens E-Mail</td>\n",
       "    </tr>\n",
       "    <tr>\n",
       "      <th>1</th>\n",
       "      <td>6</td>\n",
       "      <td>3) $200 - $350</td>\n",
       "      <td>329.08</td>\n",
       "      <td>1</td>\n",
       "      <td>1</td>\n",
       "      <td>Rural</td>\n",
       "      <td>1</td>\n",
       "      <td>Web</td>\n",
       "      <td>No E-Mail</td>\n",
       "    </tr>\n",
       "    <tr>\n",
       "      <th>2</th>\n",
       "      <td>7</td>\n",
       "      <td>2) $100 - $200</td>\n",
       "      <td>180.65</td>\n",
       "      <td>0</td>\n",
       "      <td>1</td>\n",
       "      <td>Surburban</td>\n",
       "      <td>1</td>\n",
       "      <td>Web</td>\n",
       "      <td>Womens E-Mail</td>\n",
       "    </tr>\n",
       "    <tr>\n",
       "      <th>3</th>\n",
       "      <td>9</td>\n",
       "      <td>5) $500 - $750</td>\n",
       "      <td>675.83</td>\n",
       "      <td>1</td>\n",
       "      <td>0</td>\n",
       "      <td>Rural</td>\n",
       "      <td>1</td>\n",
       "      <td>Web</td>\n",
       "      <td>Mens E-Mail</td>\n",
       "    </tr>\n",
       "    <tr>\n",
       "      <th>4</th>\n",
       "      <td>2</td>\n",
       "      <td>1) $0 - $100</td>\n",
       "      <td>45.34</td>\n",
       "      <td>1</td>\n",
       "      <td>0</td>\n",
       "      <td>Urban</td>\n",
       "      <td>0</td>\n",
       "      <td>Web</td>\n",
       "      <td>Womens E-Mail</td>\n",
       "    </tr>\n",
       "    <tr>\n",
       "      <th>...</th>\n",
       "      <td>...</td>\n",
       "      <td>...</td>\n",
       "      <td>...</td>\n",
       "      <td>...</td>\n",
       "      <td>...</td>\n",
       "      <td>...</td>\n",
       "      <td>...</td>\n",
       "      <td>...</td>\n",
       "      <td>...</td>\n",
       "    </tr>\n",
       "    <tr>\n",
       "      <th>63995</th>\n",
       "      <td>10</td>\n",
       "      <td>2) $100 - $200</td>\n",
       "      <td>105.54</td>\n",
       "      <td>1</td>\n",
       "      <td>0</td>\n",
       "      <td>Urban</td>\n",
       "      <td>0</td>\n",
       "      <td>Web</td>\n",
       "      <td>Mens E-Mail</td>\n",
       "    </tr>\n",
       "    <tr>\n",
       "      <th>63996</th>\n",
       "      <td>5</td>\n",
       "      <td>1) $0 - $100</td>\n",
       "      <td>38.91</td>\n",
       "      <td>0</td>\n",
       "      <td>1</td>\n",
       "      <td>Urban</td>\n",
       "      <td>1</td>\n",
       "      <td>Phone</td>\n",
       "      <td>Mens E-Mail</td>\n",
       "    </tr>\n",
       "    <tr>\n",
       "      <th>63997</th>\n",
       "      <td>6</td>\n",
       "      <td>1) $0 - $100</td>\n",
       "      <td>29.99</td>\n",
       "      <td>1</td>\n",
       "      <td>0</td>\n",
       "      <td>Urban</td>\n",
       "      <td>1</td>\n",
       "      <td>Phone</td>\n",
       "      <td>Mens E-Mail</td>\n",
       "    </tr>\n",
       "    <tr>\n",
       "      <th>63998</th>\n",
       "      <td>1</td>\n",
       "      <td>5) $500 - $750</td>\n",
       "      <td>552.94</td>\n",
       "      <td>1</td>\n",
       "      <td>0</td>\n",
       "      <td>Surburban</td>\n",
       "      <td>1</td>\n",
       "      <td>Multichannel</td>\n",
       "      <td>Womens E-Mail</td>\n",
       "    </tr>\n",
       "    <tr>\n",
       "      <th>63999</th>\n",
       "      <td>1</td>\n",
       "      <td>4) $350 - $500</td>\n",
       "      <td>472.82</td>\n",
       "      <td>0</td>\n",
       "      <td>1</td>\n",
       "      <td>Surburban</td>\n",
       "      <td>0</td>\n",
       "      <td>Web</td>\n",
       "      <td>Mens E-Mail</td>\n",
       "    </tr>\n",
       "  </tbody>\n",
       "</table>\n",
       "<p>64000 rows × 9 columns</p>\n",
       "</div>"
      ],
      "text/plain": [
       "       recency history_segment  history  mens  womens   zip_code  newbie  \\\n",
       "0           10  2) $100 - $200   142.44     1       0  Surburban       0   \n",
       "1            6  3) $200 - $350   329.08     1       1      Rural       1   \n",
       "2            7  2) $100 - $200   180.65     0       1  Surburban       1   \n",
       "3            9  5) $500 - $750   675.83     1       0      Rural       1   \n",
       "4            2    1) $0 - $100    45.34     1       0      Urban       0   \n",
       "...        ...             ...      ...   ...     ...        ...     ...   \n",
       "63995       10  2) $100 - $200   105.54     1       0      Urban       0   \n",
       "63996        5    1) $0 - $100    38.91     0       1      Urban       1   \n",
       "63997        6    1) $0 - $100    29.99     1       0      Urban       1   \n",
       "63998        1  5) $500 - $750   552.94     1       0  Surburban       1   \n",
       "63999        1  4) $350 - $500   472.82     0       1  Surburban       0   \n",
       "\n",
       "            channel        segment  \n",
       "0             Phone  Womens E-Mail  \n",
       "1               Web      No E-Mail  \n",
       "2               Web  Womens E-Mail  \n",
       "3               Web    Mens E-Mail  \n",
       "4               Web  Womens E-Mail  \n",
       "...             ...            ...  \n",
       "63995           Web    Mens E-Mail  \n",
       "63996         Phone    Mens E-Mail  \n",
       "63997         Phone    Mens E-Mail  \n",
       "63998  Multichannel  Womens E-Mail  \n",
       "63999           Web    Mens E-Mail  \n",
       "\n",
       "[64000 rows x 9 columns]"
      ]
     },
     "execution_count": 13,
     "metadata": {},
     "output_type": "execute_result"
    }
   ],
   "source": [
    "data = pd.read_csv(\"../data/MineThatData.csv\")\n",
    "data"
   ]
  },
  {
   "cell_type": "markdown",
   "metadata": {},
   "source": [
    "Рассмотрим только группу клиентов из сельской местности (для неё более показательные результаты)"
   ]
  },
  {
   "cell_type": "code",
   "execution_count": 15,
   "metadata": {},
   "outputs": [],
   "source": [
    "data = data[data.zip_code == 'Rural']"
   ]
  },
  {
   "cell_type": "code",
   "execution_count": 16,
   "metadata": {},
   "outputs": [
    {
     "data": {
      "text/plain": [
       "segment\n",
       "Mens E-Mail      3243\n",
       "Womens E-Mail    3181\n",
       "No E-Mail        3139\n",
       "Name: count, dtype: int64"
      ]
     },
     "execution_count": 16,
     "metadata": {},
     "output_type": "execute_result"
    }
   ],
   "source": [
    "data['segment'].value_counts()"
   ]
  },
  {
   "cell_type": "code",
   "execution_count": 17,
   "metadata": {},
   "outputs": [
    {
     "data": {
      "text/html": [
       "<div>\n",
       "<style scoped>\n",
       "    .dataframe tbody tr th:only-of-type {\n",
       "        vertical-align: middle;\n",
       "    }\n",
       "\n",
       "    .dataframe tbody tr th {\n",
       "        vertical-align: top;\n",
       "    }\n",
       "\n",
       "    .dataframe thead th {\n",
       "        text-align: right;\n",
       "    }\n",
       "</style>\n",
       "<table border=\"1\" class=\"dataframe\">\n",
       "  <thead>\n",
       "    <tr style=\"text-align: right;\">\n",
       "      <th></th>\n",
       "      <th>segment</th>\n",
       "      <th>history</th>\n",
       "    </tr>\n",
       "  </thead>\n",
       "  <tbody>\n",
       "    <tr>\n",
       "      <th>1</th>\n",
       "      <td>No E-Mail</td>\n",
       "      <td>329.08</td>\n",
       "    </tr>\n",
       "    <tr>\n",
       "      <th>3</th>\n",
       "      <td>Mens E-Mail</td>\n",
       "      <td>675.83</td>\n",
       "    </tr>\n",
       "    <tr>\n",
       "      <th>8</th>\n",
       "      <td>Mens E-Mail</td>\n",
       "      <td>675.07</td>\n",
       "    </tr>\n",
       "    <tr>\n",
       "      <th>14</th>\n",
       "      <td>No E-Mail</td>\n",
       "      <td>241.42</td>\n",
       "    </tr>\n",
       "    <tr>\n",
       "      <th>17</th>\n",
       "      <td>Mens E-Mail</td>\n",
       "      <td>112.35</td>\n",
       "    </tr>\n",
       "    <tr>\n",
       "      <th>...</th>\n",
       "      <td>...</td>\n",
       "      <td>...</td>\n",
       "    </tr>\n",
       "    <tr>\n",
       "      <th>63949</th>\n",
       "      <td>No E-Mail</td>\n",
       "      <td>86.79</td>\n",
       "    </tr>\n",
       "    <tr>\n",
       "      <th>63951</th>\n",
       "      <td>Womens E-Mail</td>\n",
       "      <td>50.94</td>\n",
       "    </tr>\n",
       "    <tr>\n",
       "      <th>63952</th>\n",
       "      <td>No E-Mail</td>\n",
       "      <td>29.99</td>\n",
       "    </tr>\n",
       "    <tr>\n",
       "      <th>63958</th>\n",
       "      <td>Womens E-Mail</td>\n",
       "      <td>65.82</td>\n",
       "    </tr>\n",
       "    <tr>\n",
       "      <th>63981</th>\n",
       "      <td>No E-Mail</td>\n",
       "      <td>125.53</td>\n",
       "    </tr>\n",
       "  </tbody>\n",
       "</table>\n",
       "<p>9563 rows × 2 columns</p>\n",
       "</div>"
      ],
      "text/plain": [
       "             segment  history\n",
       "1          No E-Mail   329.08\n",
       "3        Mens E-Mail   675.83\n",
       "8        Mens E-Mail   675.07\n",
       "14         No E-Mail   241.42\n",
       "17       Mens E-Mail   112.35\n",
       "...              ...      ...\n",
       "63949      No E-Mail    86.79\n",
       "63951  Womens E-Mail    50.94\n",
       "63952      No E-Mail    29.99\n",
       "63958  Womens E-Mail    65.82\n",
       "63981      No E-Mail   125.53\n",
       "\n",
       "[9563 rows x 2 columns]"
      ]
     },
     "execution_count": 17,
     "metadata": {},
     "output_type": "execute_result"
    }
   ],
   "source": [
    "data = data[['segment', 'history']]\n",
    "data"
   ]
  },
  {
   "cell_type": "code",
   "execution_count": 18,
   "metadata": {},
   "outputs": [
    {
     "data": {
      "text/plain": [
       "segment\n",
       "Mens E-Mail      238.224607\n",
       "No E-Mail        250.424944\n",
       "Womens E-Mail    240.102446\n",
       "Name: history, dtype: float64"
      ]
     },
     "execution_count": 18,
     "metadata": {},
     "output_type": "execute_result"
    }
   ],
   "source": [
    "data.groupby('segment').history.mean()"
   ]
  },
  {
   "cell_type": "markdown",
   "metadata": {},
   "source": [
    "Растёт вероятность ошибки для независимых p-value, поэтому поднимается уровень значимости (false positive): $1 - (1 - \\alpha)^n$, где n для A/B/.../N теста $n=\\binom{N}{2}$"
   ]
  },
  {
   "cell_type": "code",
   "execution_count": 24,
   "metadata": {},
   "outputs": [
    {
     "data": {
      "text/plain": [
       "0.4879999999999999"
      ]
     },
     "execution_count": 24,
     "metadata": {},
     "output_type": "execute_result"
    }
   ],
   "source": [
    "# слишком высокая альфа для настоящего эксперимента\n",
    "alpha = 0.2\n",
    "1 - (1 - alpha) ** 3"
   ]
  },
  {
   "cell_type": "markdown",
   "metadata": {},
   "source": [
    "Поправка Бонферрони: $\\alpha* = \\frac{\\alpha}{n}$"
   ]
  },
  {
   "cell_type": "code",
   "execution_count": 25,
   "metadata": {},
   "outputs": [
    {
     "data": {
      "text/plain": [
       "0.06666666666666667"
      ]
     },
     "execution_count": 25,
     "metadata": {},
     "output_type": "execute_result"
    }
   ],
   "source": [
    "bonferroni_alpha = alpha / 3\n",
    "bonferroni_alpha"
   ]
  },
  {
   "cell_type": "markdown",
   "metadata": {},
   "source": [
    "Более чувствительная и более сложная поправка Бенджамини-Хохберга:<br>\n",
    "1. Сортируем p-значения по возрастанию и присваиваем им индексы<br>\n",
    "$p_1\\leq p_2\\leq ...\\leq p_n$<br>\n",
    "2. Находим p с наибольшим рангом $j*$ такое, что:<br>\n",
    "$p_j\\leq q$; $q = \\gamma \\frac{j}{n}$<br>\n",
    "3. Все тесты с рангом $j < j*$ — статзначимые"
   ]
  },
  {
   "cell_type": "markdown",
   "metadata": {},
   "source": [
    "Сравним результаты с двумя этими поправками."
   ]
  },
  {
   "cell_type": "code",
   "execution_count": 26,
   "metadata": {},
   "outputs": [
    {
     "data": {
      "text/html": [
       "<div>\n",
       "<style scoped>\n",
       "    .dataframe tbody tr th:only-of-type {\n",
       "        vertical-align: middle;\n",
       "    }\n",
       "\n",
       "    .dataframe tbody tr th {\n",
       "        vertical-align: top;\n",
       "    }\n",
       "\n",
       "    .dataframe thead th {\n",
       "        text-align: right;\n",
       "    }\n",
       "</style>\n",
       "<table border=\"1\" class=\"dataframe\">\n",
       "  <thead>\n",
       "    <tr style=\"text-align: right;\">\n",
       "      <th></th>\n",
       "      <th>seg1</th>\n",
       "      <th>seg2</th>\n",
       "      <th>p</th>\n",
       "      <th>q</th>\n",
       "      <th>p_corrected_BH</th>\n",
       "      <th>BH</th>\n",
       "      <th>bonferroni</th>\n",
       "    </tr>\n",
       "  </thead>\n",
       "  <tbody>\n",
       "    <tr>\n",
       "      <th>0</th>\n",
       "      <td>No E-Mail</td>\n",
       "      <td>Mens E-Mail</td>\n",
       "      <td>0.056732</td>\n",
       "      <td>0.033333</td>\n",
       "      <td>0.000548</td>\n",
       "      <td>True</td>\n",
       "      <td>True</td>\n",
       "    </tr>\n",
       "    <tr>\n",
       "      <th>1</th>\n",
       "      <td>No E-Mail</td>\n",
       "      <td>Womens E-Mail</td>\n",
       "      <td>0.107345</td>\n",
       "      <td>0.066667</td>\n",
       "      <td>0.001855</td>\n",
       "      <td>True</td>\n",
       "      <td>False</td>\n",
       "    </tr>\n",
       "    <tr>\n",
       "      <th>2</th>\n",
       "      <td>Mens E-Mail</td>\n",
       "      <td>Womens E-Mail</td>\n",
       "      <td>0.763290</td>\n",
       "      <td>0.100000</td>\n",
       "      <td>0.444702</td>\n",
       "      <td>False</td>\n",
       "      <td>False</td>\n",
       "    </tr>\n",
       "  </tbody>\n",
       "</table>\n",
       "</div>"
      ],
      "text/plain": [
       "          seg1           seg2         p         q  p_corrected_BH     BH  \\\n",
       "0    No E-Mail    Mens E-Mail  0.056732  0.033333        0.000548   True   \n",
       "1    No E-Mail  Womens E-Mail  0.107345  0.066667        0.001855   True   \n",
       "2  Mens E-Mail  Womens E-Mail  0.763290  0.100000        0.444702  False   \n",
       "\n",
       "   bonferroni  \n",
       "0        True  \n",
       "1       False  \n",
       "2       False  "
      ]
     },
     "execution_count": 26,
     "metadata": {},
     "output_type": "execute_result"
    }
   ],
   "source": [
    "def p(col1, col2):\n",
    "    return ttest_ind(\n",
    "        data[data.segment == col1].history.reset_index(drop=True),\n",
    "        data[data.segment == col2].history.reset_index(drop=True), equal_var=False).pvalue\n",
    "\n",
    "gamma = 0.1\n",
    "segments = data.segment.unique()\n",
    "df = pd.DataFrame(np.array(list(it.combinations(segments, 2))), columns=['seg1', 'seg2'])\n",
    "df['p'] = df.apply(lambda x: p(x['seg1'], x['seg2']), axis=1)\n",
    "df = df.sort_values(by=['p'])\n",
    "df['q'] = gamma * (df.index + 1) / len(df)\n",
    "df['p_corrected_BH'] = gamma * df['p'] ** len(df) / df['q']\n",
    "df['BH'] = df['p_corrected_BH'] < alpha\n",
    "df['bonferroni'] = df['p'] < bonferroni_alpha\n",
    "df"
   ]
  },
  {
   "cell_type": "code",
   "execution_count": null,
   "metadata": {},
   "outputs": [],
   "source": []
  }
 ],
 "metadata": {
  "kernelspec": {
   "display_name": ".venv",
   "language": "python",
   "name": "python3"
  },
  "language_info": {
   "codemirror_mode": {
    "name": "ipython",
    "version": 3
   },
   "file_extension": ".py",
   "mimetype": "text/x-python",
   "name": "python",
   "nbconvert_exporter": "python",
   "pygments_lexer": "ipython3",
   "version": "3.9.7"
  }
 },
 "nbformat": 4,
 "nbformat_minor": 2
}
