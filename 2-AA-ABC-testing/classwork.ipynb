{
 "cells": [
  {
   "cell_type": "code",
   "execution_count": 3,
   "metadata": {},
   "outputs": [
    {
     "name": "stderr",
     "output_type": "stream",
     "text": [
      "C:\\Users\\Alexandra\\AppData\\Local\\Temp\\ipykernel_6244\\3081221461.py:1: DeprecationWarning: \n",
      "Pyarrow will become a required dependency of pandas in the next major release of pandas (pandas 3.0),\n",
      "(to allow more performant data types, such as the Arrow string type, and better interoperability with other libraries)\n",
      "but was not found to be installed on your system.\n",
      "If this would cause problems for you,\n",
      "please provide us feedback at https://github.com/pandas-dev/pandas/issues/54466\n",
      "        \n",
      "  import pandas as pd\n"
     ]
    }
   ],
   "source": [
    "import pandas as pd\n",
    "import numpy as np\n",
    "import itertools as it\n",
    "from scipy import stats\n",
    "from statsmodels.stats import power"
   ]
  },
  {
   "cell_type": "markdown",
   "metadata": {},
   "source": [
    "# Подготовка данных для A/B-тестирования"
   ]
  },
  {
   "cell_type": "code",
   "execution_count": 3,
   "metadata": {},
   "outputs": [],
   "source": [
    "data = pd.read_csv(\"../data/cookie_cats.csv\")\n",
    "data = data[data.sum_gamerounds < data.sum_gamerounds.max()]\n",
    "A = data[data.version == \"gate_30\"].reset_index(drop=True)\n",
    "B = data[data.version == \"gate_40\"].reset_index(drop=True)"
   ]
  },
  {
   "cell_type": "markdown",
   "metadata": {},
   "source": [
    "## MDE"
   ]
  },
  {
   "cell_type": "markdown",
   "metadata": {},
   "source": [
    "**MDE** — minimum detectable effect, чем выше мощность, тем более маленькие эффекты мы способны обнаружить<br>\n",
    "\n",
    "$M = t_{\\alpha/2} + t_\\beta$\n",
    "\n",
    "$S = \\sqrt{\\frac{\\sigma^2_B}{n_B} + \\frac{\\sigma^2_A}{n_A}}$\n",
    "\n",
    "$MDE = M \\frac{S}{E(A)}$<br>\n",
    "(приведена формула MDE для t-теста, для разных параметрических критериев используются разные формулы, для непараметрических — другой подход)"
   ]
  },
  {
   "cell_type": "code",
   "execution_count": 5,
   "metadata": {},
   "outputs": [],
   "source": [
    "def MDE(A, B, alpha, beta):\n",
    "    df = (len(A) - 1) + (len(B) - 1) # степени свободы\n",
    "    M = stats.t.ppf(beta, df) + stats.t.ppf(alpha / 2, df) # расчет квантилей t-распределения\n",
    "\n",
    "    sd_a = A.std()\n",
    "    sd_b = B.std()\n",
    "    S = np.sqrt((sd_b**2 / len(B)) + (sd_a**2 / len(A)))\n",
    "\n",
    "    return  M * S / A.mean()"
   ]
  },
  {
   "cell_type": "code",
   "execution_count": 6,
   "metadata": {},
   "outputs": [
    {
     "data": {
      "text/plain": [
       "-0.014894848548463147"
      ]
     },
     "execution_count": 6,
     "metadata": {},
     "output_type": "execute_result"
    }
   ],
   "source": [
    "MDE(A.sum_gamerounds, B.sum_gamerounds, alpha=0.05, beta=0.8)"
   ]
  },
  {
   "cell_type": "markdown",
   "metadata": {},
   "source": [
    "Знак показывает направление эффекта, как и знак другой метрики: $lift = \\frac{E(B) - E(A)}{E(A)}$"
   ]
  },
  {
   "cell_type": "code",
   "execution_count": 4,
   "metadata": {},
   "outputs": [
    {
     "data": {
      "text/plain": [
       "-0.0008440446474390352"
      ]
     },
     "execution_count": 4,
     "metadata": {},
     "output_type": "execute_result"
    }
   ],
   "source": [
    "lift = (B.sum_gamerounds.mean() - A.sum_gamerounds.mean()) / A.sum_gamerounds.mean()\n",
    "lift"
   ]
  },
  {
   "cell_type": "markdown",
   "metadata": {},
   "source": [
    "Когда мы заведомо ограничены количеством наблюдений, можно вычислить, какой эффект мы сможем наблюдать:"
   ]
  },
  {
   "cell_type": "code",
   "execution_count": 8,
   "metadata": {},
   "outputs": [
    {
     "data": {
      "text/plain": [
       "0.018658644439254257"
      ]
     },
     "execution_count": 8,
     "metadata": {},
     "output_type": "execute_result"
    }
   ],
   "source": [
    "from statsmodels.stats import power\n",
    "\n",
    "alpha = 0.05\n",
    "beta = 0.8\n",
    "effect_size = power.TTestIndPower().solve_power(power=beta,\n",
    "                                                alpha=alpha,\n",
    "                                                nobs1=len(A),\n",
    "                                                ratio=len(B) / len(A),\n",
    "                                                alternative='two-sided')\n",
    "effect_size"
   ]
  },
  {
   "cell_type": "markdown",
   "metadata": {},
   "source": [
    "И для заранее заданного желаемого lift можем заранее посчитать, сколько нужно наблюдений в одинаковых по размеру группах A и B (формула для t-теста)"
   ]
  },
  {
   "cell_type": "code",
   "execution_count": 9,
   "metadata": {},
   "outputs": [
    {
     "data": {
      "text/plain": [
       "6203.647449126269"
      ]
     },
     "execution_count": 9,
     "metadata": {},
     "output_type": "execute_result"
    }
   ],
   "source": [
    "mean = A.sum_gamerounds.mean()\n",
    "se = A.sum_gamerounds.std()\n",
    "lift = 0.1\n",
    "effect_size = lift * mean / se\n",
    "power.tt_ind_solve_power(effect_size=effect_size, ratio=1, power=beta, alpha=alpha)"
   ]
  },
  {
   "cell_type": "markdown",
   "metadata": {},
   "source": [
    "Также после проведения рассчитанного количества экспериментов можно заново пересчитать lift и количество экспериментов.\n",
    "\n",
    "Мы знаем, как рассчитать необходимый объём выборок. Теперь нужно правильно выбрать пользователей для эксперимента."
   ]
  },
  {
   "cell_type": "markdown",
   "metadata": {},
   "source": [
    "## A/A-тесты\n",
    "* A/A-тест помогает удостовериться в том, что разделение выборок происходит корректно\n",
    "* Позволяет определить уровень значимости для A/B-теста\n",
    "* В целом проверяет надёжность работы системы тестов"
   ]
  },
  {
   "cell_type": "markdown",
   "metadata": {},
   "source": [
    "Итак, наша задача — выделить две группы пользователей и проверить, что в эксперимент не будут вмешиваться факторы, которые мы могли не учесть. Для получения двух выборок обычно смотрят, чтобы в каждую попало примерно одинаковое количество пользователей одного возраста/региона/количества покупок и любых других категорий, которые могут быть важны для эксперимента. Теперь научимся проверять, что две выборки мы взяли корректно."
   ]
  },
  {
   "cell_type": "markdown",
   "metadata": {},
   "source": [
    "Датасет ниже показывает статистику по продаже продуктов в магазинах разных категорий в течение полумесяца:"
   ]
  },
  {
   "cell_type": "code",
   "execution_count": 22,
   "metadata": {},
   "outputs": [
    {
     "data": {
      "text/html": [
       "<div>\n",
       "<style scoped>\n",
       "    .dataframe tbody tr th:only-of-type {\n",
       "        vertical-align: middle;\n",
       "    }\n",
       "\n",
       "    .dataframe tbody tr th {\n",
       "        vertical-align: top;\n",
       "    }\n",
       "\n",
       "    .dataframe thead th {\n",
       "        text-align: right;\n",
       "    }\n",
       "</style>\n",
       "<table border=\"1\" class=\"dataframe\">\n",
       "  <thead>\n",
       "    <tr style=\"text-align: right;\">\n",
       "      <th></th>\n",
       "      <th>id</th>\n",
       "      <th>date</th>\n",
       "      <th>store_nbr</th>\n",
       "      <th>family</th>\n",
       "      <th>onpromotion</th>\n",
       "    </tr>\n",
       "  </thead>\n",
       "  <tbody>\n",
       "    <tr>\n",
       "      <th>0</th>\n",
       "      <td>3000888</td>\n",
       "      <td>2017-08-16</td>\n",
       "      <td>1</td>\n",
       "      <td>AUTOMOTIVE</td>\n",
       "      <td>0</td>\n",
       "    </tr>\n",
       "    <tr>\n",
       "      <th>1</th>\n",
       "      <td>3000889</td>\n",
       "      <td>2017-08-16</td>\n",
       "      <td>1</td>\n",
       "      <td>BABY CARE</td>\n",
       "      <td>0</td>\n",
       "    </tr>\n",
       "    <tr>\n",
       "      <th>2</th>\n",
       "      <td>3000890</td>\n",
       "      <td>2017-08-16</td>\n",
       "      <td>1</td>\n",
       "      <td>BEAUTY</td>\n",
       "      <td>2</td>\n",
       "    </tr>\n",
       "    <tr>\n",
       "      <th>3</th>\n",
       "      <td>3000891</td>\n",
       "      <td>2017-08-16</td>\n",
       "      <td>1</td>\n",
       "      <td>BEVERAGES</td>\n",
       "      <td>20</td>\n",
       "    </tr>\n",
       "    <tr>\n",
       "      <th>4</th>\n",
       "      <td>3000892</td>\n",
       "      <td>2017-08-16</td>\n",
       "      <td>1</td>\n",
       "      <td>BOOKS</td>\n",
       "      <td>0</td>\n",
       "    </tr>\n",
       "    <tr>\n",
       "      <th>...</th>\n",
       "      <td>...</td>\n",
       "      <td>...</td>\n",
       "      <td>...</td>\n",
       "      <td>...</td>\n",
       "      <td>...</td>\n",
       "    </tr>\n",
       "    <tr>\n",
       "      <th>28507</th>\n",
       "      <td>3029395</td>\n",
       "      <td>2017-08-31</td>\n",
       "      <td>9</td>\n",
       "      <td>POULTRY</td>\n",
       "      <td>1</td>\n",
       "    </tr>\n",
       "    <tr>\n",
       "      <th>28508</th>\n",
       "      <td>3029396</td>\n",
       "      <td>2017-08-31</td>\n",
       "      <td>9</td>\n",
       "      <td>PREPARED FOODS</td>\n",
       "      <td>0</td>\n",
       "    </tr>\n",
       "    <tr>\n",
       "      <th>28509</th>\n",
       "      <td>3029397</td>\n",
       "      <td>2017-08-31</td>\n",
       "      <td>9</td>\n",
       "      <td>PRODUCE</td>\n",
       "      <td>1</td>\n",
       "    </tr>\n",
       "    <tr>\n",
       "      <th>28510</th>\n",
       "      <td>3029398</td>\n",
       "      <td>2017-08-31</td>\n",
       "      <td>9</td>\n",
       "      <td>SCHOOL AND OFFICE SUPPLIES</td>\n",
       "      <td>9</td>\n",
       "    </tr>\n",
       "    <tr>\n",
       "      <th>28511</th>\n",
       "      <td>3029399</td>\n",
       "      <td>2017-08-31</td>\n",
       "      <td>9</td>\n",
       "      <td>SEAFOOD</td>\n",
       "      <td>0</td>\n",
       "    </tr>\n",
       "  </tbody>\n",
       "</table>\n",
       "<p>28512 rows × 5 columns</p>\n",
       "</div>"
      ],
      "text/plain": [
       "            id        date  store_nbr                      family  onpromotion\n",
       "0      3000888  2017-08-16          1                  AUTOMOTIVE            0\n",
       "1      3000889  2017-08-16          1                   BABY CARE            0\n",
       "2      3000890  2017-08-16          1                      BEAUTY            2\n",
       "3      3000891  2017-08-16          1                   BEVERAGES           20\n",
       "4      3000892  2017-08-16          1                       BOOKS            0\n",
       "...        ...         ...        ...                         ...          ...\n",
       "28507  3029395  2017-08-31          9                     POULTRY            1\n",
       "28508  3029396  2017-08-31          9              PREPARED FOODS            0\n",
       "28509  3029397  2017-08-31          9                     PRODUCE            1\n",
       "28510  3029398  2017-08-31          9  SCHOOL AND OFFICE SUPPLIES            9\n",
       "28511  3029399  2017-08-31          9                     SEAFOOD            0\n",
       "\n",
       "[28512 rows x 5 columns]"
      ]
     },
     "execution_count": 22,
     "metadata": {},
     "output_type": "execute_result"
    }
   ],
   "source": [
    "sales_data = pd.read_csv(\"../data/store_sales_test.csv\")"
   ]
  },
  {
   "cell_type": "code",
   "execution_count": 275,
   "metadata": {},
   "outputs": [
    {
     "data": {
      "text/plain": [
       "family\n",
       "AUTOMOTIVE                     0.021991\n",
       "BABY CARE                      0.001157\n",
       "BEAUTY                         0.807870\n",
       "BEVERAGES                     25.903935\n",
       "BOOKS                          0.000000\n",
       "BREAD/BAKERY                  11.678241\n",
       "CELEBRATION                    0.031250\n",
       "CLEANING                      17.168981\n",
       "DAIRY                         23.677083\n",
       "DELI                          14.292824\n",
       "EGGS                           3.109954\n",
       "FROZEN FOODS                   1.120370\n",
       "GROCERY I                     56.913194\n",
       "GROCERY II                     0.200231\n",
       "HARDWARE                       0.003472\n",
       "HOME AND KITCHEN I             0.758102\n",
       "HOME AND KITCHEN II            1.637731\n",
       "HOME APPLIANCES                0.000000\n",
       "HOME CARE                      7.281250\n",
       "LADIESWEAR                     0.807870\n",
       "LAWN AND GARDEN                1.447917\n",
       "LINGERIE                       1.159722\n",
       "LIQUOR,WINE,BEER               3.184028\n",
       "MAGAZINES                      0.006944\n",
       "MEATS                          4.664352\n",
       "PERSONAL CARE                 11.318287\n",
       "PET SUPPLIES                   0.008102\n",
       "PLAYERS AND ELECTRONICS        0.135417\n",
       "POULTRY                        3.320602\n",
       "PREPARED FOODS                 0.087963\n",
       "PRODUCE                       35.134259\n",
       "SCHOOL AND OFFICE SUPPLIES     3.399306\n",
       "SEAFOOD                        0.575231\n",
       "Name: onpromotion, dtype: float64"
      ]
     },
     "execution_count": 275,
     "metadata": {},
     "output_type": "execute_result"
    }
   ],
   "source": [
    "sales_data.groupby('family').onpromotion.mean()"
   ]
  },
  {
   "cell_type": "markdown",
   "metadata": {},
   "source": [
    "Возьмём две выборки магазинов и продажи товаров одного типа, одна из выборок позже должна стать тестовой (будем вводить скидку, например)"
   ]
  },
  {
   "cell_type": "code",
   "execution_count": 100,
   "metadata": {},
   "outputs": [
    {
     "data": {
      "text/html": [
       "<div>\n",
       "<style scoped>\n",
       "    .dataframe tbody tr th:only-of-type {\n",
       "        vertical-align: middle;\n",
       "    }\n",
       "\n",
       "    .dataframe tbody tr th {\n",
       "        vertical-align: top;\n",
       "    }\n",
       "\n",
       "    .dataframe thead th {\n",
       "        text-align: right;\n",
       "    }\n",
       "</style>\n",
       "<table border=\"1\" class=\"dataframe\">\n",
       "  <thead>\n",
       "    <tr style=\"text-align: right;\">\n",
       "      <th></th>\n",
       "      <th>id</th>\n",
       "      <th>date</th>\n",
       "      <th>store_nbr</th>\n",
       "      <th>family</th>\n",
       "      <th>onpromotion</th>\n",
       "    </tr>\n",
       "  </thead>\n",
       "  <tbody>\n",
       "    <tr>\n",
       "      <th>63</th>\n",
       "      <td>3000951</td>\n",
       "      <td>2017-08-16</td>\n",
       "      <td>10</td>\n",
       "      <td>PRODUCE</td>\n",
       "      <td>230</td>\n",
       "    </tr>\n",
       "    <tr>\n",
       "      <th>129</th>\n",
       "      <td>3001017</td>\n",
       "      <td>2017-08-16</td>\n",
       "      <td>12</td>\n",
       "      <td>PRODUCE</td>\n",
       "      <td>219</td>\n",
       "    </tr>\n",
       "    <tr>\n",
       "      <th>195</th>\n",
       "      <td>3001083</td>\n",
       "      <td>2017-08-16</td>\n",
       "      <td>14</td>\n",
       "      <td>PRODUCE</td>\n",
       "      <td>223</td>\n",
       "    </tr>\n",
       "    <tr>\n",
       "      <th>261</th>\n",
       "      <td>3001149</td>\n",
       "      <td>2017-08-16</td>\n",
       "      <td>16</td>\n",
       "      <td>PRODUCE</td>\n",
       "      <td>211</td>\n",
       "    </tr>\n",
       "    <tr>\n",
       "      <th>327</th>\n",
       "      <td>3001215</td>\n",
       "      <td>2017-08-16</td>\n",
       "      <td>18</td>\n",
       "      <td>PRODUCE</td>\n",
       "      <td>156</td>\n",
       "    </tr>\n",
       "  </tbody>\n",
       "</table>\n",
       "</div>"
      ],
      "text/plain": [
       "          id        date  store_nbr   family  onpromotion\n",
       "63   3000951  2017-08-16         10  PRODUCE          230\n",
       "129  3001017  2017-08-16         12  PRODUCE          219\n",
       "195  3001083  2017-08-16         14  PRODUCE          223\n",
       "261  3001149  2017-08-16         16  PRODUCE          211\n",
       "327  3001215  2017-08-16         18  PRODUCE          156"
      ]
     },
     "execution_count": 100,
     "metadata": {},
     "output_type": "execute_result"
    }
   ],
   "source": [
    "general = sales_data[(sales_data.family == 'PRODUCE')]\n",
    "a1 = general[general.store_nbr % 2 == 0]\n",
    "a2 = general[general.store_nbr % 2 == 1]\n",
    "a1.head()"
   ]
  },
  {
   "cell_type": "markdown",
   "metadata": {},
   "source": [
    "Если у нас есть представления о том, какое разбиение хотелось получить, и неизвестно, какое получено в реальности, можно выполнить проверку на SRM — Sample Rate Mismatch, отклонение фактического разбиения от ожидаемого. Здесь приведён [$\\chi^2$-критерий](https://ru.wikipedia.org/wiki/%D0%9A%D1%80%D0%B8%D1%82%D0%B5%D1%80%D0%B8%D0%B9_%D1%85%D0%B8-%D0%BA%D0%B2%D0%B0%D0%B4%D1%80%D0%B0%D1%82). Если p-value *недостаточно близко к 1*, разбиение не соответствует ожидаемому и нужно его переделать, чтобы правильно провести эксперимент."
   ]
  },
  {
   "cell_type": "code",
   "execution_count": 101,
   "metadata": {},
   "outputs": [
    {
     "name": "stdout",
     "output_type": "stream",
     "text": [
      "Разбиение достаточно близко к желаемому\n"
     ]
    }
   ],
   "source": [
    "from scipy.stats import chisquare\n",
    "\n",
    "half = len(general.store_nbr.unique()) // 2\n",
    "chi = chisquare([len(a1.store_nbr.unique()), len(a2.store_nbr.unique())], f_exp = [half, half])\n",
    "print(\"Разбиение достаточно близко к желаемому\") if chi.pvalue > 0.95 else print(\"Разбиение сильно отличается от желаемого\")"
   ]
  },
  {
   "cell_type": "markdown",
   "metadata": {},
   "source": [
    "Если во время эксперимента мы хотим увидеть значимый эффект, то до эксперимента наоборот: отсутствие различий."
   ]
  },
  {
   "cell_type": "code",
   "execution_count": 92,
   "metadata": {},
   "outputs": [
    {
     "data": {
      "text/plain": [
       "0.5645815745827298"
      ]
     },
     "execution_count": 92,
     "metadata": {},
     "output_type": "execute_result"
    }
   ],
   "source": [
    "stats.ttest_ind(a1[a1.date == '2017-08-16'].onpromotion, a2[a2.date == '2017-08-16'].onpromotion, equal_var=False).pvalue"
   ]
  },
  {
   "cell_type": "markdown",
   "metadata": {},
   "source": [
    "Как видно, p-value больше чем $\\alpha = 0.05$ и разница средних нестатзначима. Но единоразового наблюдения для A/A-теста недостаточно: вдруг сегодня нам просто повезло? Обычно A/A-тест длится в течение месяца. Посмотрим на p-values за все дни сбора данных:"
   ]
  },
  {
   "cell_type": "code",
   "execution_count": 93,
   "metadata": {},
   "outputs": [],
   "source": [
    "pvals = []\n",
    "for date in a1.date.unique():\n",
    "    a1_vals = a1[a1.date == date].onpromotion\n",
    "    a2_vals = a2[a2.date == date].onpromotion\n",
    "    pvals.append(stats.ttest_ind(a1_vals, a2_vals, equal_var=False).pvalue)"
   ]
  },
  {
   "cell_type": "code",
   "execution_count": 94,
   "metadata": {},
   "outputs": [
    {
     "data": {
      "image/png": "[encoded data removed]",
      "text/plain": [
       "<Figure size 640x480 with 1 Axes>"
      ]
     },
     "metadata": {},
     "output_type": "display_data"
    }
   ],
   "source": [
    "import matplotlib.pyplot as pp\n",
    "\n",
    "pp.plot(pvals)\n",
    "pp.axhline(y=0.05, color='r')\n",
    "pp.show()"
   ]
  },
  {
   "cell_type": "markdown",
   "metadata": {},
   "source": [
    "Да, на протяжении всего периода A/A-теста p-value не опускалось ниже уровня значимости, но очень сильно колебалось. Для чистоты эксперимента нам нужно не только устойчивое подтверждение $H_0$, но и равномерное распределение p-values, ведь, возможно, следующее колебание вмешается в результаты нашего теста."
   ]
  },
  {
   "cell_type": "markdown",
   "metadata": {},
   "source": [
    "Для проверки равномерности используем критерий Колмогорова-Смирнова"
   ]
  },
  {
   "cell_type": "code",
   "execution_count": 95,
   "metadata": {},
   "outputs": [
    {
     "data": {
      "text/plain": [
       "KstestResult(statistic=0.43958157458272984, pvalue=0.0024783531047605223, statistic_location=0.5645815745827298, statistic_sign=-1)"
      ]
     },
     "execution_count": 95,
     "metadata": {},
     "output_type": "execute_result"
    }
   ],
   "source": [
    "from scipy.stats import kstest\n",
    "\n",
    "ks = kstest(pvals, \"uniform\", args=(0, 1))\n",
    "ks"
   ]
  },
  {
   "cell_type": "code",
   "execution_count": 174,
   "metadata": {},
   "outputs": [
    {
     "name": "stdout",
     "output_type": "stream",
     "text": [
      "Распределение не равномерно\n"
     ]
    }
   ],
   "source": [
    "print(\"Распределение достаточно равномерно\") if ks.pvalue > 0.05 else print(\"Распределение не равномерно\")"
   ]
  },
  {
   "cell_type": "markdown",
   "metadata": {},
   "source": [
    "Урежем выборки так, чтобы они удовлетворяли этому условию:"
   ]
  },
  {
   "cell_type": "code",
   "execution_count": 267,
   "metadata": {},
   "outputs": [
    {
     "name": "stdout",
     "output_type": "stream",
     "text": [
      "Распределение достаточно равномерно\n"
     ]
    }
   ],
   "source": [
    "a1 = general[general.store_nbr.isin([53, 21, 52, 51, 29, 37, 26, 18, 17, 43])]\n",
    "a2 = general[general.store_nbr.isin([9,  1, 22, 16, 47, 36, 23, 41, 32, 49])]\n",
    "pvals = []\n",
    "for date in a1.date.unique():\n",
    "    a1_vals = a1[a1.date == date].onpromotion\n",
    "    a2_vals = a2[a2.date == date].onpromotion\n",
    "    pvals.append(stats.ttest_ind(a1_vals, a2_vals, equal_var=False).pvalue)\n",
    "print(\"Распределение достаточно равномерно\") if kstest(pvals, \"uniform\", args=(0, 1)).pvalue > 0.05 else print(\"Распределение не равномерно\")"
   ]
  },
  {
   "cell_type": "code",
   "execution_count": 268,
   "metadata": {},
   "outputs": [
    {
     "data": {
      "image/png": "[encoded data removed]",
      "text/plain": [
       "<Figure size 640x480 with 1 Axes>"
      ]
     },
     "metadata": {},
     "output_type": "display_data"
    }
   ],
   "source": [
    "pp.plot(pvals)\n",
    "pp.axhline(y=0.05, color='r')\n",
    "pp.show()"
   ]
  },
  {
   "cell_type": "markdown",
   "metadata": {},
   "source": [
    "Также две выборки должны быть **гомогенны** (однородны), то есть, должны принадлежать одному распределению:"
   ]
  },
  {
   "cell_type": "code",
   "execution_count": 276,
   "metadata": {},
   "outputs": [
    {
     "data": {
      "text/plain": [
       "True"
      ]
     },
     "execution_count": 276,
     "metadata": {},
     "output_type": "execute_result"
    }
   ],
   "source": [
    "kstest(a1_vals, a2_vals).pvalue > 0.05"
   ]
  },
  {
   "cell_type": "markdown",
   "metadata": {},
   "source": [
    "И их распределение должно совпадать с распределением генеральной совокупности:"
   ]
  },
  {
   "cell_type": "code",
   "execution_count": 277,
   "metadata": {},
   "outputs": [
    {
     "data": {
      "text/plain": [
       "(True, True)"
      ]
     },
     "execution_count": 277,
     "metadata": {},
     "output_type": "execute_result"
    }
   ],
   "source": [
    "kstest(a1_vals, general.onpromotion).pvalue > 0.05, kstest(a2_vals, general.onpromotion).pvalue > 0.05"
   ]
  },
  {
   "cell_type": "markdown",
   "metadata": {},
   "source": [
    "Нашли разбиение, для которого A/A-тест стабильно подтверждает нулевую гипотезу и выборки которого отражают распределение ГС. Можно переходить к знакомой процедуре A/B-теста."
   ]
  },
  {
   "cell_type": "markdown",
   "metadata": {},
   "source": [
    "## A/B/C-тесты"
   ]
  },
  {
   "cell_type": "markdown",
   "metadata": {},
   "source": [
    "В некоторых ситуациях может понадобиться одновременно протестировать несколько гипотез."
   ]
  },
  {
   "cell_type": "markdown",
   "metadata": {},
   "source": [
    "Эксперимент: магазин одежды отправлял клиентам почтовую рассылку с рекламой женской одежды, мужской одежды или не отправлял рассылку вообще. Будем оценивать суммы, потраченные этими пользователями на сайте за год."
   ]
  },
  {
   "cell_type": "code",
   "execution_count": 13,
   "metadata": {},
   "outputs": [
    {
     "data": {
      "text/html": [
       "<div>\n",
       "<style scoped>\n",
       "    .dataframe tbody tr th:only-of-type {\n",
       "        vertical-align: middle;\n",
       "    }\n",
       "\n",
       "    .dataframe tbody tr th {\n",
       "        vertical-align: top;\n",
       "    }\n",
       "\n",
       "    .dataframe thead th {\n",
       "        text-align: right;\n",
       "    }\n",
       "</style>\n",
       "<table border=\"1\" class=\"dataframe\">\n",
       "  <thead>\n",
       "    <tr style=\"text-align: right;\">\n",
       "      <th></th>\n",
       "      <th>recency</th>\n",
       "      <th>history_segment</th>\n",
       "      <th>history</th>\n",
       "      <th>mens</th>\n",
       "      <th>womens</th>\n",
       "      <th>zip_code</th>\n",
       "      <th>newbie</th>\n",
       "      <th>channel</th>\n",
       "      <th>segment</th>\n",
       "    </tr>\n",
       "  </thead>\n",
       "  <tbody>\n",
       "    <tr>\n",
       "      <th>0</th>\n",
       "      <td>10</td>\n",
       "      <td>2) $100 - $200</td>\n",
       "      <td>142.44</td>\n",
       "      <td>1</td>\n",
       "      <td>0</td>\n",
       "      <td>Surburban</td>\n",
       "      <td>0</td>\n",
       "      <td>Phone</td>\n",
       "      <td>Womens E-Mail</td>\n",
       "    </tr>\n",
       "    <tr>\n",
       "      <th>1</th>\n",
       "      <td>6</td>\n",
       "      <td>3) $200 - $350</td>\n",
       "      <td>329.08</td>\n",
       "      <td>1</td>\n",
       "      <td>1</td>\n",
       "      <td>Rural</td>\n",
       "      <td>1</td>\n",
       "      <td>Web</td>\n",
       "      <td>No E-Mail</td>\n",
       "    </tr>\n",
       "    <tr>\n",
       "      <th>2</th>\n",
       "      <td>7</td>\n",
       "      <td>2) $100 - $200</td>\n",
       "      <td>180.65</td>\n",
       "      <td>0</td>\n",
       "      <td>1</td>\n",
       "      <td>Surburban</td>\n",
       "      <td>1</td>\n",
       "      <td>Web</td>\n",
       "      <td>Womens E-Mail</td>\n",
       "    </tr>\n",
       "    <tr>\n",
       "      <th>3</th>\n",
       "      <td>9</td>\n",
       "      <td>5) $500 - $750</td>\n",
       "      <td>675.83</td>\n",
       "      <td>1</td>\n",
       "      <td>0</td>\n",
       "      <td>Rural</td>\n",
       "      <td>1</td>\n",
       "      <td>Web</td>\n",
       "      <td>Mens E-Mail</td>\n",
       "    </tr>\n",
       "    <tr>\n",
       "      <th>4</th>\n",
       "      <td>2</td>\n",
       "      <td>1) $0 - $100</td>\n",
       "      <td>45.34</td>\n",
       "      <td>1</td>\n",
       "      <td>0</td>\n",
       "      <td>Urban</td>\n",
       "      <td>0</td>\n",
       "      <td>Web</td>\n",
       "      <td>Womens E-Mail</td>\n",
       "    </tr>\n",
       "    <tr>\n",
       "      <th>...</th>\n",
       "      <td>...</td>\n",
       "      <td>...</td>\n",
       "      <td>...</td>\n",
       "      <td>...</td>\n",
       "      <td>...</td>\n",
       "      <td>...</td>\n",
       "      <td>...</td>\n",
       "      <td>...</td>\n",
       "      <td>...</td>\n",
       "    </tr>\n",
       "    <tr>\n",
       "      <th>63995</th>\n",
       "      <td>10</td>\n",
       "      <td>2) $100 - $200</td>\n",
       "      <td>105.54</td>\n",
       "      <td>1</td>\n",
       "      <td>0</td>\n",
       "      <td>Urban</td>\n",
       "      <td>0</td>\n",
       "      <td>Web</td>\n",
       "      <td>Mens E-Mail</td>\n",
       "    </tr>\n",
       "    <tr>\n",
       "      <th>63996</th>\n",
       "      <td>5</td>\n",
       "      <td>1) $0 - $100</td>\n",
       "      <td>38.91</td>\n",
       "      <td>0</td>\n",
       "      <td>1</td>\n",
       "      <td>Urban</td>\n",
       "      <td>1</td>\n",
       "      <td>Phone</td>\n",
       "      <td>Mens E-Mail</td>\n",
       "    </tr>\n",
       "    <tr>\n",
       "      <th>63997</th>\n",
       "      <td>6</td>\n",
       "      <td>1) $0 - $100</td>\n",
       "      <td>29.99</td>\n",
       "      <td>1</td>\n",
       "      <td>0</td>\n",
       "      <td>Urban</td>\n",
       "      <td>1</td>\n",
       "      <td>Phone</td>\n",
       "      <td>Mens E-Mail</td>\n",
       "    </tr>\n",
       "    <tr>\n",
       "      <th>63998</th>\n",
       "      <td>1</td>\n",
       "      <td>5) $500 - $750</td>\n",
       "      <td>552.94</td>\n",
       "      <td>1</td>\n",
       "      <td>0</td>\n",
       "      <td>Surburban</td>\n",
       "      <td>1</td>\n",
       "      <td>Multichannel</td>\n",
       "      <td>Womens E-Mail</td>\n",
       "    </tr>\n",
       "    <tr>\n",
       "      <th>63999</th>\n",
       "      <td>1</td>\n",
       "      <td>4) $350 - $500</td>\n",
       "      <td>472.82</td>\n",
       "      <td>0</td>\n",
       "      <td>1</td>\n",
       "      <td>Surburban</td>\n",
       "      <td>0</td>\n",
       "      <td>Web</td>\n",
       "      <td>Mens E-Mail</td>\n",
       "    </tr>\n",
       "  </tbody>\n",
       "</table>\n",
       "<p>64000 rows × 9 columns</p>\n",
       "</div>"
      ],
      "text/plain": [
       "       recency history_segment  history  mens  womens   zip_code  newbie  \\\n",
       "0           10  2) $100 - $200   142.44     1       0  Surburban       0   \n",
       "1            6  3) $200 - $350   329.08     1       1      Rural       1   \n",
       "2            7  2) $100 - $200   180.65     0       1  Surburban       1   \n",
       "3            9  5) $500 - $750   675.83     1       0      Rural       1   \n",
       "4            2    1) $0 - $100    45.34     1       0      Urban       0   \n",
       "...        ...             ...      ...   ...     ...        ...     ...   \n",
       "63995       10  2) $100 - $200   105.54     1       0      Urban       0   \n",
       "63996        5    1) $0 - $100    38.91     0       1      Urban       1   \n",
       "63997        6    1) $0 - $100    29.99     1       0      Urban       1   \n",
       "63998        1  5) $500 - $750   552.94     1       0  Surburban       1   \n",
       "63999        1  4) $350 - $500   472.82     0       1  Surburban       0   \n",
       "\n",
       "            channel        segment  \n",
       "0             Phone  Womens E-Mail  \n",
       "1               Web      No E-Mail  \n",
       "2               Web  Womens E-Mail  \n",
       "3               Web    Mens E-Mail  \n",
       "4               Web  Womens E-Mail  \n",
       "...             ...            ...  \n",
       "63995           Web    Mens E-Mail  \n",
       "63996         Phone    Mens E-Mail  \n",
       "63997         Phone    Mens E-Mail  \n",
       "63998  Multichannel  Womens E-Mail  \n",
       "63999           Web    Mens E-Mail  \n",
       "\n",
       "[64000 rows x 9 columns]"
      ]
     },
     "execution_count": 13,
     "metadata": {},
     "output_type": "execute_result"
    }
   ],
   "source": [
    "data = pd.read_csv(\"../data/MineThatData.csv\")\n",
    "data"
   ]
  },
  {
   "cell_type": "markdown",
   "metadata": {},
   "source": [
    "Рассмотрим только группу клиентов из сельской местности (для неё более показательные результаты)"
   ]
  },
  {
   "cell_type": "code",
   "execution_count": 15,
   "metadata": {},
   "outputs": [],
   "source": [
    "data = data[data.zip_code == 'Rural']"
   ]
  },
  {
   "cell_type": "code",
   "execution_count": 16,
   "metadata": {},
   "outputs": [
    {
     "data": {
      "text/plain": [
       "segment\n",
       "Mens E-Mail      3243\n",
       "Womens E-Mail    3181\n",
       "No E-Mail        3139\n",
       "Name: count, dtype: int64"
      ]
     },
     "execution_count": 16,
     "metadata": {},
     "output_type": "execute_result"
    }
   ],
   "source": [
    "data['segment'].value_counts()"
   ]
  },
  {
   "cell_type": "code",
   "execution_count": 17,
   "metadata": {},
   "outputs": [
    {
     "data": {
      "text/html": [
       "<div>\n",
       "<style scoped>\n",
       "    .dataframe tbody tr th:only-of-type {\n",
       "        vertical-align: middle;\n",
       "    }\n",
       "\n",
       "    .dataframe tbody tr th {\n",
       "        vertical-align: top;\n",
       "    }\n",
       "\n",
       "    .dataframe thead th {\n",
       "        text-align: right;\n",
       "    }\n",
       "</style>\n",
       "<table border=\"1\" class=\"dataframe\">\n",
       "  <thead>\n",
       "    <tr style=\"text-align: right;\">\n",
       "      <th></th>\n",
       "      <th>segment</th>\n",
       "      <th>history</th>\n",
       "    </tr>\n",
       "  </thead>\n",
       "  <tbody>\n",
       "    <tr>\n",
       "      <th>1</th>\n",
       "      <td>No E-Mail</td>\n",
       "      <td>329.08</td>\n",
       "    </tr>\n",
       "    <tr>\n",
       "      <th>3</th>\n",
       "      <td>Mens E-Mail</td>\n",
       "      <td>675.83</td>\n",
       "    </tr>\n",
       "    <tr>\n",
       "      <th>8</th>\n",
       "      <td>Mens E-Mail</td>\n",
       "      <td>675.07</td>\n",
       "    </tr>\n",
       "    <tr>\n",
       "      <th>14</th>\n",
       "      <td>No E-Mail</td>\n",
       "      <td>241.42</td>\n",
       "    </tr>\n",
       "    <tr>\n",
       "      <th>17</th>\n",
       "      <td>Mens E-Mail</td>\n",
       "      <td>112.35</td>\n",
       "    </tr>\n",
       "    <tr>\n",
       "      <th>...</th>\n",
       "      <td>...</td>\n",
       "      <td>...</td>\n",
       "    </tr>\n",
       "    <tr>\n",
       "      <th>63949</th>\n",
       "      <td>No E-Mail</td>\n",
       "      <td>86.79</td>\n",
       "    </tr>\n",
       "    <tr>\n",
       "      <th>63951</th>\n",
       "      <td>Womens E-Mail</td>\n",
       "      <td>50.94</td>\n",
       "    </tr>\n",
       "    <tr>\n",
       "      <th>63952</th>\n",
       "      <td>No E-Mail</td>\n",
       "      <td>29.99</td>\n",
       "    </tr>\n",
       "    <tr>\n",
       "      <th>63958</th>\n",
       "      <td>Womens E-Mail</td>\n",
       "      <td>65.82</td>\n",
       "    </tr>\n",
       "    <tr>\n",
       "      <th>63981</th>\n",
       "      <td>No E-Mail</td>\n",
       "      <td>125.53</td>\n",
       "    </tr>\n",
       "  </tbody>\n",
       "</table>\n",
       "<p>9563 rows × 2 columns</p>\n",
       "</div>"
      ],
      "text/plain": [
       "             segment  history\n",
       "1          No E-Mail   329.08\n",
       "3        Mens E-Mail   675.83\n",
       "8        Mens E-Mail   675.07\n",
       "14         No E-Mail   241.42\n",
       "17       Mens E-Mail   112.35\n",
       "...              ...      ...\n",
       "63949      No E-Mail    86.79\n",
       "63951  Womens E-Mail    50.94\n",
       "63952      No E-Mail    29.99\n",
       "63958  Womens E-Mail    65.82\n",
       "63981      No E-Mail   125.53\n",
       "\n",
       "[9563 rows x 2 columns]"
      ]
     },
     "execution_count": 17,
     "metadata": {},
     "output_type": "execute_result"
    }
   ],
   "source": [
    "data = data[['segment', 'history']]\n",
    "data"
   ]
  },
  {
   "cell_type": "code",
   "execution_count": 18,
   "metadata": {},
   "outputs": [
    {
     "data": {
      "text/plain": [
       "segment\n",
       "Mens E-Mail      238.224607\n",
       "No E-Mail        250.424944\n",
       "Womens E-Mail    240.102446\n",
       "Name: history, dtype: float64"
      ]
     },
     "execution_count": 18,
     "metadata": {},
     "output_type": "execute_result"
    }
   ],
   "source": [
    "data.groupby('segment').history.mean()"
   ]
  },
  {
   "cell_type": "markdown",
   "metadata": {},
   "source": [
    "Растёт вероятность ошибки для независимых p-value, поэтому поднимается уровень значимости (false positive): $1 - (1 - \\alpha)^n$, где n для A/B/.../N теста $n=\\binom{N}{2}$"
   ]
  },
  {
   "cell_type": "code",
   "execution_count": 24,
   "metadata": {},
   "outputs": [
    {
     "data": {
      "text/plain": [
       "0.4879999999999999"
      ]
     },
     "execution_count": 24,
     "metadata": {},
     "output_type": "execute_result"
    }
   ],
   "source": [
    "# слишком высокая альфа для настоящего эксперимента\n",
    "alpha = 0.2\n",
    "1 - (1 - alpha) ** 3"
   ]
  },
  {
   "cell_type": "markdown",
   "metadata": {},
   "source": [
    "Поправка Бонферрони: $\\alpha* = \\frac{\\alpha}{n}$"
   ]
  },
  {
   "cell_type": "code",
   "execution_count": 25,
   "metadata": {},
   "outputs": [
    {
     "data": {
      "text/plain": [
       "0.06666666666666667"
      ]
     },
     "execution_count": 25,
     "metadata": {},
     "output_type": "execute_result"
    }
   ],
   "source": [
    "bonferroni_alpha = alpha / 3\n",
    "bonferroni_alpha"
   ]
  },
  {
   "cell_type": "markdown",
   "metadata": {},
   "source": [
    "Более чувствительная и более сложная поправка Бенджамини-Хохберга:<br>\n",
    "1. Сортируем p-значения по возрастанию и присваиваем им индексы<br>\n",
    "$p_1\\leq p_2\\leq ...\\leq p_n$<br>\n",
    "2. Находим p с наибольшим рангом $j*$ такое, что:<br>\n",
    "$p_j\\leq q$; $q = \\gamma \\frac{j}{n}$<br>\n",
    "3. Все тесты с рангом $j < j*$ — статзначимые"
   ]
  },
  {
   "cell_type": "markdown",
   "metadata": {},
   "source": [
    "Сравним результаты с двумя этими поправками."
   ]
  },
  {
   "cell_type": "code",
   "execution_count": 26,
   "metadata": {},
   "outputs": [
    {
     "data": {
      "text/html": [
       "<div>\n",
       "<style scoped>\n",
       "    .dataframe tbody tr th:only-of-type {\n",
       "        vertical-align: middle;\n",
       "    }\n",
       "\n",
       "    .dataframe tbody tr th {\n",
       "        vertical-align: top;\n",
       "    }\n",
       "\n",
       "    .dataframe thead th {\n",
       "        text-align: right;\n",
       "    }\n",
       "</style>\n",
       "<table border=\"1\" class=\"dataframe\">\n",
       "  <thead>\n",
       "    <tr style=\"text-align: right;\">\n",
       "      <th></th>\n",
       "      <th>seg1</th>\n",
       "      <th>seg2</th>\n",
       "      <th>p</th>\n",
       "      <th>q</th>\n",
       "      <th>p_corrected_BH</th>\n",
       "      <th>BH</th>\n",
       "      <th>bonferroni</th>\n",
       "    </tr>\n",
       "  </thead>\n",
       "  <tbody>\n",
       "    <tr>\n",
       "      <th>0</th>\n",
       "      <td>No E-Mail</td>\n",
       "      <td>Mens E-Mail</td>\n",
       "      <td>0.056732</td>\n",
       "      <td>0.033333</td>\n",
       "      <td>0.000548</td>\n",
       "      <td>True</td>\n",
       "      <td>True</td>\n",
       "    </tr>\n",
       "    <tr>\n",
       "      <th>1</th>\n",
       "      <td>No E-Mail</td>\n",
       "      <td>Womens E-Mail</td>\n",
       "      <td>0.107345</td>\n",
       "      <td>0.066667</td>\n",
       "      <td>0.001855</td>\n",
       "      <td>True</td>\n",
       "      <td>False</td>\n",
       "    </tr>\n",
       "    <tr>\n",
       "      <th>2</th>\n",
       "      <td>Mens E-Mail</td>\n",
       "      <td>Womens E-Mail</td>\n",
       "      <td>0.763290</td>\n",
       "      <td>0.100000</td>\n",
       "      <td>0.444702</td>\n",
       "      <td>False</td>\n",
       "      <td>False</td>\n",
       "    </tr>\n",
       "  </tbody>\n",
       "</table>\n",
       "</div>"
      ],
      "text/plain": [
       "          seg1           seg2         p         q  p_corrected_BH     BH  \\\n",
       "0    No E-Mail    Mens E-Mail  0.056732  0.033333        0.000548   True   \n",
       "1    No E-Mail  Womens E-Mail  0.107345  0.066667        0.001855   True   \n",
       "2  Mens E-Mail  Womens E-Mail  0.763290  0.100000        0.444702  False   \n",
       "\n",
       "   bonferroni  \n",
       "0        True  \n",
       "1       False  \n",
       "2       False  "
      ]
     },
     "execution_count": 26,
     "metadata": {},
     "output_type": "execute_result"
    }
   ],
   "source": [
    "def p(col1, col2):\n",
    "    return ttest_ind(\n",
    "        data[data.segment == col1].history.reset_index(drop=True),\n",
    "        data[data.segment == col2].history.reset_index(drop=True), equal_var=False).pvalue\n",
    "\n",
    "gamma = 0.1\n",
    "segments = data.segment.unique()\n",
    "df = pd.DataFrame(np.array(list(it.combinations(segments, 2))), columns=['seg1', 'seg2'])\n",
    "df['p'] = df.apply(lambda x: p(x['seg1'], x['seg2']), axis=1)\n",
    "df = df.sort_values(by=['p'])\n",
    "df['q'] = gamma * (df.index + 1) / len(df)\n",
    "df['p_corrected_BH'] = gamma * df['p'] ** len(df) / df['q']\n",
    "df['BH'] = df['p_corrected_BH'] < alpha\n",
    "df['bonferroni'] = df['p'] < bonferroni_alpha\n",
    "df"
   ]
  },
  {
   "cell_type": "code",
   "execution_count": null,
   "metadata": {},
   "outputs": [],
   "source": []
  }
 ],
 "metadata": {
  "kernelspec": {
   "display_name": ".venv",
   "language": "python",
   "name": "python3"
  },
  "language_info": {
   "codemirror_mode": {
    "name": "ipython",
    "version": 3
   },
   "file_extension": ".py",
   "mimetype": "text/x-python",
   "name": "python",
   "nbconvert_exporter": "python",
   "pygments_lexer": "ipython3",
   "version": "3.9.7"
  }
 },
 "nbformat": 4,
 "nbformat_minor": 2
}
