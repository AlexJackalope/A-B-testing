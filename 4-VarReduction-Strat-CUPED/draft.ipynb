{
 "cells": [
  {
   "cell_type": "code",
   "execution_count": null,
   "metadata": {},
   "outputs": [],
   "source": [
    "A['X'] = data.sum_gamerounds.mean()\n",
    "B['X'] = data.sum_gamerounds.mean()\n",
    "theta_A = smf.ols('sum_gamerounds ~ X', data=A).fit().params[1]\n",
    "theta_B = smf.ols('sum_gamerounds ~ X', data=B).fit().params[1]\n",
    "A['corrected'] = A['sum_gamerounds'] - (A['X'] - A.sum_gamerounds.mean()) * theta_A\n",
    "B['corrected'] = B['sum_gamerounds'] - (B['X'] - B.sum_gamerounds.mean()) * theta_B\n",
    "\n",
    "A_cuped_var = A['corrected'].var()\n",
    "B_cuped_var = B['corrected'].var()\n",
    "A_cuped_mean = A['corrected'].mean()\n",
    "B_cuped_mean = B['corrected'].mean()"
   ]
  }
 ],
 "metadata": {
  "language_info": {
   "name": "python"
  }
 },
 "nbformat": 4,
 "nbformat_minor": 2
}
