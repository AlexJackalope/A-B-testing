{
 "cells": [
  {
   "cell_type": "code",
   "execution_count": null,
   "metadata": {},
   "outputs": [],
   "source": [
    "import pandas as pd\n",
    "import numpy as np\n",
    "\n",
    "from scipy import stats\n",
    "from matplotlib import pyplot as plt\n",
    "import statsmodels.formula.api as smf\n",
    "from statsmodels.stats import power"
   ]
  },
  {
   "cell_type": "markdown",
   "metadata": {},
   "source": [
    "## Сокращение дисперсии"
   ]
  },
  {
   "cell_type": "markdown",
   "metadata": {},
   "source": [
    "Чем меньше дисперсия (а с ней и среднеквадратичное отклонение):\n",
    "* Тем меньший размер выборки нужен для наблюдения фиксированного эффекта\n",
    "* Тем более низкие эффекты можно замечать при том же размере выборки"
   ]
  },
  {
   "cell_type": "markdown",
   "metadata": {},
   "source": [
    "### Увеличение объёма выборки"
   ]
  },
  {
   "cell_type": "code",
   "execution_count": 177,
   "metadata": {},
   "outputs": [
    {
     "data": {
      "image/png": "[encoded data removed]",
      "text/plain": [
       "<Figure size 640x480 with 1 Axes>"
      ]
     },
     "metadata": {},
     "output_type": "display_data"
    }
   ],
   "source": [
    "data = stats.norm.rvs(size=10000, loc=50, scale = 10)\n",
    "\n",
    "size = 0\n",
    "sizes = []\n",
    "vars = []\n",
    "while size < 10000:\n",
    "    size += 10\n",
    "    sizes.append(size)\n",
    "    vars.append(np.var(data[:size]))\n",
    "\n",
    "plt.plot(sizes, vars)\n",
    "plt.show()"
   ]
  },
  {
   "cell_type": "markdown",
   "metadata": {},
   "source": [
    "### Удаление наблюдений (тримминг)\n",
    "\n",
    "Причины:\n",
    "* Значительные выбросы\n",
    "* Exposured-пользователи, то есть, пользователи из самого начала эксперимента. В тестовую группу могли попасть пользователи, не умеющие работать с тестируемой фичой, они вносят дополнительную дисперсию.\n",
    "\n",
    "Но нужно убедиться в том, что не удаляются важные для эксперимента наблюдения."
   ]
  },
  {
   "cell_type": "code",
   "execution_count": 4,
   "metadata": {},
   "outputs": [
    {
     "data": {
      "text/plain": [
       "(102.91913294303933, 63.3364655599925)"
      ]
     },
     "execution_count": 4,
     "metadata": {},
     "output_type": "execute_result"
    }
   ],
   "source": [
    "data = stats.norm.rvs(size=1000, loc=50, scale = 10)\n",
    "[lower, upper] = np.percentile(data, [5, 95])\n",
    "trimmed = data[(data > lower) & (data < upper)]\n",
    "data.var(), trimmed.var()"
   ]
  },
  {
   "cell_type": "markdown",
   "metadata": {},
   "source": [
    "### Стратификация и пост-стратификация\n",
    "\n",
    "Заранее или во время экспериментов пользователи разбиваются на k **страт** по дополнительным фичам (типу устройства, региону и т.п.)."
   ]
  },
  {
   "cell_type": "code",
   "execution_count": 122,
   "metadata": {},
   "outputs": [
    {
     "data": {
      "text/html": [
       "<div>\n",
       "<style scoped>\n",
       "    .dataframe tbody tr th:only-of-type {\n",
       "        vertical-align: middle;\n",
       "    }\n",
       "\n",
       "    .dataframe tbody tr th {\n",
       "        vertical-align: top;\n",
       "    }\n",
       "\n",
       "    .dataframe thead th {\n",
       "        text-align: right;\n",
       "    }\n",
       "</style>\n",
       "<table border=\"1\" class=\"dataframe\">\n",
       "  <thead>\n",
       "    <tr style=\"text-align: right;\">\n",
       "      <th></th>\n",
       "      <th>auction_id</th>\n",
       "      <th>experiment</th>\n",
       "      <th>date</th>\n",
       "      <th>hour</th>\n",
       "      <th>device_make</th>\n",
       "      <th>platform_os</th>\n",
       "      <th>browser</th>\n",
       "      <th>yes</th>\n",
       "    </tr>\n",
       "  </thead>\n",
       "  <tbody>\n",
       "    <tr>\n",
       "      <th>2</th>\n",
       "      <td>0016d14a-ae18-4a02-a204-6ba53b52f2ed</td>\n",
       "      <td>exposed</td>\n",
       "      <td>2020-07-05</td>\n",
       "      <td>2</td>\n",
       "      <td>E5823</td>\n",
       "      <td>6</td>\n",
       "      <td>Chrome Mobile WebView</td>\n",
       "      <td>0</td>\n",
       "    </tr>\n",
       "    <tr>\n",
       "      <th>16</th>\n",
       "      <td>008aafdf-deef-4482-8fec-d98e3da054da</td>\n",
       "      <td>exposed</td>\n",
       "      <td>2020-07-04</td>\n",
       "      <td>16</td>\n",
       "      <td>Generic Smartphone</td>\n",
       "      <td>6</td>\n",
       "      <td>Chrome Mobile</td>\n",
       "      <td>1</td>\n",
       "    </tr>\n",
       "    <tr>\n",
       "      <th>20</th>\n",
       "      <td>00a1384a-5118-4d1b-925b-6cdada50318d</td>\n",
       "      <td>exposed</td>\n",
       "      <td>2020-07-06</td>\n",
       "      <td>8</td>\n",
       "      <td>Generic Smartphone</td>\n",
       "      <td>6</td>\n",
       "      <td>Chrome Mobile</td>\n",
       "      <td>0</td>\n",
       "    </tr>\n",
       "    <tr>\n",
       "      <th>23</th>\n",
       "      <td>00b6fadb-10bd-49e3-a778-290da82f7a8d</td>\n",
       "      <td>control</td>\n",
       "      <td>2020-07-08</td>\n",
       "      <td>4</td>\n",
       "      <td>Samsung SM-A202F</td>\n",
       "      <td>6</td>\n",
       "      <td>Facebook</td>\n",
       "      <td>1</td>\n",
       "    </tr>\n",
       "    <tr>\n",
       "      <th>27</th>\n",
       "      <td>00ebf4a8-060f-4b99-93ac-c62724399483</td>\n",
       "      <td>control</td>\n",
       "      <td>2020-07-03</td>\n",
       "      <td>15</td>\n",
       "      <td>Generic Smartphone</td>\n",
       "      <td>6</td>\n",
       "      <td>Chrome Mobile</td>\n",
       "      <td>0</td>\n",
       "    </tr>\n",
       "    <tr>\n",
       "      <th>...</th>\n",
       "      <td>...</td>\n",
       "      <td>...</td>\n",
       "      <td>...</td>\n",
       "      <td>...</td>\n",
       "      <td>...</td>\n",
       "      <td>...</td>\n",
       "      <td>...</td>\n",
       "      <td>...</td>\n",
       "    </tr>\n",
       "    <tr>\n",
       "      <th>8059</th>\n",
       "      <td>ffa08ff9-a132-4051-aef5-01a9c79367bc</td>\n",
       "      <td>exposed</td>\n",
       "      <td>2020-07-05</td>\n",
       "      <td>21</td>\n",
       "      <td>Generic Smartphone</td>\n",
       "      <td>6</td>\n",
       "      <td>Chrome Mobile</td>\n",
       "      <td>1</td>\n",
       "    </tr>\n",
       "    <tr>\n",
       "      <th>8063</th>\n",
       "      <td>ffb176df-ecd2-45d3-b05f-05b173a093a7</td>\n",
       "      <td>exposed</td>\n",
       "      <td>2020-07-04</td>\n",
       "      <td>1</td>\n",
       "      <td>Generic Smartphone</td>\n",
       "      <td>6</td>\n",
       "      <td>Chrome Mobile</td>\n",
       "      <td>1</td>\n",
       "    </tr>\n",
       "    <tr>\n",
       "      <th>8064</th>\n",
       "      <td>ffb79718-6f25-4896-b6b3-e58b80a6e147</td>\n",
       "      <td>control</td>\n",
       "      <td>2020-07-09</td>\n",
       "      <td>7</td>\n",
       "      <td>Generic Smartphone</td>\n",
       "      <td>6</td>\n",
       "      <td>Chrome Mobile</td>\n",
       "      <td>0</td>\n",
       "    </tr>\n",
       "    <tr>\n",
       "      <th>8069</th>\n",
       "      <td>ffca1153-c182-4f32-9e90-2a6008417497</td>\n",
       "      <td>control</td>\n",
       "      <td>2020-07-10</td>\n",
       "      <td>16</td>\n",
       "      <td>Generic Smartphone</td>\n",
       "      <td>6</td>\n",
       "      <td>Chrome Mobile</td>\n",
       "      <td>0</td>\n",
       "    </tr>\n",
       "    <tr>\n",
       "      <th>8071</th>\n",
       "      <td>ffdfdc09-48c7-4bfb-80f8-ec1eb633602b</td>\n",
       "      <td>exposed</td>\n",
       "      <td>2020-07-03</td>\n",
       "      <td>4</td>\n",
       "      <td>Generic Smartphone</td>\n",
       "      <td>6</td>\n",
       "      <td>Chrome Mobile</td>\n",
       "      <td>0</td>\n",
       "    </tr>\n",
       "  </tbody>\n",
       "</table>\n",
       "<p>1243 rows × 8 columns</p>\n",
       "</div>"
      ],
      "text/plain": [
       "                                auction_id experiment        date  hour  \\\n",
       "2     0016d14a-ae18-4a02-a204-6ba53b52f2ed    exposed  2020-07-05     2   \n",
       "16    008aafdf-deef-4482-8fec-d98e3da054da    exposed  2020-07-04    16   \n",
       "20    00a1384a-5118-4d1b-925b-6cdada50318d    exposed  2020-07-06     8   \n",
       "23    00b6fadb-10bd-49e3-a778-290da82f7a8d    control  2020-07-08     4   \n",
       "27    00ebf4a8-060f-4b99-93ac-c62724399483    control  2020-07-03    15   \n",
       "...                                    ...        ...         ...   ...   \n",
       "8059  ffa08ff9-a132-4051-aef5-01a9c79367bc    exposed  2020-07-05    21   \n",
       "8063  ffb176df-ecd2-45d3-b05f-05b173a093a7    exposed  2020-07-04     1   \n",
       "8064  ffb79718-6f25-4896-b6b3-e58b80a6e147    control  2020-07-09     7   \n",
       "8069  ffca1153-c182-4f32-9e90-2a6008417497    control  2020-07-10    16   \n",
       "8071  ffdfdc09-48c7-4bfb-80f8-ec1eb633602b    exposed  2020-07-03     4   \n",
       "\n",
       "             device_make  platform_os                browser  yes  \n",
       "2                  E5823            6  Chrome Mobile WebView    0  \n",
       "16    Generic Smartphone            6          Chrome Mobile    1  \n",
       "20    Generic Smartphone            6          Chrome Mobile    0  \n",
       "23      Samsung SM-A202F            6               Facebook    1  \n",
       "27    Generic Smartphone            6          Chrome Mobile    0  \n",
       "...                  ...          ...                    ...  ...  \n",
       "8059  Generic Smartphone            6          Chrome Mobile    1  \n",
       "8063  Generic Smartphone            6          Chrome Mobile    1  \n",
       "8064  Generic Smartphone            6          Chrome Mobile    0  \n",
       "8069  Generic Smartphone            6          Chrome Mobile    0  \n",
       "8071  Generic Smartphone            6          Chrome Mobile    0  \n",
       "\n",
       "[1243 rows x 8 columns]"
      ]
     },
     "execution_count": 122,
     "metadata": {},
     "output_type": "execute_result"
    }
   ],
   "source": [
    "adsmart_data = pd.read_csv(\"../data/ad_smart.csv\")\n",
    "adsmart_data = adsmart_data[(adsmart_data.yes == 1) | (adsmart_data.no == 1)].drop(columns=['no'])\n",
    "adsmart_data"
   ]
  },
  {
   "cell_type": "code",
   "execution_count": 123,
   "metadata": {},
   "outputs": [
    {
     "data": {
      "text/html": [
       "<div>\n",
       "<style scoped>\n",
       "    .dataframe tbody tr th:only-of-type {\n",
       "        vertical-align: middle;\n",
       "    }\n",
       "\n",
       "    .dataframe tbody tr th {\n",
       "        vertical-align: top;\n",
       "    }\n",
       "\n",
       "    .dataframe thead th {\n",
       "        text-align: right;\n",
       "    }\n",
       "</style>\n",
       "<table border=\"1\" class=\"dataframe\">\n",
       "  <thead>\n",
       "    <tr style=\"text-align: right;\">\n",
       "      <th></th>\n",
       "      <th></th>\n",
       "      <th></th>\n",
       "      <th>sum</th>\n",
       "      <th>count</th>\n",
       "    </tr>\n",
       "    <tr>\n",
       "      <th>experiment</th>\n",
       "      <th>platform_os</th>\n",
       "      <th>browser</th>\n",
       "      <th></th>\n",
       "      <th></th>\n",
       "    </tr>\n",
       "  </thead>\n",
       "  <tbody>\n",
       "    <tr>\n",
       "      <th rowspan=\"9\" valign=\"top\">control</th>\n",
       "      <th rowspan=\"3\" valign=\"top\">5</th>\n",
       "      <th>Chrome Mobile iOS</th>\n",
       "      <td>1</td>\n",
       "      <td>1</td>\n",
       "    </tr>\n",
       "    <tr>\n",
       "      <th>Mobile Safari</th>\n",
       "      <td>3</td>\n",
       "      <td>9</td>\n",
       "    </tr>\n",
       "    <tr>\n",
       "      <th>Mobile Safari UI/WKWebView</th>\n",
       "      <td>0</td>\n",
       "      <td>3</td>\n",
       "    </tr>\n",
       "    <tr>\n",
       "      <th rowspan=\"6\" valign=\"top\">6</th>\n",
       "      <th>Chrome</th>\n",
       "      <td>0</td>\n",
       "      <td>1</td>\n",
       "    </tr>\n",
       "    <tr>\n",
       "      <th>Chrome Mobile</th>\n",
       "      <td>144</td>\n",
       "      <td>324</td>\n",
       "    </tr>\n",
       "    <tr>\n",
       "      <th>Chrome Mobile WebView</th>\n",
       "      <td>18</td>\n",
       "      <td>47</td>\n",
       "    </tr>\n",
       "    <tr>\n",
       "      <th>Facebook</th>\n",
       "      <td>53</td>\n",
       "      <td>112</td>\n",
       "    </tr>\n",
       "    <tr>\n",
       "      <th>Mobile Safari</th>\n",
       "      <td>0</td>\n",
       "      <td>1</td>\n",
       "    </tr>\n",
       "    <tr>\n",
       "      <th>Samsung Internet</th>\n",
       "      <td>45</td>\n",
       "      <td>88</td>\n",
       "    </tr>\n",
       "    <tr>\n",
       "      <th rowspan=\"6\" valign=\"top\">exposed</th>\n",
       "      <th>5</th>\n",
       "      <th>Mobile Safari</th>\n",
       "      <td>1</td>\n",
       "      <td>4</td>\n",
       "    </tr>\n",
       "    <tr>\n",
       "      <th rowspan=\"5\" valign=\"top\">6</th>\n",
       "      <th>Chrome</th>\n",
       "      <td>1</td>\n",
       "      <td>1</td>\n",
       "    </tr>\n",
       "    <tr>\n",
       "      <th>Chrome Mobile</th>\n",
       "      <td>170</td>\n",
       "      <td>371</td>\n",
       "    </tr>\n",
       "    <tr>\n",
       "      <th>Chrome Mobile WebView</th>\n",
       "      <td>98</td>\n",
       "      <td>180</td>\n",
       "    </tr>\n",
       "    <tr>\n",
       "      <th>Facebook</th>\n",
       "      <td>16</td>\n",
       "      <td>44</td>\n",
       "    </tr>\n",
       "    <tr>\n",
       "      <th>Samsung Internet</th>\n",
       "      <td>22</td>\n",
       "      <td>57</td>\n",
       "    </tr>\n",
       "  </tbody>\n",
       "</table>\n",
       "</div>"
      ],
      "text/plain": [
       "                                                   sum  count\n",
       "experiment platform_os browser                               \n",
       "control    5           Chrome Mobile iOS             1      1\n",
       "                       Mobile Safari                 3      9\n",
       "                       Mobile Safari UI/WKWebView    0      3\n",
       "           6           Chrome                        0      1\n",
       "                       Chrome Mobile               144    324\n",
       "                       Chrome Mobile WebView        18     47\n",
       "                       Facebook                     53    112\n",
       "                       Mobile Safari                 0      1\n",
       "                       Samsung Internet             45     88\n",
       "exposed    5           Mobile Safari                 1      4\n",
       "           6           Chrome                        1      1\n",
       "                       Chrome Mobile               170    371\n",
       "                       Chrome Mobile WebView        98    180\n",
       "                       Facebook                     16     44\n",
       "                       Samsung Internet             22     57"
      ]
     },
     "execution_count": 123,
     "metadata": {},
     "output_type": "execute_result"
    }
   ],
   "source": [
    "adsmart_data.groupby(['experiment', 'platform_os', 'browser']).yes.agg([\"sum\", \"count\"])"
   ]
  },
  {
   "cell_type": "markdown",
   "metadata": {},
   "source": [
    "В каждой страте считается взвешенная оценка дисперсии: \n",
    "* $var_{strat}(Ŷ_{strat})=\\frac{1}{n}\\sum_{i=1}^{k}p_i \\sigma_i^2$\n",
    "* $p_i$ — вероятность попадания в страту (вес)\n",
    "* $\\sigma_i^2$ — дисперсия по страте.<br>"
   ]
  },
  {
   "cell_type": "code",
   "execution_count": 124,
   "metadata": {},
   "outputs": [
    {
     "data": {
      "text/html": [
       "<div>\n",
       "<style scoped>\n",
       "    .dataframe tbody tr th:only-of-type {\n",
       "        vertical-align: middle;\n",
       "    }\n",
       "\n",
       "    .dataframe tbody tr th {\n",
       "        vertical-align: top;\n",
       "    }\n",
       "\n",
       "    .dataframe thead th {\n",
       "        text-align: right;\n",
       "    }\n",
       "</style>\n",
       "<table border=\"1\" class=\"dataframe\">\n",
       "  <thead>\n",
       "    <tr style=\"text-align: right;\">\n",
       "      <th></th>\n",
       "      <th></th>\n",
       "      <th>sum</th>\n",
       "      <th>count</th>\n",
       "      <th>mean</th>\n",
       "      <th>var</th>\n",
       "      <th>weight</th>\n",
       "      <th>strat_var</th>\n",
       "    </tr>\n",
       "    <tr>\n",
       "      <th>platform_os</th>\n",
       "      <th>browser</th>\n",
       "      <th></th>\n",
       "      <th></th>\n",
       "      <th></th>\n",
       "      <th></th>\n",
       "      <th></th>\n",
       "      <th></th>\n",
       "    </tr>\n",
       "  </thead>\n",
       "  <tbody>\n",
       "    <tr>\n",
       "      <th rowspan=\"3\" valign=\"top\">5</th>\n",
       "      <th>Chrome Mobile iOS</th>\n",
       "      <td>1</td>\n",
       "      <td>1</td>\n",
       "      <td>1.000000</td>\n",
       "      <td>NaN</td>\n",
       "      <td>0.001706</td>\n",
       "      <td>0.000000</td>\n",
       "    </tr>\n",
       "    <tr>\n",
       "      <th>Mobile Safari</th>\n",
       "      <td>3</td>\n",
       "      <td>9</td>\n",
       "      <td>0.333333</td>\n",
       "      <td>0.250000</td>\n",
       "      <td>0.015358</td>\n",
       "      <td>0.003840</td>\n",
       "    </tr>\n",
       "    <tr>\n",
       "      <th>Mobile Safari UI/WKWebView</th>\n",
       "      <td>0</td>\n",
       "      <td>3</td>\n",
       "      <td>0.000000</td>\n",
       "      <td>0.000000</td>\n",
       "      <td>0.005119</td>\n",
       "      <td>0.000000</td>\n",
       "    </tr>\n",
       "    <tr>\n",
       "      <th rowspan=\"6\" valign=\"top\">6</th>\n",
       "      <th>Chrome</th>\n",
       "      <td>0</td>\n",
       "      <td>1</td>\n",
       "      <td>0.000000</td>\n",
       "      <td>NaN</td>\n",
       "      <td>0.001706</td>\n",
       "      <td>0.000000</td>\n",
       "    </tr>\n",
       "    <tr>\n",
       "      <th>Chrome Mobile</th>\n",
       "      <td>144</td>\n",
       "      <td>324</td>\n",
       "      <td>0.444444</td>\n",
       "      <td>0.247678</td>\n",
       "      <td>0.552901</td>\n",
       "      <td>0.136941</td>\n",
       "    </tr>\n",
       "    <tr>\n",
       "      <th>Chrome Mobile WebView</th>\n",
       "      <td>18</td>\n",
       "      <td>47</td>\n",
       "      <td>0.382979</td>\n",
       "      <td>0.241443</td>\n",
       "      <td>0.080205</td>\n",
       "      <td>0.019365</td>\n",
       "    </tr>\n",
       "    <tr>\n",
       "      <th>Facebook</th>\n",
       "      <td>53</td>\n",
       "      <td>112</td>\n",
       "      <td>0.473214</td>\n",
       "      <td>0.251528</td>\n",
       "      <td>0.191126</td>\n",
       "      <td>0.048074</td>\n",
       "    </tr>\n",
       "    <tr>\n",
       "      <th>Mobile Safari</th>\n",
       "      <td>0</td>\n",
       "      <td>1</td>\n",
       "      <td>0.000000</td>\n",
       "      <td>NaN</td>\n",
       "      <td>0.001706</td>\n",
       "      <td>0.000000</td>\n",
       "    </tr>\n",
       "    <tr>\n",
       "      <th>Samsung Internet</th>\n",
       "      <td>45</td>\n",
       "      <td>88</td>\n",
       "      <td>0.511364</td>\n",
       "      <td>0.252743</td>\n",
       "      <td>0.150171</td>\n",
       "      <td>0.037955</td>\n",
       "    </tr>\n",
       "  </tbody>\n",
       "</table>\n",
       "</div>"
      ],
      "text/plain": [
       "                                        sum  count      mean       var  \\\n",
       "platform_os browser                                                      \n",
       "5           Chrome Mobile iOS             1      1  1.000000       NaN   \n",
       "            Mobile Safari                 3      9  0.333333  0.250000   \n",
       "            Mobile Safari UI/WKWebView    0      3  0.000000  0.000000   \n",
       "6           Chrome                        0      1  0.000000       NaN   \n",
       "            Chrome Mobile               144    324  0.444444  0.247678   \n",
       "            Chrome Mobile WebView        18     47  0.382979  0.241443   \n",
       "            Facebook                     53    112  0.473214  0.251528   \n",
       "            Mobile Safari                 0      1  0.000000       NaN   \n",
       "            Samsung Internet             45     88  0.511364  0.252743   \n",
       "\n",
       "                                          weight  strat_var  \n",
       "platform_os browser                                          \n",
       "5           Chrome Mobile iOS           0.001706   0.000000  \n",
       "            Mobile Safari               0.015358   0.003840  \n",
       "            Mobile Safari UI/WKWebView  0.005119   0.000000  \n",
       "6           Chrome                      0.001706   0.000000  \n",
       "            Chrome Mobile               0.552901   0.136941  \n",
       "            Chrome Mobile WebView       0.080205   0.019365  \n",
       "            Facebook                    0.191126   0.048074  \n",
       "            Mobile Safari               0.001706   0.000000  \n",
       "            Samsung Internet            0.150171   0.037955  "
      ]
     },
     "execution_count": 124,
     "metadata": {},
     "output_type": "execute_result"
    }
   ],
   "source": [
    "A = adsmart_data[adsmart_data.experiment == 'control'].drop(columns=['experiment'])\n",
    "\n",
    "def weight(x):\n",
    "    return len(x) / len(A)\n",
    "\n",
    "A_strats = A.groupby(['platform_os', 'browser']).yes.agg([\"sum\", \"count\", \"mean\", \"var\", weight])\n",
    "A_strats['strat_var'] = (A_strats['var'] * A_strats['weight']).fillna(0)\n",
    "A_strats"
   ]
  },
  {
   "cell_type": "markdown",
   "metadata": {},
   "source": [
    "За счёт избавления от дисперсии между стратами суммарная дисперсия сокращается."
   ]
  },
  {
   "cell_type": "code",
   "execution_count": 125,
   "metadata": {},
   "outputs": [
    {
     "data": {
      "text/plain": [
       "0.001799941852853315"
      ]
     },
     "execution_count": 125,
     "metadata": {},
     "output_type": "execute_result"
    }
   ],
   "source": [
    "A.yes.var() - A_strats['strat_var'].sum()"
   ]
  },
  {
   "cell_type": "markdown",
   "metadata": {},
   "source": [
    "При этом среднее стратифицированное будет равно среднему по ГС:\n",
    "\n",
    "$E(Ŷ_{strat})=\\sum_{i=1}^{k}p_i E(Y_i) = E(Y) $"
   ]
  },
  {
   "cell_type": "code",
   "execution_count": 133,
   "metadata": {},
   "outputs": [
    {
     "name": "stdout",
     "output_type": "stream",
     "text": [
      "Mean:\t\t 0.45051194539249145\n",
      "Strat mean:\t 0.4505119453924915\n"
     ]
    }
   ],
   "source": [
    "print('Mean:\\t\\t', A.yes.mean())\n",
    "print('Strat mean:\\t', (A_strats['mean'] * A_strats['weight']).sum())"
   ]
  },
  {
   "cell_type": "markdown",
   "metadata": {},
   "source": [
    "Значит, не изменится и $lift$."
   ]
  },
  {
   "cell_type": "markdown",
   "metadata": {},
   "source": [
    "Плохо подобранные переменные для стратификации могут увеличить дисперсию:"
   ]
  },
  {
   "cell_type": "code",
   "execution_count": 127,
   "metadata": {},
   "outputs": [
    {
     "name": "stdout",
     "output_type": "stream",
     "text": [
      "Разбиений на страты, увеличивших дисперсию: 12/20\n"
     ]
    }
   ],
   "source": [
    "bad_strats = 0\n",
    "c = 20\n",
    "for i in range(20):\n",
    "    A['random_strats'] = np.random.randint(0, len(A_strats), size=len(A))\n",
    "    random_groupped = A.groupby(['random_strats']).yes.agg([\"var\", weight])\n",
    "    random_strat_var = (random_groupped['var'] * random_groupped['weight']).dropna().sum()\n",
    "    A.drop(columns=['random_strats'])\n",
    "    bad_strats += A.yes.var() - random_strat_var < 0\n",
    "print('Разбиений на страты, увеличивших дисперсию: {}/{}'.format(bad_strats, c))"
   ]
  },
  {
   "cell_type": "markdown",
   "metadata": {},
   "source": [
    "Стратификация в A/B-тестировании:"
   ]
  },
  {
   "cell_type": "code",
   "execution_count": 128,
   "metadata": {},
   "outputs": [
    {
     "data": {
      "text/html": [
       "<div>\n",
       "<style scoped>\n",
       "    .dataframe tbody tr th:only-of-type {\n",
       "        vertical-align: middle;\n",
       "    }\n",
       "\n",
       "    .dataframe tbody tr th {\n",
       "        vertical-align: top;\n",
       "    }\n",
       "\n",
       "    .dataframe thead th {\n",
       "        text-align: right;\n",
       "    }\n",
       "</style>\n",
       "<table border=\"1\" class=\"dataframe\">\n",
       "  <thead>\n",
       "    <tr style=\"text-align: right;\">\n",
       "      <th></th>\n",
       "      <th></th>\n",
       "      <th>sum</th>\n",
       "      <th>count</th>\n",
       "      <th>mean</th>\n",
       "      <th>var</th>\n",
       "      <th>weight</th>\n",
       "      <th>strat_var</th>\n",
       "    </tr>\n",
       "    <tr>\n",
       "      <th>platform_os</th>\n",
       "      <th>browser</th>\n",
       "      <th></th>\n",
       "      <th></th>\n",
       "      <th></th>\n",
       "      <th></th>\n",
       "      <th></th>\n",
       "      <th></th>\n",
       "    </tr>\n",
       "  </thead>\n",
       "  <tbody>\n",
       "    <tr>\n",
       "      <th>5</th>\n",
       "      <th>Mobile Safari</th>\n",
       "      <td>1</td>\n",
       "      <td>4</td>\n",
       "      <td>0.250000</td>\n",
       "      <td>0.250000</td>\n",
       "      <td>0.006826</td>\n",
       "      <td>0.001706</td>\n",
       "    </tr>\n",
       "    <tr>\n",
       "      <th rowspan=\"5\" valign=\"top\">6</th>\n",
       "      <th>Chrome</th>\n",
       "      <td>1</td>\n",
       "      <td>1</td>\n",
       "      <td>1.000000</td>\n",
       "      <td>NaN</td>\n",
       "      <td>0.001706</td>\n",
       "      <td>0.000000</td>\n",
       "    </tr>\n",
       "    <tr>\n",
       "      <th>Chrome Mobile</th>\n",
       "      <td>170</td>\n",
       "      <td>371</td>\n",
       "      <td>0.458221</td>\n",
       "      <td>0.248925</td>\n",
       "      <td>0.633106</td>\n",
       "      <td>0.157596</td>\n",
       "    </tr>\n",
       "    <tr>\n",
       "      <th>Chrome Mobile WebView</th>\n",
       "      <td>98</td>\n",
       "      <td>180</td>\n",
       "      <td>0.544444</td>\n",
       "      <td>0.249410</td>\n",
       "      <td>0.307167</td>\n",
       "      <td>0.076611</td>\n",
       "    </tr>\n",
       "    <tr>\n",
       "      <th>Facebook</th>\n",
       "      <td>16</td>\n",
       "      <td>44</td>\n",
       "      <td>0.363636</td>\n",
       "      <td>0.236786</td>\n",
       "      <td>0.075085</td>\n",
       "      <td>0.017779</td>\n",
       "    </tr>\n",
       "    <tr>\n",
       "      <th>Samsung Internet</th>\n",
       "      <td>22</td>\n",
       "      <td>57</td>\n",
       "      <td>0.385965</td>\n",
       "      <td>0.241228</td>\n",
       "      <td>0.097270</td>\n",
       "      <td>0.023464</td>\n",
       "    </tr>\n",
       "  </tbody>\n",
       "</table>\n",
       "</div>"
      ],
      "text/plain": [
       "                                   sum  count      mean       var    weight  \\\n",
       "platform_os browser                                                           \n",
       "5           Mobile Safari            1      4  0.250000  0.250000  0.006826   \n",
       "6           Chrome                   1      1  1.000000       NaN  0.001706   \n",
       "            Chrome Mobile          170    371  0.458221  0.248925  0.633106   \n",
       "            Chrome Mobile WebView   98    180  0.544444  0.249410  0.307167   \n",
       "            Facebook                16     44  0.363636  0.236786  0.075085   \n",
       "            Samsung Internet        22     57  0.385965  0.241228  0.097270   \n",
       "\n",
       "                                   strat_var  \n",
       "platform_os browser                           \n",
       "5           Mobile Safari           0.001706  \n",
       "6           Chrome                  0.000000  \n",
       "            Chrome Mobile           0.157596  \n",
       "            Chrome Mobile WebView   0.076611  \n",
       "            Facebook                0.017779  \n",
       "            Samsung Internet        0.023464  "
      ]
     },
     "execution_count": 128,
     "metadata": {},
     "output_type": "execute_result"
    }
   ],
   "source": [
    "B = adsmart_data[adsmart_data.experiment == 'exposed'].drop(columns=['experiment'])\n",
    "B_strats = B.groupby(['platform_os', 'browser']).yes.agg([\"sum\", \"count\", \"mean\", \"var\", weight])\n",
    "B_strats['strat_var'] = (B_strats['var'] * B_strats['weight']).fillna(0)\n",
    "B_strats"
   ]
  },
  {
   "cell_type": "markdown",
   "metadata": {},
   "source": [
    "Проверим, как изменится стандартное отклонение:"
   ]
  },
  {
   "cell_type": "code",
   "execution_count": 132,
   "metadata": {},
   "outputs": [
    {
     "name": "stdout",
     "output_type": "stream",
     "text": [
      "Std:\t\t 0.028333326913229238\n",
      "Std strat:\t 0.0008386432369930233\n"
     ]
    }
   ],
   "source": [
    "B_var = B_strats['strat_var'] / B_strats['count']\n",
    "A_var = A_strats['strat_var'] / A_strats['count']\n",
    "var_sums = B_var.add(A_var, fill_value=0)\n",
    "counts = B_strats['count'].add(A_strats['count'], fill_value=0)\n",
    "strat_portions = counts / (len(A) + len(B))\n",
    "print('Std:\\t\\t', np.sqrt(B.yes.var()/len(B) + A.yes.var()/len(A)))\n",
    "print('Std strat:\\t', (var_sums * strat_portions).sum())"
   ]
  },
  {
   "cell_type": "markdown",
   "metadata": {},
   "source": [
    "## CUPED — Controlled-experiment Using Pre-Experiment Data"
   ]
  },
  {
   "cell_type": "markdown",
   "metadata": {},
   "source": [
    "Этот метод сокращения дисперсии использует предэкспериментальные значения метрик.\n",
    "\n",
    "$Y'_i = Y_i - (X_i - \\mu_X) \\Theta$\n",
    "\n",
    "$Y' = \\overline Y - (\\overline X - \\mu_X) \\Theta$\n",
    "* $Y$ — метрика во время проведения эксперимента\n",
    "* $X$ — метрика до проведения эксперимента\n",
    "* $\\Theta = \\frac{cov(X, Y)}{var(X)}$"
   ]
  },
  {
   "cell_type": "code",
   "execution_count": 183,
   "metadata": {},
   "outputs": [
    {
     "data": {
      "text/html": [
       "<div>\n",
       "<style scoped>\n",
       "    .dataframe tbody tr th:only-of-type {\n",
       "        vertical-align: middle;\n",
       "    }\n",
       "\n",
       "    .dataframe tbody tr th {\n",
       "        vertical-align: top;\n",
       "    }\n",
       "\n",
       "    .dataframe thead th {\n",
       "        text-align: right;\n",
       "    }\n",
       "</style>\n",
       "<table border=\"1\" class=\"dataframe\">\n",
       "  <thead>\n",
       "    <tr style=\"text-align: right;\">\n",
       "      <th></th>\n",
       "      <th>group</th>\n",
       "      <th>user_id</th>\n",
       "      <th>commission_revenue_pre</th>\n",
       "      <th>commission_revenue_exp</th>\n",
       "    </tr>\n",
       "  </thead>\n",
       "  <tbody>\n",
       "    <tr>\n",
       "      <th>0</th>\n",
       "      <td>control</td>\n",
       "      <td>cf7f6389-95e8-44b1-88d9-71a784d0eea3</td>\n",
       "      <td>126.174822</td>\n",
       "      <td>131.495757</td>\n",
       "    </tr>\n",
       "    <tr>\n",
       "      <th>1</th>\n",
       "      <td>control</td>\n",
       "      <td>6b129f09-fb5f-42df-bde3-a0daf9476c31</td>\n",
       "      <td>95.278575</td>\n",
       "      <td>105.803968</td>\n",
       "    </tr>\n",
       "    <tr>\n",
       "      <th>2</th>\n",
       "      <td>test</td>\n",
       "      <td>f5ce5d40-a918-482f-bd4a-27ade2af0d97</td>\n",
       "      <td>101.397369</td>\n",
       "      <td>101.787418</td>\n",
       "    </tr>\n",
       "    <tr>\n",
       "      <th>3</th>\n",
       "      <td>control</td>\n",
       "      <td>82592e1a-b6b7-42bf-a625-1fc138f92d3e</td>\n",
       "      <td>68.855613</td>\n",
       "      <td>56.851970</td>\n",
       "    </tr>\n",
       "    <tr>\n",
       "      <th>4</th>\n",
       "      <td>control</td>\n",
       "      <td>549b14a8-fc08-4224-bf8e-931a7a50e6ff</td>\n",
       "      <td>112.974435</td>\n",
       "      <td>101.960805</td>\n",
       "    </tr>\n",
       "    <tr>\n",
       "      <th>...</th>\n",
       "      <td>...</td>\n",
       "      <td>...</td>\n",
       "      <td>...</td>\n",
       "      <td>...</td>\n",
       "    </tr>\n",
       "    <tr>\n",
       "      <th>1995</th>\n",
       "      <td>test</td>\n",
       "      <td>074587da-a60a-4017-aa27-6d4c316efe71</td>\n",
       "      <td>80.804420</td>\n",
       "      <td>73.944887</td>\n",
       "    </tr>\n",
       "    <tr>\n",
       "      <th>1996</th>\n",
       "      <td>test</td>\n",
       "      <td>d1a843de-a1db-479f-9e23-65867cc57120</td>\n",
       "      <td>54.919574</td>\n",
       "      <td>79.652109</td>\n",
       "    </tr>\n",
       "    <tr>\n",
       "      <th>1997</th>\n",
       "      <td>test</td>\n",
       "      <td>c9e0f7e5-6c22-4434-9168-131e97841d9b</td>\n",
       "      <td>158.438671</td>\n",
       "      <td>141.914387</td>\n",
       "    </tr>\n",
       "    <tr>\n",
       "      <th>1998</th>\n",
       "      <td>control</td>\n",
       "      <td>c69dd04c-80c5-4c09-b961-ff188eb22a20</td>\n",
       "      <td>119.798094</td>\n",
       "      <td>101.634467</td>\n",
       "    </tr>\n",
       "    <tr>\n",
       "      <th>1999</th>\n",
       "      <td>test</td>\n",
       "      <td>6b680b91-f466-45e1-96b9-254a3c17f85d</td>\n",
       "      <td>125.591746</td>\n",
       "      <td>150.622110</td>\n",
       "    </tr>\n",
       "  </tbody>\n",
       "</table>\n",
       "<p>2000 rows × 4 columns</p>\n",
       "</div>"
      ],
      "text/plain": [
       "        group                               user_id  commission_revenue_pre  \\\n",
       "0     control  cf7f6389-95e8-44b1-88d9-71a784d0eea3              126.174822   \n",
       "1     control  6b129f09-fb5f-42df-bde3-a0daf9476c31               95.278575   \n",
       "2        test  f5ce5d40-a918-482f-bd4a-27ade2af0d97              101.397369   \n",
       "3     control  82592e1a-b6b7-42bf-a625-1fc138f92d3e               68.855613   \n",
       "4     control  549b14a8-fc08-4224-bf8e-931a7a50e6ff              112.974435   \n",
       "...       ...                                   ...                     ...   \n",
       "1995     test  074587da-a60a-4017-aa27-6d4c316efe71               80.804420   \n",
       "1996     test  d1a843de-a1db-479f-9e23-65867cc57120               54.919574   \n",
       "1997     test  c9e0f7e5-6c22-4434-9168-131e97841d9b              158.438671   \n",
       "1998  control  c69dd04c-80c5-4c09-b961-ff188eb22a20              119.798094   \n",
       "1999     test  6b680b91-f466-45e1-96b9-254a3c17f85d              125.591746   \n",
       "\n",
       "      commission_revenue_exp  \n",
       "0                 131.495757  \n",
       "1                 105.803968  \n",
       "2                 101.787418  \n",
       "3                  56.851970  \n",
       "4                 101.960805  \n",
       "...                      ...  \n",
       "1995               73.944887  \n",
       "1996               79.652109  \n",
       "1997              141.914387  \n",
       "1998              101.634467  \n",
       "1999              150.622110  \n",
       "\n",
       "[2000 rows x 4 columns]"
      ]
     },
     "execution_count": 183,
     "metadata": {},
     "output_type": "execute_result"
    }
   ],
   "source": [
    "# синтетические данные \n",
    "data = pd.read_csv(\"../data/commission_revenue.csv\")\n",
    "data"
   ]
  },
  {
   "cell_type": "markdown",
   "metadata": {},
   "source": [
    "1/5. Посчитаем ковариацию по предэкспериментальному и экспериментальному периодам $cov(X, Y)$"
   ]
  },
  {
   "cell_type": "code",
   "execution_count": 184,
   "metadata": {},
   "outputs": [
    {
     "data": {
      "text/plain": [
       "(841.4528736624279, 891.1732687036978)"
      ]
     },
     "execution_count": 184,
     "metadata": {},
     "output_type": "execute_result"
    }
   ],
   "source": [
    "A = data[data.group == 'control']\n",
    "B = data[data.group == 'test']\n",
    "A_cov = A['commission_revenue_pre'].cov(A['commission_revenue_exp'])\n",
    "B_cov = B['commission_revenue_pre'].cov(B['commission_revenue_exp'])\n",
    "A_cov, B_cov"
   ]
  },
  {
   "cell_type": "markdown",
   "metadata": {},
   "source": [
    "2/5. Найдём дисперсию $var(X)$<br>\n",
    "3/5. И среднее по предэкспериментальному $\\mu_X$"
   ]
  },
  {
   "cell_type": "code",
   "execution_count": 185,
   "metadata": {},
   "outputs": [],
   "source": [
    "A_var_X = A['commission_revenue_pre'].var()\n",
    "B_var_X = B['commission_revenue_pre'].var()\n",
    "A_mean_X = A['commission_revenue_pre'].mean()\n",
    "B_mean_X = B['commission_revenue_pre'].mean()"
   ]
  },
  {
   "cell_type": "markdown",
   "metadata": {},
   "source": [
    "4/5. Используем формулу $Y'_i = Y_i - (X_i - \\mu_X) \\Theta$"
   ]
  },
  {
   "cell_type": "code",
   "execution_count": 187,
   "metadata": {},
   "outputs": [
    {
     "data": {
      "text/html": [
       "<div>\n",
       "<style scoped>\n",
       "    .dataframe tbody tr th:only-of-type {\n",
       "        vertical-align: middle;\n",
       "    }\n",
       "\n",
       "    .dataframe tbody tr th {\n",
       "        vertical-align: top;\n",
       "    }\n",
       "\n",
       "    .dataframe thead th {\n",
       "        text-align: right;\n",
       "    }\n",
       "</style>\n",
       "<table border=\"1\" class=\"dataframe\">\n",
       "  <thead>\n",
       "    <tr style=\"text-align: right;\">\n",
       "      <th></th>\n",
       "      <th>commission_revenue_exp</th>\n",
       "      <th>corrected_exp</th>\n",
       "    </tr>\n",
       "  </thead>\n",
       "  <tbody>\n",
       "    <tr>\n",
       "      <th>0</th>\n",
       "      <td>131.495757</td>\n",
       "      <td>108.623411</td>\n",
       "    </tr>\n",
       "    <tr>\n",
       "      <th>1</th>\n",
       "      <td>105.803968</td>\n",
       "      <td>109.574804</td>\n",
       "    </tr>\n",
       "    <tr>\n",
       "      <th>3</th>\n",
       "      <td>56.851970</td>\n",
       "      <td>83.408480</td>\n",
       "    </tr>\n",
       "    <tr>\n",
       "      <th>4</th>\n",
       "      <td>101.960805</td>\n",
       "      <td>90.471729</td>\n",
       "    </tr>\n",
       "    <tr>\n",
       "      <th>5</th>\n",
       "      <td>106.796966</td>\n",
       "      <td>103.987132</td>\n",
       "    </tr>\n",
       "    <tr>\n",
       "      <th>...</th>\n",
       "      <td>...</td>\n",
       "      <td>...</td>\n",
       "    </tr>\n",
       "    <tr>\n",
       "      <th>1990</th>\n",
       "      <td>105.318220</td>\n",
       "      <td>100.594458</td>\n",
       "    </tr>\n",
       "    <tr>\n",
       "      <th>1991</th>\n",
       "      <td>107.706563</td>\n",
       "      <td>110.164456</td>\n",
       "    </tr>\n",
       "    <tr>\n",
       "      <th>1993</th>\n",
       "      <td>106.051609</td>\n",
       "      <td>130.934090</td>\n",
       "    </tr>\n",
       "    <tr>\n",
       "      <th>1994</th>\n",
       "      <td>120.714355</td>\n",
       "      <td>80.537567</td>\n",
       "    </tr>\n",
       "    <tr>\n",
       "      <th>1998</th>\n",
       "      <td>101.634467</td>\n",
       "      <td>84.261052</td>\n",
       "    </tr>\n",
       "  </tbody>\n",
       "</table>\n",
       "<p>1006 rows × 2 columns</p>\n",
       "</div>"
      ],
      "text/plain": [
       "      commission_revenue_exp  corrected_exp\n",
       "0                 131.495757     108.623411\n",
       "1                 105.803968     109.574804\n",
       "3                  56.851970      83.408480\n",
       "4                 101.960805      90.471729\n",
       "5                 106.796966     103.987132\n",
       "...                      ...            ...\n",
       "1990              105.318220     100.594458\n",
       "1991              107.706563     110.164456\n",
       "1993              106.051609     130.934090\n",
       "1994              120.714355      80.537567\n",
       "1998              101.634467      84.261052\n",
       "\n",
       "[1006 rows x 2 columns]"
      ]
     },
     "execution_count": 187,
     "metadata": {},
     "output_type": "execute_result"
    }
   ],
   "source": [
    "A_theta = A_cov / A_var_X\n",
    "B_theta = B_cov / B_var_X\n",
    "A['corrected_exp'] = A['commission_revenue_exp'] - (A['commission_revenue_pre'] - A_mean_X) * A_theta\n",
    "B['corrected_exp'] = B['commission_revenue_exp'] - (B['commission_revenue_pre'] - B_mean_X) * B_theta\n",
    "A[['commission_revenue_exp', 'corrected_exp']]"
   ]
  },
  {
   "cell_type": "markdown",
   "metadata": {},
   "source": [
    "Альтернативный расчёт $\\Theta$ — с помощью линейной регрессии."
   ]
  },
  {
   "cell_type": "code",
   "execution_count": 182,
   "metadata": {},
   "outputs": [
    {
     "name": "stdout",
     "output_type": "stream",
     "text": [
      "Regression theta:\t 0.8623436524590831\n",
      "cov/var theta:\t\t 0.862343652459082\n"
     ]
    }
   ],
   "source": [
    "print('Regression theta:\\t', smf.ols('commission_revenue_exp ~ commission_revenue_pre', data=A).fit().params[1])\n",
    "print('cov/var theta:\\t\\t', A_theta)"
   ]
  },
  {
   "cell_type": "markdown",
   "metadata": {},
   "source": [
    "Как будет выглядеть формула дисперсии:\n",
    "$var(Y_{CUPED}) = var(\\overline Y - \\Theta \\overline X) = \\frac{1}{n}var(Y - \\Theta X) = \\frac{1}{n}[var(Y) + \\Theta^2 var(X) - 2 \\Theta cov(Y, X)]$"
   ]
  },
  {
   "cell_type": "code",
   "execution_count": 117,
   "metadata": {},
   "outputs": [
    {
     "name": "stdout",
     "output_type": "stream",
     "text": [
      "Var:\t\t 921.2513496526765\n",
      "Cuped var:\t 204.88700313832683\n"
     ]
    }
   ],
   "source": [
    "cuped_var = A['corrected_exp'].var() \n",
    "reg_var = A['commission_revenue_exp'].var()\n",
    "print('Var:\\t\\t', reg_var)\n",
    "print('Cuped var:\\t', cuped_var)"
   ]
  },
  {
   "cell_type": "markdown",
   "metadata": {},
   "source": [
    "При $\\Theta = \\frac{cov(X, Y)}{var(X)}$ дисперсия минимизируется. Проверим:\n",
    "\n",
    "$var(Y_{CUPED}) = \\frac{1}{n}(var(Y) + \\frac{cov^2(Y, X)}{var(X)} - 2 \\frac{cov^2(Y, X)}{var(X)}) = \\frac{1}{n}(var(Y) - \\frac{cov^2(Y, X)}{var(X)}) =\n",
    "\\frac{1}{n}var(Y)(1 - \\frac{cov^2(Y, X)}{var(X)var(Y)}) = var(\\overline Y)(1 - cor^2(X, Y))$\n",
    "\n",
    "$$\\frac{var(Y_{CUPED})}{var(\\overline Y)} = (1 - cor^2(X, Y))$$"
   ]
  },
  {
   "cell_type": "code",
   "execution_count": 188,
   "metadata": {},
   "outputs": [
    {
     "name": "stdout",
     "output_type": "stream",
     "text": [
      "Var decrease:\t 0.2224007630659883\n",
      "1 - cor^2:\t 0.2201882010328382\n"
     ]
    }
   ],
   "source": [
    "cor = A['commission_revenue_pre'].corr(A['commission_revenue_exp'])\n",
    "print('Var decrease:\\t', cuped_var / reg_var)\n",
    "print('1 - cor^2:\\t', 1 - cor * cor)"
   ]
  },
  {
   "cell_type": "markdown",
   "metadata": {},
   "source": [
    "Оценка CUPED **несмещенная** за счёт вычитания $\\mu_X=E(X)$:\n",
    "$$E(Y_{CUPED})=E(\\overline Y -(\\overline X - E(X))\\Theta)=E(\\overline Y) - \\Theta E(\\overline X) + \\Theta E(X)=E(Y)$$"
   ]
  },
  {
   "cell_type": "code",
   "execution_count": 189,
   "metadata": {},
   "outputs": [
    {
     "name": "stdout",
     "output_type": "stream",
     "text": [
      "Mean:\t\t 99.42347070906243\n",
      "Cuped mean:\t 99.23620725970872\n"
     ]
    }
   ],
   "source": [
    "print('Mean:\\t\\t', A['corrected_exp'].mean())\n",
    "print('Cuped mean:\\t', A['commission_revenue_exp'].mean())"
   ]
  },
  {
   "cell_type": "markdown",
   "metadata": {},
   "source": [
    "5/5. Применяем стат.критерий к скорректированному $Y'$"
   ]
  },
  {
   "cell_type": "code",
   "execution_count": 163,
   "metadata": {},
   "outputs": [
    {
     "name": "stdout",
     "output_type": "stream",
     "text": [
      "P-val:\t\t 0.07174908312970041\n",
      "CUPED p-val:\t 0.0003037261295519414\n"
     ]
    }
   ],
   "source": [
    "print('P-val:\\t\\t', stats.ttest_ind(B['commission_revenue_exp'], A['commission_revenue_exp'], equal_var=False).pvalue)\n",
    "print('CUPED p-val:\\t', stats.ttest_ind(B['corrected_exp'].dropna(), A['corrected_exp'].dropna(), equal_var=False).pvalue)"
   ]
  },
  {
   "cell_type": "markdown",
   "metadata": {},
   "source": [
    "Сравнение необходимого количества экспериментов:"
   ]
  },
  {
   "cell_type": "code",
   "execution_count": 198,
   "metadata": {},
   "outputs": [
    {
     "name": "stdout",
     "output_type": "stream",
     "text": [
      "Before CUPED:\t 589.0\n",
      "After CUPED:\t 132.0\n"
     ]
    }
   ],
   "source": [
    "alpha = 0.05\n",
    "beta = 0.8\n",
    "lift = 0.05\n",
    "\n",
    "effect_size = lift * A['commission_revenue_exp'].mean() / A['commission_revenue_exp'].std()\n",
    "n = np.ceil(power.tt_ind_solve_power(effect_size=effect_size, ratio=1, power=beta, alpha=alpha))\n",
    "\n",
    "cuped_effect_size = lift * A['corrected_exp'].mean() / A['corrected_exp'].std()\n",
    "cuped_n = np.ceil(power.tt_ind_solve_power(effect_size=cuped_effect_size, ratio=1, power=beta, alpha=alpha))\n",
    "\n",
    "print('Before CUPED:\\t', n)\n",
    "print('After CUPED:\\t', cuped_n)"
   ]
  },
  {
   "cell_type": "markdown",
   "metadata": {},
   "source": [
    "Наглядно показали, что сокращение дисперсии полезно для уменьшения необходимого количества экспериментов."
   ]
  }
 ],
 "metadata": {
  "kernelspec": {
   "display_name": ".venv",
   "language": "python",
   "name": "python3"
  },
  "language_info": {
   "codemirror_mode": {
    "name": "ipython",
    "version": 3
   },
   "file_extension": ".py",
   "mimetype": "text/x-python",
   "name": "python",
   "nbconvert_exporter": "python",
   "pygments_lexer": "ipython3",
   "version": "3.9.7"
  }
 },
 "nbformat": 4,
 "nbformat_minor": 2
}
