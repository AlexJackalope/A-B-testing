{
 "cells": [
  {
   "cell_type": "code",
   "execution_count": 1,
   "metadata": {},
   "outputs": [
    {
     "name": "stderr",
     "output_type": "stream",
     "text": [
      "C:\\Users\\Alexandra\\AppData\\Local\\Temp\\ipykernel_12192\\2162656668.py:1: DeprecationWarning: \n",
      "Pyarrow will become a required dependency of pandas in the next major release of pandas (pandas 3.0),\n",
      "(to allow more performant data types, such as the Arrow string type, and better interoperability with other libraries)\n",
      "but was not found to be installed on your system.\n",
      "If this would cause problems for you,\n",
      "please provide us feedback at https://github.com/pandas-dev/pandas/issues/54466\n",
      "        \n",
      "  import pandas as pd\n"
     ]
    }
   ],
   "source": [
    "import pandas as pd\n",
    "import numpy as np"
   ]
  },
  {
   "cell_type": "markdown",
   "metadata": {},
   "source": [
    "## Сокращение дисперсии"
   ]
  },
  {
   "cell_type": "markdown",
   "metadata": {},
   "source": [
    "Чем меньше дисперсия (а с ней и среднеквадратичное отклонение):\n",
    "* Тем меньший размер выборки нужен для наблюдения фиксированного эффекта\n",
    "* Замечать более низкие эффекты"
   ]
  },
  {
   "cell_type": "markdown",
   "metadata": {},
   "source": [
    "### Увеличение объёма выборки"
   ]
  },
  {
   "cell_type": "markdown",
   "metadata": {},
   "source": [
    "### Одинаковый (50/50) баланс веток"
   ]
  },
  {
   "cell_type": "markdown",
   "metadata": {},
   "source": [
    "### Удаление наблюдений."
   ]
  },
  {
   "cell_type": "markdown",
   "metadata": {},
   "source": [
    "Причины:\n",
    "* Значительные выбросы\n",
    "* Exposured-пользователи, то есть, пользователи из самого начала эксперимента. В тестовую группу могли попасть пользователи, не умеющие работать с тестируемой фичой, они вносят дополнительную дисперсию."
   ]
  },
  {
   "cell_type": "markdown",
   "metadata": {},
   "source": [
    "### Стратификация и пост-стратификация\n",
    "\n",
    "Заранее или во время экспериментов пользователи разбиваются на k **страт** по дополнительным фичам (типу устройства, региону и т.п.)."
   ]
  },
  {
   "cell_type": "code",
   "execution_count": 4,
   "metadata": {},
   "outputs": [
    {
     "data": {
      "text/html": [
       "<div>\n",
       "<style scoped>\n",
       "    .dataframe tbody tr th:only-of-type {\n",
       "        vertical-align: middle;\n",
       "    }\n",
       "\n",
       "    .dataframe tbody tr th {\n",
       "        vertical-align: top;\n",
       "    }\n",
       "\n",
       "    .dataframe thead th {\n",
       "        text-align: right;\n",
       "    }\n",
       "</style>\n",
       "<table border=\"1\" class=\"dataframe\">\n",
       "  <thead>\n",
       "    <tr style=\"text-align: right;\">\n",
       "      <th></th>\n",
       "      <th>auction_id</th>\n",
       "      <th>experiment</th>\n",
       "      <th>date</th>\n",
       "      <th>hour</th>\n",
       "      <th>device_make</th>\n",
       "      <th>platform_os</th>\n",
       "      <th>browser</th>\n",
       "      <th>yes</th>\n",
       "    </tr>\n",
       "  </thead>\n",
       "  <tbody>\n",
       "    <tr>\n",
       "      <th>2</th>\n",
       "      <td>0016d14a-ae18-4a02-a204-6ba53b52f2ed</td>\n",
       "      <td>exposed</td>\n",
       "      <td>2020-07-05</td>\n",
       "      <td>2</td>\n",
       "      <td>E5823</td>\n",
       "      <td>6</td>\n",
       "      <td>Chrome Mobile WebView</td>\n",
       "      <td>0</td>\n",
       "    </tr>\n",
       "    <tr>\n",
       "      <th>16</th>\n",
       "      <td>008aafdf-deef-4482-8fec-d98e3da054da</td>\n",
       "      <td>exposed</td>\n",
       "      <td>2020-07-04</td>\n",
       "      <td>16</td>\n",
       "      <td>Generic Smartphone</td>\n",
       "      <td>6</td>\n",
       "      <td>Chrome Mobile</td>\n",
       "      <td>1</td>\n",
       "    </tr>\n",
       "    <tr>\n",
       "      <th>20</th>\n",
       "      <td>00a1384a-5118-4d1b-925b-6cdada50318d</td>\n",
       "      <td>exposed</td>\n",
       "      <td>2020-07-06</td>\n",
       "      <td>8</td>\n",
       "      <td>Generic Smartphone</td>\n",
       "      <td>6</td>\n",
       "      <td>Chrome Mobile</td>\n",
       "      <td>0</td>\n",
       "    </tr>\n",
       "    <tr>\n",
       "      <th>23</th>\n",
       "      <td>00b6fadb-10bd-49e3-a778-290da82f7a8d</td>\n",
       "      <td>control</td>\n",
       "      <td>2020-07-08</td>\n",
       "      <td>4</td>\n",
       "      <td>Samsung SM-A202F</td>\n",
       "      <td>6</td>\n",
       "      <td>Facebook</td>\n",
       "      <td>1</td>\n",
       "    </tr>\n",
       "    <tr>\n",
       "      <th>27</th>\n",
       "      <td>00ebf4a8-060f-4b99-93ac-c62724399483</td>\n",
       "      <td>control</td>\n",
       "      <td>2020-07-03</td>\n",
       "      <td>15</td>\n",
       "      <td>Generic Smartphone</td>\n",
       "      <td>6</td>\n",
       "      <td>Chrome Mobile</td>\n",
       "      <td>0</td>\n",
       "    </tr>\n",
       "    <tr>\n",
       "      <th>...</th>\n",
       "      <td>...</td>\n",
       "      <td>...</td>\n",
       "      <td>...</td>\n",
       "      <td>...</td>\n",
       "      <td>...</td>\n",
       "      <td>...</td>\n",
       "      <td>...</td>\n",
       "      <td>...</td>\n",
       "    </tr>\n",
       "    <tr>\n",
       "      <th>8059</th>\n",
       "      <td>ffa08ff9-a132-4051-aef5-01a9c79367bc</td>\n",
       "      <td>exposed</td>\n",
       "      <td>2020-07-05</td>\n",
       "      <td>21</td>\n",
       "      <td>Generic Smartphone</td>\n",
       "      <td>6</td>\n",
       "      <td>Chrome Mobile</td>\n",
       "      <td>1</td>\n",
       "    </tr>\n",
       "    <tr>\n",
       "      <th>8063</th>\n",
       "      <td>ffb176df-ecd2-45d3-b05f-05b173a093a7</td>\n",
       "      <td>exposed</td>\n",
       "      <td>2020-07-04</td>\n",
       "      <td>1</td>\n",
       "      <td>Generic Smartphone</td>\n",
       "      <td>6</td>\n",
       "      <td>Chrome Mobile</td>\n",
       "      <td>1</td>\n",
       "    </tr>\n",
       "    <tr>\n",
       "      <th>8064</th>\n",
       "      <td>ffb79718-6f25-4896-b6b3-e58b80a6e147</td>\n",
       "      <td>control</td>\n",
       "      <td>2020-07-09</td>\n",
       "      <td>7</td>\n",
       "      <td>Generic Smartphone</td>\n",
       "      <td>6</td>\n",
       "      <td>Chrome Mobile</td>\n",
       "      <td>0</td>\n",
       "    </tr>\n",
       "    <tr>\n",
       "      <th>8069</th>\n",
       "      <td>ffca1153-c182-4f32-9e90-2a6008417497</td>\n",
       "      <td>control</td>\n",
       "      <td>2020-07-10</td>\n",
       "      <td>16</td>\n",
       "      <td>Generic Smartphone</td>\n",
       "      <td>6</td>\n",
       "      <td>Chrome Mobile</td>\n",
       "      <td>0</td>\n",
       "    </tr>\n",
       "    <tr>\n",
       "      <th>8071</th>\n",
       "      <td>ffdfdc09-48c7-4bfb-80f8-ec1eb633602b</td>\n",
       "      <td>exposed</td>\n",
       "      <td>2020-07-03</td>\n",
       "      <td>4</td>\n",
       "      <td>Generic Smartphone</td>\n",
       "      <td>6</td>\n",
       "      <td>Chrome Mobile</td>\n",
       "      <td>0</td>\n",
       "    </tr>\n",
       "  </tbody>\n",
       "</table>\n",
       "<p>1243 rows × 8 columns</p>\n",
       "</div>"
      ],
      "text/plain": [
       "                                auction_id experiment        date  hour  \\\n",
       "2     0016d14a-ae18-4a02-a204-6ba53b52f2ed    exposed  2020-07-05     2   \n",
       "16    008aafdf-deef-4482-8fec-d98e3da054da    exposed  2020-07-04    16   \n",
       "20    00a1384a-5118-4d1b-925b-6cdada50318d    exposed  2020-07-06     8   \n",
       "23    00b6fadb-10bd-49e3-a778-290da82f7a8d    control  2020-07-08     4   \n",
       "27    00ebf4a8-060f-4b99-93ac-c62724399483    control  2020-07-03    15   \n",
       "...                                    ...        ...         ...   ...   \n",
       "8059  ffa08ff9-a132-4051-aef5-01a9c79367bc    exposed  2020-07-05    21   \n",
       "8063  ffb176df-ecd2-45d3-b05f-05b173a093a7    exposed  2020-07-04     1   \n",
       "8064  ffb79718-6f25-4896-b6b3-e58b80a6e147    control  2020-07-09     7   \n",
       "8069  ffca1153-c182-4f32-9e90-2a6008417497    control  2020-07-10    16   \n",
       "8071  ffdfdc09-48c7-4bfb-80f8-ec1eb633602b    exposed  2020-07-03     4   \n",
       "\n",
       "             device_make  platform_os                browser  yes  \n",
       "2                  E5823            6  Chrome Mobile WebView    0  \n",
       "16    Generic Smartphone            6          Chrome Mobile    1  \n",
       "20    Generic Smartphone            6          Chrome Mobile    0  \n",
       "23      Samsung SM-A202F            6               Facebook    1  \n",
       "27    Generic Smartphone            6          Chrome Mobile    0  \n",
       "...                  ...          ...                    ...  ...  \n",
       "8059  Generic Smartphone            6          Chrome Mobile    1  \n",
       "8063  Generic Smartphone            6          Chrome Mobile    1  \n",
       "8064  Generic Smartphone            6          Chrome Mobile    0  \n",
       "8069  Generic Smartphone            6          Chrome Mobile    0  \n",
       "8071  Generic Smartphone            6          Chrome Mobile    0  \n",
       "\n",
       "[1243 rows x 8 columns]"
      ]
     },
     "execution_count": 4,
     "metadata": {},
     "output_type": "execute_result"
    }
   ],
   "source": [
    "adsmart_data = pd.read_csv(\"../data/ad_smart.csv\")\n",
    "adsmart_data = adsmart_data[(adsmart_data.yes == 1) | (adsmart_data.no == 1)].drop(columns=['no'])\n",
    "adsmart_data"
   ]
  },
  {
   "cell_type": "code",
   "execution_count": 15,
   "metadata": {},
   "outputs": [
    {
     "data": {
      "text/html": [
       "<div>\n",
       "<style scoped>\n",
       "    .dataframe tbody tr th:only-of-type {\n",
       "        vertical-align: middle;\n",
       "    }\n",
       "\n",
       "    .dataframe tbody tr th {\n",
       "        vertical-align: top;\n",
       "    }\n",
       "\n",
       "    .dataframe thead th {\n",
       "        text-align: right;\n",
       "    }\n",
       "</style>\n",
       "<table border=\"1\" class=\"dataframe\">\n",
       "  <thead>\n",
       "    <tr style=\"text-align: right;\">\n",
       "      <th></th>\n",
       "      <th></th>\n",
       "      <th></th>\n",
       "      <th>sum</th>\n",
       "      <th>count</th>\n",
       "    </tr>\n",
       "    <tr>\n",
       "      <th>experiment</th>\n",
       "      <th>platform_os</th>\n",
       "      <th>browser</th>\n",
       "      <th></th>\n",
       "      <th></th>\n",
       "    </tr>\n",
       "  </thead>\n",
       "  <tbody>\n",
       "    <tr>\n",
       "      <th rowspan=\"9\" valign=\"top\">control</th>\n",
       "      <th rowspan=\"3\" valign=\"top\">5</th>\n",
       "      <th>Chrome Mobile iOS</th>\n",
       "      <td>1</td>\n",
       "      <td>1</td>\n",
       "    </tr>\n",
       "    <tr>\n",
       "      <th>Mobile Safari</th>\n",
       "      <td>3</td>\n",
       "      <td>9</td>\n",
       "    </tr>\n",
       "    <tr>\n",
       "      <th>Mobile Safari UI/WKWebView</th>\n",
       "      <td>0</td>\n",
       "      <td>3</td>\n",
       "    </tr>\n",
       "    <tr>\n",
       "      <th rowspan=\"6\" valign=\"top\">6</th>\n",
       "      <th>Chrome</th>\n",
       "      <td>0</td>\n",
       "      <td>1</td>\n",
       "    </tr>\n",
       "    <tr>\n",
       "      <th>Chrome Mobile</th>\n",
       "      <td>144</td>\n",
       "      <td>324</td>\n",
       "    </tr>\n",
       "    <tr>\n",
       "      <th>Chrome Mobile WebView</th>\n",
       "      <td>18</td>\n",
       "      <td>47</td>\n",
       "    </tr>\n",
       "    <tr>\n",
       "      <th>Facebook</th>\n",
       "      <td>53</td>\n",
       "      <td>112</td>\n",
       "    </tr>\n",
       "    <tr>\n",
       "      <th>Mobile Safari</th>\n",
       "      <td>0</td>\n",
       "      <td>1</td>\n",
       "    </tr>\n",
       "    <tr>\n",
       "      <th>Samsung Internet</th>\n",
       "      <td>45</td>\n",
       "      <td>88</td>\n",
       "    </tr>\n",
       "    <tr>\n",
       "      <th rowspan=\"6\" valign=\"top\">exposed</th>\n",
       "      <th>5</th>\n",
       "      <th>Mobile Safari</th>\n",
       "      <td>1</td>\n",
       "      <td>4</td>\n",
       "    </tr>\n",
       "    <tr>\n",
       "      <th rowspan=\"5\" valign=\"top\">6</th>\n",
       "      <th>Chrome</th>\n",
       "      <td>1</td>\n",
       "      <td>1</td>\n",
       "    </tr>\n",
       "    <tr>\n",
       "      <th>Chrome Mobile</th>\n",
       "      <td>170</td>\n",
       "      <td>371</td>\n",
       "    </tr>\n",
       "    <tr>\n",
       "      <th>Chrome Mobile WebView</th>\n",
       "      <td>98</td>\n",
       "      <td>180</td>\n",
       "    </tr>\n",
       "    <tr>\n",
       "      <th>Facebook</th>\n",
       "      <td>16</td>\n",
       "      <td>44</td>\n",
       "    </tr>\n",
       "    <tr>\n",
       "      <th>Samsung Internet</th>\n",
       "      <td>22</td>\n",
       "      <td>57</td>\n",
       "    </tr>\n",
       "  </tbody>\n",
       "</table>\n",
       "</div>"
      ],
      "text/plain": [
       "                                                   sum  count\n",
       "experiment platform_os browser                               \n",
       "control    5           Chrome Mobile iOS             1      1\n",
       "                       Mobile Safari                 3      9\n",
       "                       Mobile Safari UI/WKWebView    0      3\n",
       "           6           Chrome                        0      1\n",
       "                       Chrome Mobile               144    324\n",
       "                       Chrome Mobile WebView        18     47\n",
       "                       Facebook                     53    112\n",
       "                       Mobile Safari                 0      1\n",
       "                       Samsung Internet             45     88\n",
       "exposed    5           Mobile Safari                 1      4\n",
       "           6           Chrome                        1      1\n",
       "                       Chrome Mobile               170    371\n",
       "                       Chrome Mobile WebView        98    180\n",
       "                       Facebook                     16     44\n",
       "                       Samsung Internet             22     57"
      ]
     },
     "execution_count": 15,
     "metadata": {},
     "output_type": "execute_result"
    }
   ],
   "source": [
    "adsmart_data.groupby(['experiment', 'platform_os', 'browser']).yes.agg([\"sum\", \"count\"])"
   ]
  },
  {
   "cell_type": "markdown",
   "metadata": {},
   "source": [
    "В каждой страте считается взвешенная оценка дисперсии: \n",
    "* $var_{strat}(Ŷ_{strat})=\\frac{1}{n}\\sum_{i=1}^{k}p_i \\sigma_i^2$\n",
    "* $p_i$ — вероятность попадания в страту (вес)\n",
    "* $\\sigma_i^2$ — дисперсия по страте.<br>"
   ]
  },
  {
   "cell_type": "code",
   "execution_count": 37,
   "metadata": {},
   "outputs": [
    {
     "data": {
      "text/html": [
       "<div>\n",
       "<style scoped>\n",
       "    .dataframe tbody tr th:only-of-type {\n",
       "        vertical-align: middle;\n",
       "    }\n",
       "\n",
       "    .dataframe tbody tr th {\n",
       "        vertical-align: top;\n",
       "    }\n",
       "\n",
       "    .dataframe thead th {\n",
       "        text-align: right;\n",
       "    }\n",
       "</style>\n",
       "<table border=\"1\" class=\"dataframe\">\n",
       "  <thead>\n",
       "    <tr style=\"text-align: right;\">\n",
       "      <th></th>\n",
       "      <th></th>\n",
       "      <th>sum</th>\n",
       "      <th>count</th>\n",
       "      <th>mean</th>\n",
       "      <th>var</th>\n",
       "      <th>weight</th>\n",
       "    </tr>\n",
       "    <tr>\n",
       "      <th>platform_os</th>\n",
       "      <th>browser</th>\n",
       "      <th></th>\n",
       "      <th></th>\n",
       "      <th></th>\n",
       "      <th></th>\n",
       "      <th></th>\n",
       "    </tr>\n",
       "  </thead>\n",
       "  <tbody>\n",
       "    <tr>\n",
       "      <th rowspan=\"3\" valign=\"top\">5</th>\n",
       "      <th>Chrome Mobile iOS</th>\n",
       "      <td>1</td>\n",
       "      <td>1</td>\n",
       "      <td>1.000000</td>\n",
       "      <td>NaN</td>\n",
       "      <td>0.001706</td>\n",
       "    </tr>\n",
       "    <tr>\n",
       "      <th>Mobile Safari</th>\n",
       "      <td>3</td>\n",
       "      <td>9</td>\n",
       "      <td>0.333333</td>\n",
       "      <td>0.250000</td>\n",
       "      <td>0.015358</td>\n",
       "    </tr>\n",
       "    <tr>\n",
       "      <th>Mobile Safari UI/WKWebView</th>\n",
       "      <td>0</td>\n",
       "      <td>3</td>\n",
       "      <td>0.000000</td>\n",
       "      <td>0.000000</td>\n",
       "      <td>0.005119</td>\n",
       "    </tr>\n",
       "    <tr>\n",
       "      <th rowspan=\"6\" valign=\"top\">6</th>\n",
       "      <th>Chrome</th>\n",
       "      <td>0</td>\n",
       "      <td>1</td>\n",
       "      <td>0.000000</td>\n",
       "      <td>NaN</td>\n",
       "      <td>0.001706</td>\n",
       "    </tr>\n",
       "    <tr>\n",
       "      <th>Chrome Mobile</th>\n",
       "      <td>144</td>\n",
       "      <td>324</td>\n",
       "      <td>0.444444</td>\n",
       "      <td>0.247678</td>\n",
       "      <td>0.552901</td>\n",
       "    </tr>\n",
       "    <tr>\n",
       "      <th>Chrome Mobile WebView</th>\n",
       "      <td>18</td>\n",
       "      <td>47</td>\n",
       "      <td>0.382979</td>\n",
       "      <td>0.241443</td>\n",
       "      <td>0.080205</td>\n",
       "    </tr>\n",
       "    <tr>\n",
       "      <th>Facebook</th>\n",
       "      <td>53</td>\n",
       "      <td>112</td>\n",
       "      <td>0.473214</td>\n",
       "      <td>0.251528</td>\n",
       "      <td>0.191126</td>\n",
       "    </tr>\n",
       "    <tr>\n",
       "      <th>Mobile Safari</th>\n",
       "      <td>0</td>\n",
       "      <td>1</td>\n",
       "      <td>0.000000</td>\n",
       "      <td>NaN</td>\n",
       "      <td>0.001706</td>\n",
       "    </tr>\n",
       "    <tr>\n",
       "      <th>Samsung Internet</th>\n",
       "      <td>45</td>\n",
       "      <td>88</td>\n",
       "      <td>0.511364</td>\n",
       "      <td>0.252743</td>\n",
       "      <td>0.150171</td>\n",
       "    </tr>\n",
       "  </tbody>\n",
       "</table>\n",
       "</div>"
      ],
      "text/plain": [
       "                                        sum  count      mean       var  \\\n",
       "platform_os browser                                                      \n",
       "5           Chrome Mobile iOS             1      1  1.000000       NaN   \n",
       "            Mobile Safari                 3      9  0.333333  0.250000   \n",
       "            Mobile Safari UI/WKWebView    0      3  0.000000  0.000000   \n",
       "6           Chrome                        0      1  0.000000       NaN   \n",
       "            Chrome Mobile               144    324  0.444444  0.247678   \n",
       "            Chrome Mobile WebView        18     47  0.382979  0.241443   \n",
       "            Facebook                     53    112  0.473214  0.251528   \n",
       "            Mobile Safari                 0      1  0.000000       NaN   \n",
       "            Samsung Internet             45     88  0.511364  0.252743   \n",
       "\n",
       "                                          weight  \n",
       "platform_os browser                               \n",
       "5           Chrome Mobile iOS           0.001706  \n",
       "            Mobile Safari               0.015358  \n",
       "            Mobile Safari UI/WKWebView  0.005119  \n",
       "6           Chrome                      0.001706  \n",
       "            Chrome Mobile               0.552901  \n",
       "            Chrome Mobile WebView       0.080205  \n",
       "            Facebook                    0.191126  \n",
       "            Mobile Safari               0.001706  \n",
       "            Samsung Internet            0.150171  "
      ]
     },
     "execution_count": 37,
     "metadata": {},
     "output_type": "execute_result"
    }
   ],
   "source": [
    "A = adsmart_data[adsmart_data.experiment == 'control'].drop(columns=['experiment'])\n",
    "\n",
    "def weight(x):\n",
    "    return len(x) / len(A)\n",
    "\n",
    "A_strats = A.groupby(['platform_os', 'browser']).yes.agg([\"sum\", \"count\", \"mean\", \"var\", weight])\n",
    "A_strats"
   ]
  },
  {
   "cell_type": "markdown",
   "metadata": {},
   "source": [
    "За счёт избавления от дисперсии между стратами суммарная дисперсия сокращается."
   ]
  },
  {
   "cell_type": "code",
   "execution_count": 42,
   "metadata": {},
   "outputs": [
    {
     "data": {
      "text/plain": [
       "0.001799941852853315"
      ]
     },
     "execution_count": 42,
     "metadata": {},
     "output_type": "execute_result"
    }
   ],
   "source": [
    "strat_var = (A_strats['var'] * A_strats['weight']).dropna().sum()\n",
    "A.yes.var() - strat_var"
   ]
  },
  {
   "cell_type": "markdown",
   "metadata": {},
   "source": [
    "При этом среднее стратифицированное будет равно среднему по ГС: $E_{strat}(Ŷ_{strat})=\\sum_{i=1}^{k}p_i E_{strat}(\\overline Y_i) = \\sum_{i=1}^{k}p_i \\mu_i = \\mu$"
   ]
  },
  {
   "cell_type": "code",
   "execution_count": 44,
   "metadata": {},
   "outputs": [
    {
     "data": {
      "text/plain": [
       "-5.551115123125783e-17"
      ]
     },
     "execution_count": 44,
     "metadata": {},
     "output_type": "execute_result"
    }
   ],
   "source": [
    "A.yes.mean() - (A_strats['mean'] * A_strats['weight']).sum()"
   ]
  },
  {
   "cell_type": "markdown",
   "metadata": {},
   "source": [
    "Отсюда неизменность знака lift'а (оценка среднего не будет отличаться по знаку)"
   ]
  },
  {
   "cell_type": "markdown",
   "metadata": {},
   "source": [
    "Плохо подобранные переменные для стратификации могут увеличить дисперсию:"
   ]
  },
  {
   "cell_type": "code",
   "execution_count": 61,
   "metadata": {},
   "outputs": [
    {
     "name": "stdout",
     "output_type": "stream",
     "text": [
      "Разбиений на страты, увеличивших дисперсию: 12/20\n"
     ]
    }
   ],
   "source": [
    "bad_strats = 0\n",
    "c = 20\n",
    "for i in range(20):\n",
    "    A['random_strats'] = np.random.randint(0, len(A_strats), size=len(A))\n",
    "    random_groupped = A.groupby(['random_strats']).yes.agg([\"var\", weight])\n",
    "    random_strat_var = (random_groupped['var'] * random_groupped['weight']).dropna().sum()\n",
    "    A.drop(columns=['random_strats'])\n",
    "    bad_strats += A.yes.var() - random_strat_var < 0\n",
    "print('Разбиений на страты, увеличивших дисперсию: {}/{}'.format(bad_strats, c))"
   ]
  },
  {
   "cell_type": "markdown",
   "metadata": {},
   "source": [
    "## CUPED — Controlled-experiment Using Pre-Experiment Data"
   ]
  },
  {
   "cell_type": "markdown",
   "metadata": {},
   "source": [
    "$Y'_i = Y_i - (X_i - \\mu_X) \\Theta$\n",
    "\n",
    "$Y' = \\overline Y - (\\overline X - \\mu_X) \\Theta$\n",
    "* $Y$ — метрика во время проведения эксперимента\n",
    "* $X$ — метрика до проведения эксперимента\n",
    "* $\\Theta = \\frac{cov(X, Y)}{var(X)}$"
   ]
  },
  {
   "cell_type": "markdown",
   "metadata": {},
   "source": [
    "$var(Y_{CUPED}) = var(\\overline Y - \\Theta \\overline X) = \\frac{1}{n}var(Y - \\Theta X) = \\frac{1}{n}[var(Y) + \\Theta^2 var(X) - 2 \\Theta cov(Y, X)]$\n",
    "\n",
    "Выбор $\\Theta$ таков, что дисперсия минимизируется."
   ]
  },
  {
   "cell_type": "markdown",
   "metadata": {},
   "source": [
    "$var(Y_{CUPED}) = \\frac{1}{n}(var(Y) + \\frac{cov^2(Y, X)}{var(X)} - 2 \\frac{cov^2(Y, X)}{var(X)}) = \\frac{1}{n}(var(Y) - \\frac{cov^2(Y, X)}{var(X)}) =\n",
    "\\frac{1}{n}var(Y)(1 - \\frac{cov^2(Y, X)}{var(X)var(Y)}) = var(\\overline Y)(1 - cor^2(X, Y))$\n",
    "\n",
    "$$\\frac{var(Y_{CUPED})}{var(\\overline Y)} = (1 - cor^2(X, Y))$$"
   ]
  },
  {
   "cell_type": "markdown",
   "metadata": {},
   "source": [
    "Оценка CUPED **несмещенная** за счёт вычитания $\\mu_X$"
   ]
  },
  {
   "cell_type": "markdown",
   "metadata": {},
   "source": [
    "$ATE$ — Average Treatment Effect<br>\n",
    "$ATE = Y_{B_{CUPED}} - Y_{A_{CUPED}}$"
   ]
  },
  {
   "cell_type": "markdown",
   "metadata": {},
   "source": [
    "Можно использовать в качестве X что угодно, сокращающее $1 - cor^2(X, Y)$"
   ]
  },
  {
   "cell_type": "markdown",
   "metadata": {},
   "source": [
    "CUPAC — Controlled-experiment Using Prediction As Covariate"
   ]
  },
  {
   "cell_type": "code",
   "execution_count": null,
   "metadata": {},
   "outputs": [],
   "source": []
  }
 ],
 "metadata": {
  "kernelspec": {
   "display_name": ".venv",
   "language": "python",
   "name": "python3"
  },
  "language_info": {
   "codemirror_mode": {
    "name": "ipython",
    "version": 3
   },
   "file_extension": ".py",
   "mimetype": "text/x-python",
   "name": "python",
   "nbconvert_exporter": "python",
   "pygments_lexer": "ipython3",
   "version": "3.9.7"
  }
 },
 "nbformat": 4,
 "nbformat_minor": 2
}
